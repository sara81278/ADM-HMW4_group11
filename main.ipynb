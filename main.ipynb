{
 "cells": [
  {
   "cell_type": "markdown",
   "id": "0f947382-a4ad-48ea-8be4-2186c6271dc7",
   "metadata": {},
   "source": [
    "# 1. Finding Similar Costumers"
   ]
  },
  {
   "cell_type": "code",
   "execution_count": 125,
   "id": "dd56e9aa-a602-40e5-b7dd-8a6f11f91a69",
   "metadata": {},
   "outputs": [],
   "source": [
    "import pandas as pd\n",
    "from datetime import datetime, timedelta\n",
    "import numpy as np\n",
    "from collections import Counter"
   ]
  },
  {
   "cell_type": "code",
   "execution_count": 126,
   "id": "ce3d018b-da6d-4532-b643-0c98ef2b0893",
   "metadata": {},
   "outputs": [],
   "source": [
    "customers_data = pd.read_csv('bank_transactions.csv', delimiter=',')"
   ]
  },
  {
   "cell_type": "markdown",
   "id": "959f52cf-4cbf-4280-9f0a-f7f0c386e287",
   "metadata": {},
   "source": [
    "## Clean the Data Set"
   ]
  },
  {
   "cell_type": "code",
   "execution_count": 128,
   "id": "820ac0ed-f0a2-4320-b92e-ad0febbd59ef",
   "metadata": {},
   "outputs": [
    {
     "name": "stdout",
     "output_type": "stream",
     "text": [
      "<class 'pandas.core.frame.DataFrame'>\n",
      "RangeIndex: 1048567 entries, 0 to 1048566\n",
      "Data columns (total 9 columns):\n",
      " #   Column                   Non-Null Count    Dtype  \n",
      "---  ------                   --------------    -----  \n",
      " 0   TransactionID            1048567 non-null  object \n",
      " 1   CustomerID               1048567 non-null  object \n",
      " 2   CustomerDOB              1045170 non-null  object \n",
      " 3   CustGender               1047467 non-null  object \n",
      " 4   CustLocation             1048416 non-null  object \n",
      " 5   CustAccountBalance       1046198 non-null  float64\n",
      " 6   TransactionDate          1048567 non-null  object \n",
      " 7   TransactionTime          1048567 non-null  int64  \n",
      " 8   TransactionAmount (INR)  1048567 non-null  float64\n",
      "dtypes: float64(2), int64(1), object(6)\n",
      "memory usage: 72.0+ MB\n"
     ]
    }
   ],
   "source": [
    "customers_data.info()"
   ]
  },
  {
   "cell_type": "markdown",
   "id": "986a2955-4f80-4ecd-8504-83e2982d3209",
   "metadata": {},
   "source": [
    "Let's start with some basic exploration of the Data Set: we have 9 columns with and 1041614 rows. The first thing that we do, of course, is drop **NA** values. Moving forward, we can see that some of the rows are supposed to be of type **datetime**, but results in int or object: let's convert them."
   ]
  },
  {
   "cell_type": "code",
   "execution_count": 130,
   "id": "a88f152e-861b-44a5-a423-d19084841f07",
   "metadata": {},
   "outputs": [],
   "source": [
    "customers_data.dropna(inplace=True)"
   ]
  },
  {
   "cell_type": "code",
   "execution_count": 131,
   "id": "423cfdc4-fccd-4e39-9dc7-f5a29362fb35",
   "metadata": {},
   "outputs": [],
   "source": [
    "customers_data.CustomerDOB = pd.to_datetime(customers_data.CustomerDOB)"
   ]
  },
  {
   "cell_type": "code",
   "execution_count": 132,
   "id": "6c0b8dd3-9018-4e90-af36-b281ab46c893",
   "metadata": {},
   "outputs": [],
   "source": [
    "def convert_time(value):\n",
    "    sec = str(value % 100)\n",
    "    minutes = str((value //100) %100)\n",
    "    hours = str((value // 10000) %100)\n",
    "    return datetime.strptime(str(hours)+\":\"+str(minutes)+\":\"+str(sec), '%H:%M:%S').time()\n"
   ]
  },
  {
   "cell_type": "code",
   "execution_count": 133,
   "id": "cfdcc6b6-8d4f-4a23-8272-94f198016bc2",
   "metadata": {},
   "outputs": [],
   "source": [
    "customers_data.TransactionTime = customers_data.TransactionTime.apply(lambda row: convert_time(row))"
   ]
  },
  {
   "cell_type": "code",
   "execution_count": 134,
   "id": "0e1f0cb5-94d8-41f0-918f-8dcf84bec8c1",
   "metadata": {},
   "outputs": [],
   "source": [
    "customers_data.TransactionDate = pd.to_datetime(customers_data.TransactionDate)"
   ]
  },
  {
   "cell_type": "markdown",
   "id": "16fdafa4-8385-4246-8e78-1eac0c73803f",
   "metadata": {},
   "source": [
    "Let's do some exploration of the column, starting from the date of birth of the costumers. From the histogram below, we see that there are some inconsistencies. In fact, it's not likely that there are some costumers born in 1800, but still alive. In the same way, it's not possible that we have some costumer that are less than 16 years old or that are yet to be born.  \n",
    "\n",
    "In the first case, let's just drop the columns because there are really few entries and we just assume it was just dirty data.\n",
    "\n",
    "In the second case, let's assume there was a erroneous offset of 100 years."
   ]
  },
  {
   "cell_type": "code",
   "execution_count": 136,
   "id": "0269d014-444d-4963-8bc0-8c7e0cd648ec",
   "metadata": {},
   "outputs": [
    {
     "data": {
      "text/plain": [
       "<AxesSubplot:>"
      ]
     },
     "execution_count": 136,
     "metadata": {},
     "output_type": "execute_result"
    },
    {
     "data": {
      "image/png": "[encoded data removed]",
      "text/plain": [
       "<Figure size 576x396 with 1 Axes>"
      ]
     },
     "metadata": {},
     "output_type": "display_data"
    }
   ],
   "source": [
    "customers_data.CustomerDOB.dt.year.hist(bins=50)"
   ]
  },
  {
   "cell_type": "code",
   "execution_count": 137,
   "id": "072e7a52-f8da-442c-b9be-c9126842e6f2",
   "metadata": {},
   "outputs": [],
   "source": [
    "customers_data.loc[customers_data.CustomerDOB.dt.year >2000, 'CustomerDOB'] = customers_data.loc[customers_data.CustomerDOB.dt.year > 2000, 'CustomerDOB'] - pd.DateOffset(years = 100)"
   ]
  },
  {
   "cell_type": "code",
   "execution_count": 138,
   "id": "a95f5494-2106-4d84-9998-4d8e91f5bbc1",
   "metadata": {},
   "outputs": [],
   "source": [
    "customers_data.drop(customers_data[customers_data.CustomerDOB.dt.year == 1800].index, axis = 0, inplace=True)"
   ]
  },
  {
   "cell_type": "markdown",
   "id": "5f4ced48-1afd-4cf8-a52b-8f3211c74d1a",
   "metadata": {},
   "source": [
    "Now that we fixed the Date of Birth column, we can add a new column based on it that gives us customer's age."
   ]
  },
  {
   "cell_type": "code",
   "execution_count": 139,
   "id": "d9d311bb-116e-4d80-9c5a-1d9cc8e56a01",
   "metadata": {},
   "outputs": [],
   "source": [
    "customers_data['CustomerAge'] = (( pd.to_datetime('today') - customers_data.CustomerDOB ) / np.timedelta64(1, 'Y')).round(0)\n",
    "customers_data['CustomerAge'] = customers_data['CustomerAge'].astype(int)"
   ]
  },
  {
   "cell_type": "markdown",
   "id": "59224e4e-4b2b-4076-8f56-5c965e33418e",
   "metadata": {},
   "source": [
    "Before adding new columns on which we are gonna calculate the minHash, let's just take a look at the Customer Identifier. We take, for example the customer with id 'C1010081'"
   ]
  },
  {
   "cell_type": "code",
   "execution_count": 141,
   "id": "deeb3efe-7eb3-4829-ae3d-9d9f5810066d",
   "metadata": {},
   "outputs": [
    {
     "data": {
      "text/html": [
       "<div>\n",
       "<style scoped>\n",
       "    .dataframe tbody tr th:only-of-type {\n",
       "        vertical-align: middle;\n",
       "    }\n",
       "\n",
       "    .dataframe tbody tr th {\n",
       "        vertical-align: top;\n",
       "    }\n",
       "\n",
       "    .dataframe thead th {\n",
       "        text-align: right;\n",
       "    }\n",
       "</style>\n",
       "<table border=\"1\" class=\"dataframe\">\n",
       "  <thead>\n",
       "    <tr style=\"text-align: right;\">\n",
       "      <th></th>\n",
       "      <th>TransactionID</th>\n",
       "      <th>CustomerID</th>\n",
       "      <th>CustomerDOB</th>\n",
       "      <th>CustGender</th>\n",
       "      <th>CustLocation</th>\n",
       "      <th>CustAccountBalance</th>\n",
       "      <th>TransactionDate</th>\n",
       "      <th>TransactionTime</th>\n",
       "      <th>TransactionAmount (INR)</th>\n",
       "      <th>CustomerAge</th>\n",
       "    </tr>\n",
       "  </thead>\n",
       "  <tbody>\n",
       "    <tr>\n",
       "      <th>113705</th>\n",
       "      <td>T113706</td>\n",
       "      <td>C1010081</td>\n",
       "      <td>1984-11-02</td>\n",
       "      <td>F</td>\n",
       "      <td>HOWRAH</td>\n",
       "      <td>17.71</td>\n",
       "      <td>2016-06-08</td>\n",
       "      <td>14:58:28</td>\n",
       "      <td>2856.0</td>\n",
       "      <td>38</td>\n",
       "    </tr>\n",
       "    <tr>\n",
       "      <th>329016</th>\n",
       "      <td>T329017</td>\n",
       "      <td>C1010081</td>\n",
       "      <td>1977-02-09</td>\n",
       "      <td>F</td>\n",
       "      <td>PANCHKULA</td>\n",
       "      <td>23319.04</td>\n",
       "      <td>2016-08-15</td>\n",
       "      <td>17:26:58</td>\n",
       "      <td>1699.0</td>\n",
       "      <td>46</td>\n",
       "    </tr>\n",
       "    <tr>\n",
       "      <th>347495</th>\n",
       "      <td>T347496</td>\n",
       "      <td>C1010081</td>\n",
       "      <td>1989-01-05</td>\n",
       "      <td>M</td>\n",
       "      <td>GHAZIABAD</td>\n",
       "      <td>1584.18</td>\n",
       "      <td>2016-08-14</td>\n",
       "      <td>14:47:42</td>\n",
       "      <td>429.0</td>\n",
       "      <td>34</td>\n",
       "    </tr>\n",
       "  </tbody>\n",
       "</table>\n",
       "</div>"
      ],
      "text/plain": [
       "       TransactionID CustomerID CustomerDOB CustGender CustLocation  \\\n",
       "113705       T113706   C1010081  1984-11-02          F       HOWRAH   \n",
       "329016       T329017   C1010081  1977-02-09          F    PANCHKULA   \n",
       "347495       T347496   C1010081  1989-01-05          M    GHAZIABAD   \n",
       "\n",
       "        CustAccountBalance TransactionDate TransactionTime  \\\n",
       "113705               17.71      2016-06-08        14:58:28   \n",
       "329016            23319.04      2016-08-15        17:26:58   \n",
       "347495             1584.18      2016-08-14        14:47:42   \n",
       "\n",
       "        TransactionAmount (INR)  CustomerAge  \n",
       "113705                   2856.0           38  \n",
       "329016                   1699.0           46  \n",
       "347495                    429.0           34  "
      ]
     },
     "execution_count": 141,
     "metadata": {},
     "output_type": "execute_result"
    }
   ],
   "source": [
    "customers_data.loc[customers_data.loc[:, 'CustomerID'] =='C1010081']"
   ]
  },
  {
   "cell_type": "markdown",
   "id": "5c974c21-fd81-40c5-86ef-a8fb4abd6918",
   "metadata": {},
   "source": [
    "As we can see above, the Customer ID makes absolutely no sense: this customer has, at the same time, three different dates of birth, two different genders, three different account balance and three different locations. We could justify the gender and the date of birth difference by assuming that two different people are using the same bank account, but even in this way, we can't explain the difference in balance and location.\n",
    "Given that we can't rely on the pre-existing CustomerID, there are two assumptions that we can make:\n",
    "\n",
    "- Every row is a different customer.\n",
    "- A customer has to have the same CustomerDOB, CustGender, CustLocation and CustAccountBalance: one could argue that if two people use the same bank account they don't have to have the same date of birth or the same gender, but to that, I respond that, as we will see later on, the data manipulations we are gonna make are based on the behaviour of a single customer, not on the behaviour of the people that use the same account.\n",
    "\n",
    "Both of the assumptions make sense and, at the same time, we can argue about both of them, but I'm gonna go with the second one because we can get more useful and interesting pieces of information if we assume that the second one is True."
   ]
  },
  {
   "cell_type": "markdown",
   "id": "bd317f5c-399e-4305-b46f-8abd2e64196a",
   "metadata": {},
   "source": [
    "## Create new columns"
   ]
  },
  {
   "cell_type": "markdown",
   "id": "4883ff28-bebe-4761-8b89-65745003422d",
   "metadata": {},
   "source": [
    "First of all, let's create a new ID. Like said before, our new id groups the customers by date of birth, account balance, location and geneder.\n",
    "To do that, I create a dictionary of ID, where the key is the four information and the value is the new id. The new id has the form 'CUST'+progressive number."
   ]
  },
  {
   "cell_type": "code",
   "execution_count": 142,
   "id": "3c645410-21b2-49c1-8c3b-98b5a8f07a69",
   "metadata": {},
   "outputs": [],
   "source": [
    "newIdsDict = {}\n",
    "j=0\n",
    "def createNewId(d):\n",
    "    global j\n",
    "    try:\n",
    "        return newIdsDict[d['CustomerDOB'], d['CustAccountBalance'], d['CustLocation'], d['CustGender']] \n",
    "    except KeyError as e:\n",
    "        newIdsDict[d['CustomerDOB'], d['CustAccountBalance'], d['CustLocation'], d['CustGender']] = 'CUST'+  str(j)\n",
    "        j+=1\n",
    "        return newIdsDict[d['CustomerDOB'], d['CustAccountBalance'], d['CustLocation'], d['CustGender']]     "
   ]
  },
  {
   "cell_type": "markdown",
   "id": "f3418fae-bc46-40d9-bf32-5b9fe3a897c5",
   "metadata": {},
   "source": [
    "Later, we will compute the Average Transaction Amount, meaning the average amount a customer spends on a single transaction. After getting this data, we will calculate the percentage, meaning how this average amount relates with the overall account balance."
   ]
  },
  {
   "cell_type": "code",
   "execution_count": 143,
   "id": "5610afe8-d575-4cdf-8038-b6aa20c88373",
   "metadata": {},
   "outputs": [],
   "source": [
    "transactionPercentage = {}\n",
    "def getTransactionPercentage(d):\n",
    "    try:\n",
    "        return transactionPercentage[d['MyCustomerID']] \n",
    "    except KeyError as e:\n",
    "        safe_division = 0\n",
    "        if(d['CustAccountBalance'] == 0):\n",
    "            safe_division = 1\n",
    "        transactionPercentage[d['MyCustomerID']] = (d['AverageTransactionAmount']*100)/(d['CustAccountBalance']+safe_division)\n",
    "        return transactionPercentage[d['MyCustomerID']]     "
   ]
  },
  {
   "cell_type": "code",
   "execution_count": 144,
   "id": "4e5c0464-1f51-46b0-a3e0-1d8d38fad0c0",
   "metadata": {},
   "outputs": [],
   "source": [
    "def extractMostTime(values):\n",
    "    return Counter([0 if t < convert_time(193000) or t > convert_time(50000) else 1 for t in values]).most_common(1)[0][0]"
   ]
  },
  {
   "cell_type": "code",
   "execution_count": 145,
   "id": "b6f4036d-19b1-4e75-ace6-6584cb0d67b4",
   "metadata": {},
   "outputs": [],
   "source": [
    "def extractMax(values):\n",
    "    return Counter(list(values.dt.day_of_week)).most_common(1)[0][0]"
   ]
  },
  {
   "cell_type": "code",
   "execution_count": 146,
   "id": "8f992e0a-68b6-4e18-b63b-01a953543bac",
   "metadata": {},
   "outputs": [],
   "source": [
    "customers_data['MyCustomerID'] = customers_data.apply(createNewId, axis = 1)"
   ]
  },
  {
   "cell_type": "markdown",
   "id": "2f69e91e-b15e-4482-a04a-812ff385872c",
   "metadata": {},
   "source": [
    "To understand a customer's habits, we are interested in knowing which day of the week he spends more frequently. We can assume his personal habits based on this information: for example, if most transactions are made on the weekends, maybe he doesn't work on those days and goes out to spend on activities or stays home doing online shopping. Based on this, we could advise him on activities to do on the weekends or show him more ads on those days.\n",
    "But if most transactions are made on the weekdays, maybe he works on the weekends or, even if he doesn't, he doesn't like spending his money on recreational activities or compulsive shopping. So, maybe suggesting recreational activities is not the best option."
   ]
  },
  {
   "cell_type": "code",
   "execution_count": 148,
   "id": "f4944105-18f3-44b5-8b1c-1d95d69c97b7",
   "metadata": {},
   "outputs": [],
   "source": [
    "customers_data['MostFrequentDayOfWeek'] = customers_data.groupby('MyCustomerID')['TransactionDate'].transform(extractMax)"
   ]
  },
  {
   "cell_type": "markdown",
   "id": "796d2236-88b0-4690-8b98-bde3bf2ca46e",
   "metadata": {},
   "source": [
    "The most frequent time that transactions are made is another useful information. This new column contains a binary value: 0 if most transactions are made in the day and 1 if they are made at night. Based on the time most transactions are made, we can assume what the customer's interests are. For example, if he spends at night we can assume that he likes going out to bars/clubs/restaurants/other nights activities or that he stays home doing online shopping, maybe because he works in the mornings and afternoons."
   ]
  },
  {
   "cell_type": "code",
   "execution_count": 149,
   "id": "e8968aa2-9fc4-4592-a482-24ec0c7add25",
   "metadata": {},
   "outputs": [],
   "source": [
    "customers_data['MostFrequentTime'] = customers_data.groupby('MyCustomerID')['TransactionTime'].transform(extractMostTime)"
   ]
  },
  {
   "cell_type": "markdown",
   "id": "138e8e7e-5ff2-46f9-8bb5-8cb8848d5768",
   "metadata": {},
   "source": [
    "We are interested in the average amount that a customer spends at every transaction because we are trying to understand a customer's economic behaviour. Similar customers will have similar behaviours and hence, will spend more or less the same amount."
   ]
  },
  {
   "cell_type": "code",
   "execution_count": 150,
   "id": "b214d084-894b-455c-bf77-fd7b2f716a9d",
   "metadata": {},
   "outputs": [],
   "source": [
    "customers_data['AverageTransactionAmount'] = customers_data.groupby('MyCustomerID')['TransactionAmount (INR)'].transform('mean')"
   ]
  },
  {
   "cell_type": "markdown",
   "id": "2f3a7fea-59b8-4754-b2c8-9473ad0482da",
   "metadata": {},
   "source": [
    "Other than the average transaction amount, we are interested in knowing how much the customer spend if releted on how much he has on his bank account. Since we are talking about credit card (and not debit), this percentage can be above 100, because a customer can make debts that he will pay later on. This is a really useful information, because it will tell us if a customer is likely to make debts to buy the thing he wants/needs or if he is willing to spend a large percentage of his account balance. In other words, this information will let us know if a client is thrifty or willing to do large expenses."
   ]
  },
  {
   "cell_type": "code",
   "execution_count": 152,
   "id": "e0669f91-17e8-4223-8aa4-5f22b5fba510",
   "metadata": {},
   "outputs": [],
   "source": [
    "customers_data['TransactionPercentage'] = customers_data.apply(getTransactionPercentage, axis = 1)"
   ]
  },
  {
   "cell_type": "markdown",
   "id": "7e4363d4-503d-4da5-8097-b38275ed0f1f",
   "metadata": {},
   "source": [
    "Other columns we are interested for the Min-Hash, of course:\n",
    "- CustGender: the spending habits of a man and a woman can be different, hence this column will be considered for the Min-Hash.\n",
    "- CustAccountBalance: of course, the balance that a customer has on his bank account it's fundamental to determinate the similarity with another customer.\n",
    "- CustomerAge: the spending habits strongly depends on the customer's age. This is because people of different ages have different needs and, likely, different financial capacity."
   ]
  },
  {
   "cell_type": "code",
   "execution_count": 153,
   "id": "c67970a2-b22d-49dc-93ba-c6729992e0a9",
   "metadata": {},
   "outputs": [
    {
     "data": {
      "text/html": [
       "<div>\n",
       "<style scoped>\n",
       "    .dataframe tbody tr th:only-of-type {\n",
       "        vertical-align: middle;\n",
       "    }\n",
       "\n",
       "    .dataframe tbody tr th {\n",
       "        vertical-align: top;\n",
       "    }\n",
       "\n",
       "    .dataframe thead th {\n",
       "        text-align: right;\n",
       "    }\n",
       "</style>\n",
       "<table border=\"1\" class=\"dataframe\">\n",
       "  <thead>\n",
       "    <tr style=\"text-align: right;\">\n",
       "      <th></th>\n",
       "      <th>TransactionID</th>\n",
       "      <th>CustomerID</th>\n",
       "      <th>CustomerDOB</th>\n",
       "      <th>CustGender</th>\n",
       "      <th>CustLocation</th>\n",
       "      <th>CustAccountBalance</th>\n",
       "      <th>TransactionDate</th>\n",
       "      <th>TransactionTime</th>\n",
       "      <th>TransactionAmount (INR)</th>\n",
       "      <th>CustomerAge</th>\n",
       "      <th>MyCustomerID</th>\n",
       "      <th>MostFrequentDayOfWeek</th>\n",
       "      <th>MostFrequentTime</th>\n",
       "      <th>AverageTransactionAmount</th>\n",
       "      <th>TransactionPercentage</th>\n",
       "    </tr>\n",
       "  </thead>\n",
       "  <tbody>\n",
       "    <tr>\n",
       "      <th>0</th>\n",
       "      <td>T1</td>\n",
       "      <td>C5841053</td>\n",
       "      <td>1994-10-01</td>\n",
       "      <td>F</td>\n",
       "      <td>JAMSHEDPUR</td>\n",
       "      <td>17819.05</td>\n",
       "      <td>2016-02-08</td>\n",
       "      <td>14:32:07</td>\n",
       "      <td>25.0</td>\n",
       "      <td>28</td>\n",
       "      <td>CUST0</td>\n",
       "      <td>2</td>\n",
       "      <td>0</td>\n",
       "      <td>80.111111</td>\n",
       "      <td>0.449581</td>\n",
       "    </tr>\n",
       "    <tr>\n",
       "      <th>1</th>\n",
       "      <td>T2</td>\n",
       "      <td>C2142763</td>\n",
       "      <td>1957-04-04</td>\n",
       "      <td>M</td>\n",
       "      <td>JHAJJAR</td>\n",
       "      <td>2270.69</td>\n",
       "      <td>2016-02-08</td>\n",
       "      <td>14:18:58</td>\n",
       "      <td>27999.0</td>\n",
       "      <td>66</td>\n",
       "      <td>CUST1</td>\n",
       "      <td>0</td>\n",
       "      <td>0</td>\n",
       "      <td>9503.445000</td>\n",
       "      <td>418.526747</td>\n",
       "    </tr>\n",
       "    <tr>\n",
       "      <th>2</th>\n",
       "      <td>T3</td>\n",
       "      <td>C4417068</td>\n",
       "      <td>1996-11-26</td>\n",
       "      <td>F</td>\n",
       "      <td>MUMBAI</td>\n",
       "      <td>17874.44</td>\n",
       "      <td>2016-02-08</td>\n",
       "      <td>14:27:12</td>\n",
       "      <td>459.0</td>\n",
       "      <td>26</td>\n",
       "      <td>CUST2</td>\n",
       "      <td>6</td>\n",
       "      <td>0</td>\n",
       "      <td>940.348182</td>\n",
       "      <td>5.260854</td>\n",
       "    </tr>\n",
       "    <tr>\n",
       "      <th>3</th>\n",
       "      <td>T4</td>\n",
       "      <td>C5342380</td>\n",
       "      <td>1973-09-14</td>\n",
       "      <td>F</td>\n",
       "      <td>MUMBAI</td>\n",
       "      <td>866503.21</td>\n",
       "      <td>2016-02-08</td>\n",
       "      <td>14:27:14</td>\n",
       "      <td>2060.0</td>\n",
       "      <td>49</td>\n",
       "      <td>CUST3</td>\n",
       "      <td>0</td>\n",
       "      <td>0</td>\n",
       "      <td>2537.346923</td>\n",
       "      <td>0.292826</td>\n",
       "    </tr>\n",
       "    <tr>\n",
       "      <th>4</th>\n",
       "      <td>T5</td>\n",
       "      <td>C9031234</td>\n",
       "      <td>1988-03-24</td>\n",
       "      <td>F</td>\n",
       "      <td>NAVI MUMBAI</td>\n",
       "      <td>6714.43</td>\n",
       "      <td>2016-02-08</td>\n",
       "      <td>18:11:56</td>\n",
       "      <td>1762.5</td>\n",
       "      <td>35</td>\n",
       "      <td>CUST4</td>\n",
       "      <td>0</td>\n",
       "      <td>0</td>\n",
       "      <td>1606.135000</td>\n",
       "      <td>23.920646</td>\n",
       "    </tr>\n",
       "    <tr>\n",
       "      <th>...</th>\n",
       "      <td>...</td>\n",
       "      <td>...</td>\n",
       "      <td>...</td>\n",
       "      <td>...</td>\n",
       "      <td>...</td>\n",
       "      <td>...</td>\n",
       "      <td>...</td>\n",
       "      <td>...</td>\n",
       "      <td>...</td>\n",
       "      <td>...</td>\n",
       "      <td>...</td>\n",
       "      <td>...</td>\n",
       "      <td>...</td>\n",
       "      <td>...</td>\n",
       "      <td>...</td>\n",
       "    </tr>\n",
       "    <tr>\n",
       "      <th>1048562</th>\n",
       "      <td>T1048563</td>\n",
       "      <td>C8020229</td>\n",
       "      <td>1990-08-04</td>\n",
       "      <td>M</td>\n",
       "      <td>NEW DELHI</td>\n",
       "      <td>7635.19</td>\n",
       "      <td>2016-09-18</td>\n",
       "      <td>18:48:24</td>\n",
       "      <td>799.0</td>\n",
       "      <td>32</td>\n",
       "      <td>CUST96608</td>\n",
       "      <td>1</td>\n",
       "      <td>0</td>\n",
       "      <td>965.050000</td>\n",
       "      <td>12.639502</td>\n",
       "    </tr>\n",
       "    <tr>\n",
       "      <th>1048563</th>\n",
       "      <td>T1048564</td>\n",
       "      <td>C6459278</td>\n",
       "      <td>1992-02-20</td>\n",
       "      <td>M</td>\n",
       "      <td>NASHIK</td>\n",
       "      <td>27311.42</td>\n",
       "      <td>2016-09-18</td>\n",
       "      <td>18:37:34</td>\n",
       "      <td>460.0</td>\n",
       "      <td>31</td>\n",
       "      <td>CUST117231</td>\n",
       "      <td>6</td>\n",
       "      <td>0</td>\n",
       "      <td>449.000000</td>\n",
       "      <td>1.644001</td>\n",
       "    </tr>\n",
       "    <tr>\n",
       "      <th>1048564</th>\n",
       "      <td>T1048565</td>\n",
       "      <td>C6412354</td>\n",
       "      <td>1989-05-18</td>\n",
       "      <td>M</td>\n",
       "      <td>HYDERABAD</td>\n",
       "      <td>221757.06</td>\n",
       "      <td>2016-09-18</td>\n",
       "      <td>18:33:13</td>\n",
       "      <td>770.0</td>\n",
       "      <td>34</td>\n",
       "      <td>CUST8450</td>\n",
       "      <td>5</td>\n",
       "      <td>0</td>\n",
       "      <td>1181.562500</td>\n",
       "      <td>0.532818</td>\n",
       "    </tr>\n",
       "    <tr>\n",
       "      <th>1048565</th>\n",
       "      <td>T1048566</td>\n",
       "      <td>C6420483</td>\n",
       "      <td>1978-08-30</td>\n",
       "      <td>M</td>\n",
       "      <td>VISAKHAPATNAM</td>\n",
       "      <td>10117.87</td>\n",
       "      <td>2016-09-18</td>\n",
       "      <td>18:47:06</td>\n",
       "      <td>1000.0</td>\n",
       "      <td>44</td>\n",
       "      <td>CUST162310</td>\n",
       "      <td>6</td>\n",
       "      <td>0</td>\n",
       "      <td>1000.000000</td>\n",
       "      <td>9.883503</td>\n",
       "    </tr>\n",
       "    <tr>\n",
       "      <th>1048566</th>\n",
       "      <td>T1048567</td>\n",
       "      <td>C8337524</td>\n",
       "      <td>1984-05-03</td>\n",
       "      <td>M</td>\n",
       "      <td>PUNE</td>\n",
       "      <td>75734.42</td>\n",
       "      <td>2016-09-18</td>\n",
       "      <td>18:12:22</td>\n",
       "      <td>1166.0</td>\n",
       "      <td>39</td>\n",
       "      <td>CUST155859</td>\n",
       "      <td>2</td>\n",
       "      <td>0</td>\n",
       "      <td>983.833333</td>\n",
       "      <td>1.299057</td>\n",
       "    </tr>\n",
       "  </tbody>\n",
       "</table>\n",
       "<p>985322 rows × 15 columns</p>\n",
       "</div>"
      ],
      "text/plain": [
       "        TransactionID CustomerID CustomerDOB CustGender   CustLocation  \\\n",
       "0                  T1   C5841053  1994-10-01          F     JAMSHEDPUR   \n",
       "1                  T2   C2142763  1957-04-04          M        JHAJJAR   \n",
       "2                  T3   C4417068  1996-11-26          F         MUMBAI   \n",
       "3                  T4   C5342380  1973-09-14          F         MUMBAI   \n",
       "4                  T5   C9031234  1988-03-24          F    NAVI MUMBAI   \n",
       "...               ...        ...         ...        ...            ...   \n",
       "1048562      T1048563   C8020229  1990-08-04          M      NEW DELHI   \n",
       "1048563      T1048564   C6459278  1992-02-20          M         NASHIK   \n",
       "1048564      T1048565   C6412354  1989-05-18          M      HYDERABAD   \n",
       "1048565      T1048566   C6420483  1978-08-30          M  VISAKHAPATNAM   \n",
       "1048566      T1048567   C8337524  1984-05-03          M           PUNE   \n",
       "\n",
       "         CustAccountBalance TransactionDate TransactionTime  \\\n",
       "0                  17819.05      2016-02-08        14:32:07   \n",
       "1                   2270.69      2016-02-08        14:18:58   \n",
       "2                  17874.44      2016-02-08        14:27:12   \n",
       "3                 866503.21      2016-02-08        14:27:14   \n",
       "4                   6714.43      2016-02-08        18:11:56   \n",
       "...                     ...             ...             ...   \n",
       "1048562             7635.19      2016-09-18        18:48:24   \n",
       "1048563            27311.42      2016-09-18        18:37:34   \n",
       "1048564           221757.06      2016-09-18        18:33:13   \n",
       "1048565            10117.87      2016-09-18        18:47:06   \n",
       "1048566            75734.42      2016-09-18        18:12:22   \n",
       "\n",
       "         TransactionAmount (INR)  CustomerAge MyCustomerID  \\\n",
       "0                           25.0           28        CUST0   \n",
       "1                        27999.0           66        CUST1   \n",
       "2                          459.0           26        CUST2   \n",
       "3                         2060.0           49        CUST3   \n",
       "4                         1762.5           35        CUST4   \n",
       "...                          ...          ...          ...   \n",
       "1048562                    799.0           32    CUST96608   \n",
       "1048563                    460.0           31   CUST117231   \n",
       "1048564                    770.0           34     CUST8450   \n",
       "1048565                   1000.0           44   CUST162310   \n",
       "1048566                   1166.0           39   CUST155859   \n",
       "\n",
       "         MostFrequentDayOfWeek  MostFrequentTime  AverageTransactionAmount  \\\n",
       "0                            2                 0                 80.111111   \n",
       "1                            0                 0               9503.445000   \n",
       "2                            6                 0                940.348182   \n",
       "3                            0                 0               2537.346923   \n",
       "4                            0                 0               1606.135000   \n",
       "...                        ...               ...                       ...   \n",
       "1048562                      1                 0                965.050000   \n",
       "1048563                      6                 0                449.000000   \n",
       "1048564                      5                 0               1181.562500   \n",
       "1048565                      6                 0               1000.000000   \n",
       "1048566                      2                 0                983.833333   \n",
       "\n",
       "         TransactionPercentage  \n",
       "0                     0.449581  \n",
       "1                   418.526747  \n",
       "2                     5.260854  \n",
       "3                     0.292826  \n",
       "4                    23.920646  \n",
       "...                        ...  \n",
       "1048562              12.639502  \n",
       "1048563               1.644001  \n",
       "1048564               0.532818  \n",
       "1048565               9.883503  \n",
       "1048566               1.299057  \n",
       "\n",
       "[985322 rows x 15 columns]"
      ]
     },
     "execution_count": 153,
     "metadata": {},
     "output_type": "execute_result"
    }
   ],
   "source": [
    "customers_data"
   ]
  },
  {
   "cell_type": "markdown",
   "id": "fed3f4c4-0450-4f52-9b01-045d82c86025",
   "metadata": {},
   "source": [
    "The Min-Hash below is formulated in this way:\n",
    "- The first digit is based on the customer age\n",
    "- The second digit is based on the average transaction amount\n",
    "- The third digit is based on the customer's balance account\n",
    "- The fourth digit is based on the customer's gender\n",
    "- The last digit is based on the customer's percentage of the transaction amount calculated on the customer's balance account\n",
    "\n",
    "The thresholds on which this minHash is calculated are dynamic: for this reason, it takes in input a dictionary of threshold. Of course, smaller the thresholds will be, the fewer collisions (hence similarities) we will get, but it will be more accurate.\n",
    "On the other hand, bigger threshold will be, the more similarities we will obtain, but these similarities will be erroneous.\n",
    "Hence, we have to find a trade-off between accuracy and the need to find similarities. \n",
    "After some sperimentations, here are my ideas."
   ]
  },
  {
   "cell_type": "code",
   "execution_count": 154,
   "id": "15733a05-4774-4136-8a85-9aafc5e419bc",
   "metadata": {},
   "outputs": [],
   "source": [
    "def minHash(d, threshold, minDict, maxDict):\n",
    "    first_digit = -1\n",
    "    counter = 0\n",
    "    age = d['CustomerAge']\n",
    "\n",
    "    for currAge in range(minDict['age'], maxDict['age']+threshold['age'],threshold['age']):\n",
    "        if(age<=currAge):\n",
    "            first_digit = counter\n",
    "            break\n",
    "        counter += 1\n",
    "    \n",
    "    transaction_avg_int = int(d['AverageTransactionAmount'])\n",
    "    second_digit = len(str(transaction_avg_int))\n",
    "    if(transaction_avg_int <= 10000):\n",
    "        second_digit-=1\n",
    "    if(transaction_avg_int >= 1000):\n",
    "        if(int(str(transaction_avg_int)[0])>=6):\n",
    "            second_digit+=1\n",
    "    if(second_digit>9):\n",
    "        second_digit = 9\n",
    "    \n",
    "    account_balance = int(d['CustAccountBalance'])\n",
    "    third_digit = len(str(account_balance))\n",
    "    if(account_balance <= 10000):\n",
    "        third_digit -=1\n",
    "    if(account_balance >=1000):\n",
    "        if(int(str(account_balance)[0])>=6):\n",
    "            third_digit+=1\n",
    "    if(third_digit > 9):\n",
    "        third_digit = 9\n",
    "        \n",
    "    sex = d.loc['CustGender']\n",
    "    fourth_digit = ''\n",
    "    if(sex == 'M'):\n",
    "        fourth_digit = '0'\n",
    "    elif(sex == 'F'):\n",
    "        fourth_digit = '1'\n",
    "        \n",
    "    average_transaction_time = str(d.loc['MostFrequentTime']) ## Binary: 0 day, 1 night\n",
    "        \n",
    "    ## We transform this info in binary value: 0 if the most frequent day is a weekday, 1 otherwise\n",
    "    most_frequent_day = '0'\n",
    "    if (d.loc['MostFrequentDayOfWeek'] > 3):\n",
    "        most_frequent_day = '1'\n",
    "        \n",
    "    # let's transform these two binary values in a binary number \n",
    "    fifth_digit = most_frequent_day+average_transaction_time\n",
    "    fifth_digit = int(fifth_digit, 2) ## Transform the binary number into decimal, so that the output string is smaller\n",
    "\n",
    "    percentage = int(d['TransactionPercentage'])\n",
    "    sixth_digit = -1\n",
    "    counter = 0\n",
    "    for perc in range(minDict['TransactionPercentage'], 121,threshold['TransactionPercentage']):\n",
    "        if(percentage<=perc):\n",
    "            sixth_digit = counter\n",
    "            break\n",
    "        counter += 1\n",
    "    if(sixth_digit <0):\n",
    "        sixth_digit = counter\n",
    "\n",
    "\n",
    "    hash_code = str(first_digit) + str(second_digit) + str(third_digit) + str(fourth_digit)  + str(fifth_digit) + str(sixth_digit)\n",
    "    try:\n",
    "        bins[hash_code].add(d['MyCustomerID'])\n",
    "    except KeyError as e:\n",
    "        bins[hash_code] = set([])\n",
    "        bins[hash_code].add(d['MyCustomerID'])\n",
    "        \n",
    "    return hash_code"
   ]
  },
  {
   "cell_type": "code",
   "execution_count": 155,
   "id": "d05c5973-5a53-41d7-a16c-2cbaa6f137ff",
   "metadata": {},
   "outputs": [],
   "source": [
    "minDict = {}\n",
    "maxDict = {}\n",
    "thresholdDict = {}"
   ]
  },
  {
   "cell_type": "code",
   "execution_count": 158,
   "id": "64e9b784-d8e3-4ddd-a660-bca5acdb15bc",
   "metadata": {},
   "outputs": [],
   "source": [
    "minDict['CustAccountBalance'] = int(customers_data['CustAccountBalance'].min())\n",
    "maxDict['CustAccountBalance'] = int(customers_data['CustAccountBalance'].max())+1\n",
    "thresholdDict['CustAccountBalance'] = (maxDict['CustAccountBalance'] - minDict['CustAccountBalance'])//10\n",
    "\n",
    "minDict['AverageTransactionAmount'] = int(customers_data['AverageTransactionAmount'].min())\n",
    "maxDict['AverageTransactionAmount'] = int(customers_data['AverageTransactionAmount'].max())+1\n",
    "thresholdDict['AverageTransactionAmount'] = (maxDict['AverageTransactionAmount'] - minDict['AverageTransactionAmount'])//10\n",
    "\n",
    "minDict['TransactionPercentage'] = int(customers_data['TransactionPercentage'].min())\n",
    "maxDict['TransactionPercentage'] = customers_data['TransactionPercentage'].max()\n",
    "thresholdDict['TransactionPercentage'] = 15\n",
    "\n",
    "minDict['age'] = customers_data['CustomerAge'].min()\n",
    "maxDict['age'] = customers_data['CustomerAge'].max()\n",
    "thresholdDict['age'] = (maxDict['age'] - minDict['age'])//13"
   ]
  },
  {
   "cell_type": "code",
   "execution_count": 159,
   "id": "7dc4c312-0cfe-497b-9c59-3fd449aa0311",
   "metadata": {},
   "outputs": [],
   "source": [
    "from tqdm import tqdm  \n",
    "tqdm.pandas()"
   ]
  },
  {
   "cell_type": "code",
   "execution_count": 161,
   "id": "83cc7302-3ac2-49c5-bf28-20137a552e1b",
   "metadata": {},
   "outputs": [
    {
     "name": "stderr",
     "output_type": "stream",
     "text": [
      "100%|██████████| 985322/985322 [01:02<00:00, 15729.34it/s]\n"
     ]
    }
   ],
   "source": [
    "bins = {}\n",
    "customers_data['MinHashOutput'] = customers_data.progress_apply(minHash, args = (thresholdDict, minDict, maxDict), axis = 1)"
   ]
  },
  {
   "cell_type": "code",
   "execution_count": 162,
   "id": "99649b7d-e501-440b-8747-cfde89fdc7cd",
   "metadata": {},
   "outputs": [
    {
     "data": {
      "text/html": [
       "<div>\n",
       "<style scoped>\n",
       "    .dataframe tbody tr th:only-of-type {\n",
       "        vertical-align: middle;\n",
       "    }\n",
       "\n",
       "    .dataframe tbody tr th {\n",
       "        vertical-align: top;\n",
       "    }\n",
       "\n",
       "    .dataframe thead th {\n",
       "        text-align: right;\n",
       "    }\n",
       "</style>\n",
       "<table border=\"1\" class=\"dataframe\">\n",
       "  <thead>\n",
       "    <tr style=\"text-align: right;\">\n",
       "      <th></th>\n",
       "      <th>TransactionID</th>\n",
       "      <th>CustomerID</th>\n",
       "      <th>CustomerDOB</th>\n",
       "      <th>CustGender</th>\n",
       "      <th>CustLocation</th>\n",
       "      <th>CustAccountBalance</th>\n",
       "      <th>TransactionDate</th>\n",
       "      <th>TransactionTime</th>\n",
       "      <th>TransactionAmount (INR)</th>\n",
       "      <th>CustomerAge</th>\n",
       "      <th>MyCustomerID</th>\n",
       "      <th>MostFrequentDayOfWeek</th>\n",
       "      <th>MostFrequentTime</th>\n",
       "      <th>AverageTransactionAmount</th>\n",
       "      <th>TransactionPercentage</th>\n",
       "      <th>MinHashOutput</th>\n",
       "    </tr>\n",
       "  </thead>\n",
       "  <tbody>\n",
       "    <tr>\n",
       "      <th>0</th>\n",
       "      <td>T1</td>\n",
       "      <td>C5841053</td>\n",
       "      <td>1994-10-01</td>\n",
       "      <td>F</td>\n",
       "      <td>JAMSHEDPUR</td>\n",
       "      <td>17819.05</td>\n",
       "      <td>2016-02-08</td>\n",
       "      <td>14:32:07</td>\n",
       "      <td>25.0</td>\n",
       "      <td>28</td>\n",
       "      <td>CUST0</td>\n",
       "      <td>2</td>\n",
       "      <td>0</td>\n",
       "      <td>80.111111</td>\n",
       "      <td>0.449581</td>\n",
       "      <td>115100</td>\n",
       "    </tr>\n",
       "    <tr>\n",
       "      <th>1</th>\n",
       "      <td>T2</td>\n",
       "      <td>C2142763</td>\n",
       "      <td>1957-04-04</td>\n",
       "      <td>M</td>\n",
       "      <td>JHAJJAR</td>\n",
       "      <td>2270.69</td>\n",
       "      <td>2016-02-08</td>\n",
       "      <td>14:18:58</td>\n",
       "      <td>27999.0</td>\n",
       "      <td>66</td>\n",
       "      <td>CUST1</td>\n",
       "      <td>0</td>\n",
       "      <td>0</td>\n",
       "      <td>9503.445000</td>\n",
       "      <td>418.526747</td>\n",
       "      <td>743009</td>\n",
       "    </tr>\n",
       "    <tr>\n",
       "      <th>2</th>\n",
       "      <td>T3</td>\n",
       "      <td>C4417068</td>\n",
       "      <td>1996-11-26</td>\n",
       "      <td>F</td>\n",
       "      <td>MUMBAI</td>\n",
       "      <td>17874.44</td>\n",
       "      <td>2016-02-08</td>\n",
       "      <td>14:27:12</td>\n",
       "      <td>459.0</td>\n",
       "      <td>26</td>\n",
       "      <td>CUST2</td>\n",
       "      <td>6</td>\n",
       "      <td>0</td>\n",
       "      <td>940.348182</td>\n",
       "      <td>5.260854</td>\n",
       "      <td>125121</td>\n",
       "    </tr>\n",
       "    <tr>\n",
       "      <th>3</th>\n",
       "      <td>T4</td>\n",
       "      <td>C5342380</td>\n",
       "      <td>1973-09-14</td>\n",
       "      <td>F</td>\n",
       "      <td>MUMBAI</td>\n",
       "      <td>866503.21</td>\n",
       "      <td>2016-02-08</td>\n",
       "      <td>14:27:14</td>\n",
       "      <td>2060.0</td>\n",
       "      <td>49</td>\n",
       "      <td>CUST3</td>\n",
       "      <td>0</td>\n",
       "      <td>0</td>\n",
       "      <td>2537.346923</td>\n",
       "      <td>0.292826</td>\n",
       "      <td>437100</td>\n",
       "    </tr>\n",
       "    <tr>\n",
       "      <th>4</th>\n",
       "      <td>T5</td>\n",
       "      <td>C9031234</td>\n",
       "      <td>1988-03-24</td>\n",
       "      <td>F</td>\n",
       "      <td>NAVI MUMBAI</td>\n",
       "      <td>6714.43</td>\n",
       "      <td>2016-02-08</td>\n",
       "      <td>18:11:56</td>\n",
       "      <td>1762.5</td>\n",
       "      <td>35</td>\n",
       "      <td>CUST4</td>\n",
       "      <td>0</td>\n",
       "      <td>0</td>\n",
       "      <td>1606.135000</td>\n",
       "      <td>23.920646</td>\n",
       "      <td>234102</td>\n",
       "    </tr>\n",
       "    <tr>\n",
       "      <th>...</th>\n",
       "      <td>...</td>\n",
       "      <td>...</td>\n",
       "      <td>...</td>\n",
       "      <td>...</td>\n",
       "      <td>...</td>\n",
       "      <td>...</td>\n",
       "      <td>...</td>\n",
       "      <td>...</td>\n",
       "      <td>...</td>\n",
       "      <td>...</td>\n",
       "      <td>...</td>\n",
       "      <td>...</td>\n",
       "      <td>...</td>\n",
       "      <td>...</td>\n",
       "      <td>...</td>\n",
       "      <td>...</td>\n",
       "    </tr>\n",
       "    <tr>\n",
       "      <th>1048562</th>\n",
       "      <td>T1048563</td>\n",
       "      <td>C8020229</td>\n",
       "      <td>1990-08-04</td>\n",
       "      <td>M</td>\n",
       "      <td>NEW DELHI</td>\n",
       "      <td>7635.19</td>\n",
       "      <td>2016-09-18</td>\n",
       "      <td>18:48:24</td>\n",
       "      <td>799.0</td>\n",
       "      <td>32</td>\n",
       "      <td>CUST96608</td>\n",
       "      <td>1</td>\n",
       "      <td>0</td>\n",
       "      <td>965.050000</td>\n",
       "      <td>12.639502</td>\n",
       "      <td>224001</td>\n",
       "    </tr>\n",
       "    <tr>\n",
       "      <th>1048563</th>\n",
       "      <td>T1048564</td>\n",
       "      <td>C6459278</td>\n",
       "      <td>1992-02-20</td>\n",
       "      <td>M</td>\n",
       "      <td>NASHIK</td>\n",
       "      <td>27311.42</td>\n",
       "      <td>2016-09-18</td>\n",
       "      <td>18:37:34</td>\n",
       "      <td>460.0</td>\n",
       "      <td>31</td>\n",
       "      <td>CUST117231</td>\n",
       "      <td>6</td>\n",
       "      <td>0</td>\n",
       "      <td>449.000000</td>\n",
       "      <td>1.644001</td>\n",
       "      <td>225021</td>\n",
       "    </tr>\n",
       "    <tr>\n",
       "      <th>1048564</th>\n",
       "      <td>T1048565</td>\n",
       "      <td>C6412354</td>\n",
       "      <td>1989-05-18</td>\n",
       "      <td>M</td>\n",
       "      <td>HYDERABAD</td>\n",
       "      <td>221757.06</td>\n",
       "      <td>2016-09-18</td>\n",
       "      <td>18:33:13</td>\n",
       "      <td>770.0</td>\n",
       "      <td>34</td>\n",
       "      <td>CUST8450</td>\n",
       "      <td>5</td>\n",
       "      <td>0</td>\n",
       "      <td>1181.562500</td>\n",
       "      <td>0.532818</td>\n",
       "      <td>236020</td>\n",
       "    </tr>\n",
       "    <tr>\n",
       "      <th>1048565</th>\n",
       "      <td>T1048566</td>\n",
       "      <td>C6420483</td>\n",
       "      <td>1978-08-30</td>\n",
       "      <td>M</td>\n",
       "      <td>VISAKHAPATNAM</td>\n",
       "      <td>10117.87</td>\n",
       "      <td>2016-09-18</td>\n",
       "      <td>18:47:06</td>\n",
       "      <td>1000.0</td>\n",
       "      <td>44</td>\n",
       "      <td>CUST162310</td>\n",
       "      <td>6</td>\n",
       "      <td>0</td>\n",
       "      <td>1000.000000</td>\n",
       "      <td>9.883503</td>\n",
       "      <td>435021</td>\n",
       "    </tr>\n",
       "    <tr>\n",
       "      <th>1048566</th>\n",
       "      <td>T1048567</td>\n",
       "      <td>C8337524</td>\n",
       "      <td>1984-05-03</td>\n",
       "      <td>M</td>\n",
       "      <td>PUNE</td>\n",
       "      <td>75734.42</td>\n",
       "      <td>2016-09-18</td>\n",
       "      <td>18:12:22</td>\n",
       "      <td>1166.0</td>\n",
       "      <td>39</td>\n",
       "      <td>CUST155859</td>\n",
       "      <td>2</td>\n",
       "      <td>0</td>\n",
       "      <td>983.833333</td>\n",
       "      <td>1.299057</td>\n",
       "      <td>326001</td>\n",
       "    </tr>\n",
       "  </tbody>\n",
       "</table>\n",
       "<p>985322 rows × 16 columns</p>\n",
       "</div>"
      ],
      "text/plain": [
       "        TransactionID CustomerID CustomerDOB CustGender   CustLocation  \\\n",
       "0                  T1   C5841053  1994-10-01          F     JAMSHEDPUR   \n",
       "1                  T2   C2142763  1957-04-04          M        JHAJJAR   \n",
       "2                  T3   C4417068  1996-11-26          F         MUMBAI   \n",
       "3                  T4   C5342380  1973-09-14          F         MUMBAI   \n",
       "4                  T5   C9031234  1988-03-24          F    NAVI MUMBAI   \n",
       "...               ...        ...         ...        ...            ...   \n",
       "1048562      T1048563   C8020229  1990-08-04          M      NEW DELHI   \n",
       "1048563      T1048564   C6459278  1992-02-20          M         NASHIK   \n",
       "1048564      T1048565   C6412354  1989-05-18          M      HYDERABAD   \n",
       "1048565      T1048566   C6420483  1978-08-30          M  VISAKHAPATNAM   \n",
       "1048566      T1048567   C8337524  1984-05-03          M           PUNE   \n",
       "\n",
       "         CustAccountBalance TransactionDate TransactionTime  \\\n",
       "0                  17819.05      2016-02-08        14:32:07   \n",
       "1                   2270.69      2016-02-08        14:18:58   \n",
       "2                  17874.44      2016-02-08        14:27:12   \n",
       "3                 866503.21      2016-02-08        14:27:14   \n",
       "4                   6714.43      2016-02-08        18:11:56   \n",
       "...                     ...             ...             ...   \n",
       "1048562             7635.19      2016-09-18        18:48:24   \n",
       "1048563            27311.42      2016-09-18        18:37:34   \n",
       "1048564           221757.06      2016-09-18        18:33:13   \n",
       "1048565            10117.87      2016-09-18        18:47:06   \n",
       "1048566            75734.42      2016-09-18        18:12:22   \n",
       "\n",
       "         TransactionAmount (INR)  CustomerAge MyCustomerID  \\\n",
       "0                           25.0           28        CUST0   \n",
       "1                        27999.0           66        CUST1   \n",
       "2                          459.0           26        CUST2   \n",
       "3                         2060.0           49        CUST3   \n",
       "4                         1762.5           35        CUST4   \n",
       "...                          ...          ...          ...   \n",
       "1048562                    799.0           32    CUST96608   \n",
       "1048563                    460.0           31   CUST117231   \n",
       "1048564                    770.0           34     CUST8450   \n",
       "1048565                   1000.0           44   CUST162310   \n",
       "1048566                   1166.0           39   CUST155859   \n",
       "\n",
       "         MostFrequentDayOfWeek  MostFrequentTime  AverageTransactionAmount  \\\n",
       "0                            2                 0                 80.111111   \n",
       "1                            0                 0               9503.445000   \n",
       "2                            6                 0                940.348182   \n",
       "3                            0                 0               2537.346923   \n",
       "4                            0                 0               1606.135000   \n",
       "...                        ...               ...                       ...   \n",
       "1048562                      1                 0                965.050000   \n",
       "1048563                      6                 0                449.000000   \n",
       "1048564                      5                 0               1181.562500   \n",
       "1048565                      6                 0               1000.000000   \n",
       "1048566                      2                 0                983.833333   \n",
       "\n",
       "         TransactionPercentage MinHashOutput  \n",
       "0                     0.449581        115100  \n",
       "1                   418.526747        743009  \n",
       "2                     5.260854        125121  \n",
       "3                     0.292826        437100  \n",
       "4                    23.920646        234102  \n",
       "...                        ...           ...  \n",
       "1048562              12.639502        224001  \n",
       "1048563               1.644001        225021  \n",
       "1048564               0.532818        236020  \n",
       "1048565               9.883503        435021  \n",
       "1048566               1.299057        326001  \n",
       "\n",
       "[985322 rows x 16 columns]"
      ]
     },
     "execution_count": 162,
     "metadata": {},
     "output_type": "execute_result"
    }
   ],
   "source": [
    "customers_data"
   ]
  },
  {
   "cell_type": "markdown",
   "id": "eea2b533-7ac3-4841-a1e0-8dcf624ef798",
   "metadata": {},
   "source": [
    "## Query Time"
   ]
  },
  {
   "cell_type": "markdown",
   "id": "5e31aa73-b675-4071-9ccb-f4e2eb50d80f",
   "metadata": {},
   "source": [
    "Now let's read the data from new customers that we are gonna compare with the previous ones."
   ]
  },
  {
   "cell_type": "code",
   "execution_count": 165,
   "id": "d706af2b-286c-4590-be99-c5f5d798675e",
   "metadata": {},
   "outputs": [],
   "source": [
    "new_users = pd.read_csv('query_users.csv', delimiter=',')"
   ]
  },
  {
   "cell_type": "markdown",
   "id": "3fb3ec56-76a2-47e0-b0df-c90e76bebcc9",
   "metadata": {},
   "source": [
    "The first thing we do is cleaning the data frame in the exact same way we did before, in order to have the same base situation."
   ]
  },
  {
   "cell_type": "code",
   "execution_count": 166,
   "id": "8d1e8f7e-ada5-4643-9d6d-443ca6226840",
   "metadata": {},
   "outputs": [],
   "source": [
    "new_users.dropna(inplace=True)"
   ]
  },
  {
   "cell_type": "code",
   "execution_count": 167,
   "id": "5258cea5-6368-485d-8008-2acb658e867d",
   "metadata": {},
   "outputs": [],
   "source": [
    "new_users.CustomerDOB = pd.to_datetime(new_users.CustomerDOB)"
   ]
  },
  {
   "cell_type": "code",
   "execution_count": 168,
   "id": "eb01df1a-f983-4804-8591-6f33b35732f5",
   "metadata": {},
   "outputs": [],
   "source": [
    "new_users.TransactionDate = pd.to_datetime(new_users.TransactionDate)"
   ]
  },
  {
   "cell_type": "code",
   "execution_count": 169,
   "id": "920dc260-5964-4938-b221-8f7065d84b7b",
   "metadata": {},
   "outputs": [],
   "source": [
    "new_users.TransactionTime = new_users.TransactionTime.apply(lambda row: convert_time(row))"
   ]
  },
  {
   "cell_type": "code",
   "execution_count": 170,
   "id": "d9c65564-0c3f-4eb0-b63e-914498b9eeba",
   "metadata": {},
   "outputs": [],
   "source": [
    "new_users.loc[new_users.CustomerDOB.dt.year >2000, 'CustomerDOB'] = new_users.loc[new_users.CustomerDOB.dt.year > 2000, 'CustomerDOB'] - pd.DateOffset(years = 100)"
   ]
  },
  {
   "cell_type": "code",
   "execution_count": 171,
   "id": "ce3d9860-1828-45ec-83cb-f4cd02474590",
   "metadata": {},
   "outputs": [],
   "source": [
    "new_users.drop(new_users[new_users.CustomerDOB.dt.year == 1800].index, axis = 0, inplace=True)"
   ]
  },
  {
   "cell_type": "code",
   "execution_count": 172,
   "id": "5fa7805b-b8ea-44b3-9ebd-ee05df5e23a1",
   "metadata": {},
   "outputs": [],
   "source": [
    "new_users['CustomerAge'] = (( pd.to_datetime('today') - new_users.CustomerDOB ) / np.timedelta64(1, 'Y')).round(0)\n",
    "new_users['CustomerAge'] = new_users['CustomerAge'].astype(int)"
   ]
  },
  {
   "cell_type": "code",
   "execution_count": 173,
   "id": "0989604f-0233-4910-b486-b11614b84192",
   "metadata": {},
   "outputs": [],
   "source": [
    "newUsersId = {}\n",
    "i=0\n",
    "def createNewCustomersId(d):\n",
    "    global i\n",
    "    try:\n",
    "        return newUsersId[d['CustomerDOB'], d['CustAccountBalance'], d['CustLocation'], d['CustGender']] \n",
    "    except KeyError as e:\n",
    "        newUsersId[d['CustomerDOB'], d['CustAccountBalance'], d['CustLocation'], d['CustGender']] = 'QUERY_CUST'+  str(i)\n",
    "        i+=1\n",
    "        return newUsersId[d['CustomerDOB'], d['CustAccountBalance'], d['CustLocation'], d['CustGender']]     "
   ]
  },
  {
   "cell_type": "code",
   "execution_count": 174,
   "id": "55a2f21b-dd37-417a-8094-8e668b120c91",
   "metadata": {},
   "outputs": [],
   "source": [
    "new_users['MyCustomerID'] = new_users.apply(createNewCustomersId, axis = 1)"
   ]
  },
  {
   "cell_type": "code",
   "execution_count": 175,
   "id": "137b13a2-ea97-4626-8ff3-8e4156e316a2",
   "metadata": {},
   "outputs": [],
   "source": [
    "new_users['AverageTransactionAmount'] = new_users.groupby('MyCustomerID')['TransactionAmount (INR)'].transform('mean')"
   ]
  },
  {
   "cell_type": "code",
   "execution_count": 176,
   "id": "f3635dd0-e556-4ae0-9f8b-35bb7f2507a3",
   "metadata": {},
   "outputs": [],
   "source": [
    "new_users['TransactionPercentage'] = new_users.apply(getTransactionPercentage, axis = 1)"
   ]
  },
  {
   "cell_type": "code",
   "execution_count": 177,
   "id": "3196a8e9-3a36-4398-8ad9-8816d1ef6279",
   "metadata": {},
   "outputs": [],
   "source": [
    "new_users['MostFrequentDayOfWeek'] = new_users.groupby('MyCustomerID')['TransactionDate'].transform(extractMax)"
   ]
  },
  {
   "cell_type": "code",
   "execution_count": 178,
   "id": "7de76e38-0f55-4467-b1aa-05561b27de35",
   "metadata": {},
   "outputs": [],
   "source": [
    "new_users['MostFrequentTime'] = new_users.groupby('MyCustomerID')['TransactionTime'].transform(extractMostTime)"
   ]
  },
  {
   "cell_type": "markdown",
   "id": "3961f4f0-ec03-460f-bda8-cc0ec61848d8",
   "metadata": {},
   "source": [
    "Let's execute the min-hash on the query customers too"
   ]
  },
  {
   "cell_type": "code",
   "execution_count": 179,
   "id": "1c8ca51c-c6aa-43f5-856c-f8d6c56e40ee",
   "metadata": {},
   "outputs": [],
   "source": [
    "new_users['MinHashOutput'] = new_users.apply(minHash, args = (thresholdDict, minDict, maxDict), axis = 1)"
   ]
  },
  {
   "cell_type": "code",
   "execution_count": 180,
   "id": "9bc6d12a-d6d9-4ae5-b76c-0f62741810a0",
   "metadata": {},
   "outputs": [
    {
     "data": {
      "text/html": [
       "<div>\n",
       "<style scoped>\n",
       "    .dataframe tbody tr th:only-of-type {\n",
       "        vertical-align: middle;\n",
       "    }\n",
       "\n",
       "    .dataframe tbody tr th {\n",
       "        vertical-align: top;\n",
       "    }\n",
       "\n",
       "    .dataframe thead th {\n",
       "        text-align: right;\n",
       "    }\n",
       "</style>\n",
       "<table border=\"1\" class=\"dataframe\">\n",
       "  <thead>\n",
       "    <tr style=\"text-align: right;\">\n",
       "      <th></th>\n",
       "      <th>CustomerDOB</th>\n",
       "      <th>CustGender</th>\n",
       "      <th>CustLocation</th>\n",
       "      <th>CustAccountBalance</th>\n",
       "      <th>TransactionDate</th>\n",
       "      <th>TransactionTime</th>\n",
       "      <th>TransactionAmount (INR)</th>\n",
       "      <th>CustomerAge</th>\n",
       "      <th>MyCustomerID</th>\n",
       "      <th>AverageTransactionAmount</th>\n",
       "      <th>TransactionPercentage</th>\n",
       "      <th>MostFrequentDayOfWeek</th>\n",
       "      <th>MostFrequentTime</th>\n",
       "      <th>MinHashOutput</th>\n",
       "    </tr>\n",
       "  </thead>\n",
       "  <tbody>\n",
       "    <tr>\n",
       "      <th>0</th>\n",
       "      <td>1978-07-27</td>\n",
       "      <td>M</td>\n",
       "      <td>DELHI</td>\n",
       "      <td>94695.61</td>\n",
       "      <td>2016-02-09</td>\n",
       "      <td>14:03:10</td>\n",
       "      <td>65.00</td>\n",
       "      <td>44</td>\n",
       "      <td>QUERY_CUST0</td>\n",
       "      <td>65.00</td>\n",
       "      <td>0.068641</td>\n",
       "      <td>1</td>\n",
       "      <td>0</td>\n",
       "      <td>416000</td>\n",
       "    </tr>\n",
       "    <tr>\n",
       "      <th>1</th>\n",
       "      <td>1992-06-11</td>\n",
       "      <td>M</td>\n",
       "      <td>PANCHKULA</td>\n",
       "      <td>7584.09</td>\n",
       "      <td>2016-02-09</td>\n",
       "      <td>12:02:14</td>\n",
       "      <td>6025.00</td>\n",
       "      <td>31</td>\n",
       "      <td>QUERY_CUST1</td>\n",
       "      <td>6025.00</td>\n",
       "      <td>79.442623</td>\n",
       "      <td>1</td>\n",
       "      <td>0</td>\n",
       "      <td>244006</td>\n",
       "    </tr>\n",
       "    <tr>\n",
       "      <th>2</th>\n",
       "      <td>1991-08-14</td>\n",
       "      <td>M</td>\n",
       "      <td>PATNA</td>\n",
       "      <td>7180.60</td>\n",
       "      <td>2016-10-08</td>\n",
       "      <td>22:17:32</td>\n",
       "      <td>541.50</td>\n",
       "      <td>31</td>\n",
       "      <td>QUERY_CUST2</td>\n",
       "      <td>541.50</td>\n",
       "      <td>7.541153</td>\n",
       "      <td>5</td>\n",
       "      <td>0</td>\n",
       "      <td>224021</td>\n",
       "    </tr>\n",
       "    <tr>\n",
       "      <th>3</th>\n",
       "      <td>1987-03-01</td>\n",
       "      <td>M</td>\n",
       "      <td>CHENNAI</td>\n",
       "      <td>56847.75</td>\n",
       "      <td>2016-08-29</td>\n",
       "      <td>14:41:38</td>\n",
       "      <td>1000.00</td>\n",
       "      <td>36</td>\n",
       "      <td>QUERY_CUST3</td>\n",
       "      <td>1000.00</td>\n",
       "      <td>1.759085</td>\n",
       "      <td>0</td>\n",
       "      <td>0</td>\n",
       "      <td>235001</td>\n",
       "    </tr>\n",
       "    <tr>\n",
       "      <th>4</th>\n",
       "      <td>1995-04-01</td>\n",
       "      <td>M</td>\n",
       "      <td>GURGAON</td>\n",
       "      <td>84950.13</td>\n",
       "      <td>2016-09-25</td>\n",
       "      <td>23:33:09</td>\n",
       "      <td>80.00</td>\n",
       "      <td>28</td>\n",
       "      <td>QUERY_CUST4</td>\n",
       "      <td>80.00</td>\n",
       "      <td>0.094173</td>\n",
       "      <td>6</td>\n",
       "      <td>0</td>\n",
       "      <td>116020</td>\n",
       "    </tr>\n",
       "    <tr>\n",
       "      <th>5</th>\n",
       "      <td>1981-10-01</td>\n",
       "      <td>M</td>\n",
       "      <td>WORLD TRADE CENTRE BANGALORE</td>\n",
       "      <td>23143.95</td>\n",
       "      <td>2016-11-09</td>\n",
       "      <td>19:29:06</td>\n",
       "      <td>303.00</td>\n",
       "      <td>41</td>\n",
       "      <td>QUERY_CUST5</td>\n",
       "      <td>303.00</td>\n",
       "      <td>1.309197</td>\n",
       "      <td>2</td>\n",
       "      <td>0</td>\n",
       "      <td>325001</td>\n",
       "    </tr>\n",
       "    <tr>\n",
       "      <th>6</th>\n",
       "      <td>1976-09-20</td>\n",
       "      <td>F</td>\n",
       "      <td>CHITTOOR</td>\n",
       "      <td>15397.80</td>\n",
       "      <td>2016-08-28</td>\n",
       "      <td>09:26:33</td>\n",
       "      <td>20.00</td>\n",
       "      <td>46</td>\n",
       "      <td>QUERY_CUST6</td>\n",
       "      <td>20.00</td>\n",
       "      <td>0.129889</td>\n",
       "      <td>6</td>\n",
       "      <td>0</td>\n",
       "      <td>415120</td>\n",
       "    </tr>\n",
       "    <tr>\n",
       "      <th>7</th>\n",
       "      <td>1991-10-04</td>\n",
       "      <td>M</td>\n",
       "      <td>MOHALI</td>\n",
       "      <td>426.30</td>\n",
       "      <td>2016-02-08</td>\n",
       "      <td>20:37:54</td>\n",
       "      <td>50.00</td>\n",
       "      <td>31</td>\n",
       "      <td>QUERY_CUST7</td>\n",
       "      <td>50.00</td>\n",
       "      <td>11.728829</td>\n",
       "      <td>0</td>\n",
       "      <td>0</td>\n",
       "      <td>212001</td>\n",
       "    </tr>\n",
       "    <tr>\n",
       "      <th>8</th>\n",
       "      <td>1990-03-19</td>\n",
       "      <td>M</td>\n",
       "      <td>MOHALI</td>\n",
       "      <td>4609.34</td>\n",
       "      <td>2016-08-26</td>\n",
       "      <td>18:40:15</td>\n",
       "      <td>300.00</td>\n",
       "      <td>33</td>\n",
       "      <td>QUERY_CUST8</td>\n",
       "      <td>300.00</td>\n",
       "      <td>6.508524</td>\n",
       "      <td>4</td>\n",
       "      <td>0</td>\n",
       "      <td>223021</td>\n",
       "    </tr>\n",
       "    <tr>\n",
       "      <th>9</th>\n",
       "      <td>1970-12-19</td>\n",
       "      <td>M</td>\n",
       "      <td>SERAMPORE</td>\n",
       "      <td>6695988.46</td>\n",
       "      <td>2016-08-27</td>\n",
       "      <td>14:40:30</td>\n",
       "      <td>299.00</td>\n",
       "      <td>52</td>\n",
       "      <td>QUERY_CUST9</td>\n",
       "      <td>299.00</td>\n",
       "      <td>0.004465</td>\n",
       "      <td>5</td>\n",
       "      <td>0</td>\n",
       "      <td>528020</td>\n",
       "    </tr>\n",
       "    <tr>\n",
       "      <th>10</th>\n",
       "      <td>1989-02-26</td>\n",
       "      <td>M</td>\n",
       "      <td>BANGALORE</td>\n",
       "      <td>5974.56</td>\n",
       "      <td>2016-06-08</td>\n",
       "      <td>22:01:51</td>\n",
       "      <td>300.00</td>\n",
       "      <td>34</td>\n",
       "      <td>QUERY_CUST10</td>\n",
       "      <td>300.00</td>\n",
       "      <td>5.021290</td>\n",
       "      <td>2</td>\n",
       "      <td>0</td>\n",
       "      <td>223001</td>\n",
       "    </tr>\n",
       "    <tr>\n",
       "      <th>11</th>\n",
       "      <td>1984-08-22</td>\n",
       "      <td>M</td>\n",
       "      <td>BANGALORE</td>\n",
       "      <td>268.09</td>\n",
       "      <td>2016-11-08</td>\n",
       "      <td>20:31:31</td>\n",
       "      <td>2244.00</td>\n",
       "      <td>38</td>\n",
       "      <td>QUERY_CUST11</td>\n",
       "      <td>2244.00</td>\n",
       "      <td>837.032340</td>\n",
       "      <td>1</td>\n",
       "      <td>0</td>\n",
       "      <td>332009</td>\n",
       "    </tr>\n",
       "    <tr>\n",
       "      <th>12</th>\n",
       "      <td>1979-09-21</td>\n",
       "      <td>M</td>\n",
       "      <td>LUDHIANA</td>\n",
       "      <td>38785.44</td>\n",
       "      <td>2016-08-22</td>\n",
       "      <td>18:59:53</td>\n",
       "      <td>690.00</td>\n",
       "      <td>43</td>\n",
       "      <td>QUERY_CUST12</td>\n",
       "      <td>690.00</td>\n",
       "      <td>1.779018</td>\n",
       "      <td>0</td>\n",
       "      <td>0</td>\n",
       "      <td>325001</td>\n",
       "    </tr>\n",
       "    <tr>\n",
       "      <th>13</th>\n",
       "      <td>1992-06-17</td>\n",
       "      <td>F</td>\n",
       "      <td>BANGALORE</td>\n",
       "      <td>19767.76</td>\n",
       "      <td>2016-12-08</td>\n",
       "      <td>23:28:22</td>\n",
       "      <td>4912.00</td>\n",
       "      <td>30</td>\n",
       "      <td>QUERY_CUST13</td>\n",
       "      <td>4912.00</td>\n",
       "      <td>24.848541</td>\n",
       "      <td>3</td>\n",
       "      <td>0</td>\n",
       "      <td>235102</td>\n",
       "    </tr>\n",
       "    <tr>\n",
       "      <th>14</th>\n",
       "      <td>1986-01-08</td>\n",
       "      <td>M</td>\n",
       "      <td>HYDERABAD</td>\n",
       "      <td>21713.09</td>\n",
       "      <td>2016-11-09</td>\n",
       "      <td>15:01:36</td>\n",
       "      <td>284.00</td>\n",
       "      <td>37</td>\n",
       "      <td>QUERY_CUST14</td>\n",
       "      <td>284.00</td>\n",
       "      <td>1.307967</td>\n",
       "      <td>2</td>\n",
       "      <td>0</td>\n",
       "      <td>325001</td>\n",
       "    </tr>\n",
       "    <tr>\n",
       "      <th>16</th>\n",
       "      <td>1991-12-17</td>\n",
       "      <td>F</td>\n",
       "      <td>MUMBAI</td>\n",
       "      <td>1981.59</td>\n",
       "      <td>2016-05-08</td>\n",
       "      <td>21:43:23</td>\n",
       "      <td>401.00</td>\n",
       "      <td>31</td>\n",
       "      <td>QUERY_CUST15</td>\n",
       "      <td>401.00</td>\n",
       "      <td>20.236275</td>\n",
       "      <td>6</td>\n",
       "      <td>0</td>\n",
       "      <td>223122</td>\n",
       "    </tr>\n",
       "    <tr>\n",
       "      <th>18</th>\n",
       "      <td>1993-07-07</td>\n",
       "      <td>M</td>\n",
       "      <td>GURGAON</td>\n",
       "      <td>27930.23</td>\n",
       "      <td>2016-08-09</td>\n",
       "      <td>02:52:12</td>\n",
       "      <td>60.00</td>\n",
       "      <td>29</td>\n",
       "      <td>QUERY_CUST16</td>\n",
       "      <td>60.00</td>\n",
       "      <td>0.214821</td>\n",
       "      <td>1</td>\n",
       "      <td>0</td>\n",
       "      <td>115000</td>\n",
       "    </tr>\n",
       "    <tr>\n",
       "      <th>19</th>\n",
       "      <td>1989-06-21</td>\n",
       "      <td>M</td>\n",
       "      <td>CHENNAI</td>\n",
       "      <td>6399.24</td>\n",
       "      <td>2016-03-08</td>\n",
       "      <td>20:13:28</td>\n",
       "      <td>404.00</td>\n",
       "      <td>33</td>\n",
       "      <td>QUERY_CUST17</td>\n",
       "      <td>404.00</td>\n",
       "      <td>6.313250</td>\n",
       "      <td>1</td>\n",
       "      <td>0</td>\n",
       "      <td>224001</td>\n",
       "    </tr>\n",
       "    <tr>\n",
       "      <th>20</th>\n",
       "      <td>1982-09-18</td>\n",
       "      <td>F</td>\n",
       "      <td>NOIDA</td>\n",
       "      <td>498859.06</td>\n",
       "      <td>2016-08-22</td>\n",
       "      <td>09:49:01</td>\n",
       "      <td>40000.00</td>\n",
       "      <td>40</td>\n",
       "      <td>QUERY_CUST18</td>\n",
       "      <td>40000.00</td>\n",
       "      <td>8.018297</td>\n",
       "      <td>0</td>\n",
       "      <td>0</td>\n",
       "      <td>356101</td>\n",
       "    </tr>\n",
       "    <tr>\n",
       "      <th>21</th>\n",
       "      <td>1962-08-21</td>\n",
       "      <td>F</td>\n",
       "      <td>BANGALORE</td>\n",
       "      <td>108941.24</td>\n",
       "      <td>2016-09-14</td>\n",
       "      <td>15:41:53</td>\n",
       "      <td>1280.00</td>\n",
       "      <td>60</td>\n",
       "      <td>QUERY_CUST19</td>\n",
       "      <td>1280.00</td>\n",
       "      <td>1.174945</td>\n",
       "      <td>2</td>\n",
       "      <td>0</td>\n",
       "      <td>636101</td>\n",
       "    </tr>\n",
       "    <tr>\n",
       "      <th>22</th>\n",
       "      <td>1988-08-17</td>\n",
       "      <td>M</td>\n",
       "      <td>NEW DELHI</td>\n",
       "      <td>125934.77</td>\n",
       "      <td>2016-10-08</td>\n",
       "      <td>10:48:36</td>\n",
       "      <td>197.00</td>\n",
       "      <td>34</td>\n",
       "      <td>QUERY_CUST20</td>\n",
       "      <td>197.00</td>\n",
       "      <td>0.156430</td>\n",
       "      <td>5</td>\n",
       "      <td>0</td>\n",
       "      <td>226020</td>\n",
       "    </tr>\n",
       "    <tr>\n",
       "      <th>23</th>\n",
       "      <td>1965-05-12</td>\n",
       "      <td>M</td>\n",
       "      <td>AHMEDABAD</td>\n",
       "      <td>47403.83</td>\n",
       "      <td>2016-08-28</td>\n",
       "      <td>19:55:59</td>\n",
       "      <td>3460.00</td>\n",
       "      <td>58</td>\n",
       "      <td>QUERY_CUST21</td>\n",
       "      <td>3460.00</td>\n",
       "      <td>7.298988</td>\n",
       "      <td>6</td>\n",
       "      <td>0</td>\n",
       "      <td>635021</td>\n",
       "    </tr>\n",
       "    <tr>\n",
       "      <th>24</th>\n",
       "      <td>1994-10-07</td>\n",
       "      <td>M</td>\n",
       "      <td>PRAKASAM DIST (AP)</td>\n",
       "      <td>26655.05</td>\n",
       "      <td>2016-02-08</td>\n",
       "      <td>22:05:53</td>\n",
       "      <td>150.00</td>\n",
       "      <td>28</td>\n",
       "      <td>QUERY_CUST22</td>\n",
       "      <td>150.00</td>\n",
       "      <td>0.562745</td>\n",
       "      <td>0</td>\n",
       "      <td>0</td>\n",
       "      <td>125000</td>\n",
       "    </tr>\n",
       "    <tr>\n",
       "      <th>25</th>\n",
       "      <td>1975-10-25</td>\n",
       "      <td>M</td>\n",
       "      <td>BANGALORE</td>\n",
       "      <td>10072.85</td>\n",
       "      <td>2016-04-08</td>\n",
       "      <td>14:45:51</td>\n",
       "      <td>862.44</td>\n",
       "      <td>47</td>\n",
       "      <td>QUERY_CUST23</td>\n",
       "      <td>862.44</td>\n",
       "      <td>8.562026</td>\n",
       "      <td>4</td>\n",
       "      <td>0</td>\n",
       "      <td>425021</td>\n",
       "    </tr>\n",
       "    <tr>\n",
       "      <th>26</th>\n",
       "      <td>1989-01-11</td>\n",
       "      <td>M</td>\n",
       "      <td>VADODARA</td>\n",
       "      <td>101424.95</td>\n",
       "      <td>2016-09-25</td>\n",
       "      <td>18:35:41</td>\n",
       "      <td>990.00</td>\n",
       "      <td>34</td>\n",
       "      <td>QUERY_CUST24</td>\n",
       "      <td>990.00</td>\n",
       "      <td>0.976091</td>\n",
       "      <td>6</td>\n",
       "      <td>0</td>\n",
       "      <td>226020</td>\n",
       "    </tr>\n",
       "    <tr>\n",
       "      <th>27</th>\n",
       "      <td>1983-10-16</td>\n",
       "      <td>M</td>\n",
       "      <td>MUMBAI</td>\n",
       "      <td>64389.91</td>\n",
       "      <td>2016-09-09</td>\n",
       "      <td>19:33:08</td>\n",
       "      <td>220.00</td>\n",
       "      <td>39</td>\n",
       "      <td>QUERY_CUST25</td>\n",
       "      <td>220.00</td>\n",
       "      <td>0.341668</td>\n",
       "      <td>4</td>\n",
       "      <td>0</td>\n",
       "      <td>326020</td>\n",
       "    </tr>\n",
       "    <tr>\n",
       "      <th>28</th>\n",
       "      <td>1987-02-16</td>\n",
       "      <td>M</td>\n",
       "      <td>HYDERABAD</td>\n",
       "      <td>12793.16</td>\n",
       "      <td>2016-08-08</td>\n",
       "      <td>21:20:21</td>\n",
       "      <td>199.00</td>\n",
       "      <td>36</td>\n",
       "      <td>QUERY_CUST26</td>\n",
       "      <td>199.00</td>\n",
       "      <td>1.555519</td>\n",
       "      <td>0</td>\n",
       "      <td>0</td>\n",
       "      <td>225001</td>\n",
       "    </tr>\n",
       "    <tr>\n",
       "      <th>30</th>\n",
       "      <td>1986-10-12</td>\n",
       "      <td>M</td>\n",
       "      <td>AURANGABAD</td>\n",
       "      <td>170981.48</td>\n",
       "      <td>2016-07-08</td>\n",
       "      <td>20:52:42</td>\n",
       "      <td>1137.00</td>\n",
       "      <td>36</td>\n",
       "      <td>QUERY_CUST27</td>\n",
       "      <td>1137.00</td>\n",
       "      <td>0.664984</td>\n",
       "      <td>4</td>\n",
       "      <td>0</td>\n",
       "      <td>236020</td>\n",
       "    </tr>\n",
       "    <tr>\n",
       "      <th>31</th>\n",
       "      <td>1969-06-06</td>\n",
       "      <td>M</td>\n",
       "      <td>HODEL</td>\n",
       "      <td>995009.07</td>\n",
       "      <td>2016-04-08</td>\n",
       "      <td>18:10:55</td>\n",
       "      <td>3000.00</td>\n",
       "      <td>54</td>\n",
       "      <td>QUERY_CUST28</td>\n",
       "      <td>3000.00</td>\n",
       "      <td>0.301505</td>\n",
       "      <td>4</td>\n",
       "      <td>0</td>\n",
       "      <td>537020</td>\n",
       "    </tr>\n",
       "    <tr>\n",
       "      <th>33</th>\n",
       "      <td>1984-07-04</td>\n",
       "      <td>F</td>\n",
       "      <td>NEW DELHI</td>\n",
       "      <td>103832.66</td>\n",
       "      <td>2016-09-09</td>\n",
       "      <td>14:18:46</td>\n",
       "      <td>1290.23</td>\n",
       "      <td>38</td>\n",
       "      <td>QUERY_CUST29</td>\n",
       "      <td>1290.23</td>\n",
       "      <td>1.242605</td>\n",
       "      <td>4</td>\n",
       "      <td>0</td>\n",
       "      <td>336121</td>\n",
       "    </tr>\n",
       "    <tr>\n",
       "      <th>34</th>\n",
       "      <td>1991-09-15</td>\n",
       "      <td>M</td>\n",
       "      <td>SECUNDERABAD</td>\n",
       "      <td>602296.81</td>\n",
       "      <td>2016-11-09</td>\n",
       "      <td>18:46:55</td>\n",
       "      <td>2937.48</td>\n",
       "      <td>31</td>\n",
       "      <td>QUERY_CUST30</td>\n",
       "      <td>2937.48</td>\n",
       "      <td>0.487713</td>\n",
       "      <td>2</td>\n",
       "      <td>0</td>\n",
       "      <td>237000</td>\n",
       "    </tr>\n",
       "    <tr>\n",
       "      <th>35</th>\n",
       "      <td>1991-01-28</td>\n",
       "      <td>F</td>\n",
       "      <td>N T PUNE</td>\n",
       "      <td>23299.53</td>\n",
       "      <td>2016-10-09</td>\n",
       "      <td>22:08:46</td>\n",
       "      <td>212.00</td>\n",
       "      <td>32</td>\n",
       "      <td>QUERY_CUST31</td>\n",
       "      <td>212.00</td>\n",
       "      <td>0.909890</td>\n",
       "      <td>6</td>\n",
       "      <td>0</td>\n",
       "      <td>225120</td>\n",
       "    </tr>\n",
       "    <tr>\n",
       "      <th>36</th>\n",
       "      <td>1986-06-02</td>\n",
       "      <td>M</td>\n",
       "      <td>NEW DELHI</td>\n",
       "      <td>398248.26</td>\n",
       "      <td>2016-01-08</td>\n",
       "      <td>22:04:03</td>\n",
       "      <td>3180.00</td>\n",
       "      <td>37</td>\n",
       "      <td>QUERY_CUST32</td>\n",
       "      <td>3180.00</td>\n",
       "      <td>0.798497</td>\n",
       "      <td>4</td>\n",
       "      <td>0</td>\n",
       "      <td>336020</td>\n",
       "    </tr>\n",
       "    <tr>\n",
       "      <th>37</th>\n",
       "      <td>1987-07-31</td>\n",
       "      <td>M</td>\n",
       "      <td>BANGALORE</td>\n",
       "      <td>1660.45</td>\n",
       "      <td>2016-08-14</td>\n",
       "      <td>20:39:11</td>\n",
       "      <td>100.86</td>\n",
       "      <td>35</td>\n",
       "      <td>QUERY_CUST33</td>\n",
       "      <td>100.86</td>\n",
       "      <td>6.074257</td>\n",
       "      <td>6</td>\n",
       "      <td>0</td>\n",
       "      <td>223021</td>\n",
       "    </tr>\n",
       "    <tr>\n",
       "      <th>38</th>\n",
       "      <td>1984-05-29</td>\n",
       "      <td>M</td>\n",
       "      <td>NEW DELHI</td>\n",
       "      <td>11349.64</td>\n",
       "      <td>2016-02-09</td>\n",
       "      <td>14:47:24</td>\n",
       "      <td>5598.00</td>\n",
       "      <td>39</td>\n",
       "      <td>QUERY_CUST34</td>\n",
       "      <td>5598.00</td>\n",
       "      <td>49.323150</td>\n",
       "      <td>1</td>\n",
       "      <td>0</td>\n",
       "      <td>335004</td>\n",
       "    </tr>\n",
       "    <tr>\n",
       "      <th>39</th>\n",
       "      <td>1988-01-22</td>\n",
       "      <td>M</td>\n",
       "      <td>HYDERABAD</td>\n",
       "      <td>10994.33</td>\n",
       "      <td>2016-02-08</td>\n",
       "      <td>15:37:12</td>\n",
       "      <td>60.00</td>\n",
       "      <td>35</td>\n",
       "      <td>QUERY_CUST35</td>\n",
       "      <td>60.00</td>\n",
       "      <td>0.545736</td>\n",
       "      <td>0</td>\n",
       "      <td>0</td>\n",
       "      <td>215000</td>\n",
       "    </tr>\n",
       "    <tr>\n",
       "      <th>40</th>\n",
       "      <td>1987-02-18</td>\n",
       "      <td>M</td>\n",
       "      <td>CHENNAI</td>\n",
       "      <td>2887.39</td>\n",
       "      <td>2016-08-24</td>\n",
       "      <td>18:17:03</td>\n",
       "      <td>20.00</td>\n",
       "      <td>36</td>\n",
       "      <td>QUERY_CUST36</td>\n",
       "      <td>20.00</td>\n",
       "      <td>0.692667</td>\n",
       "      <td>2</td>\n",
       "      <td>0</td>\n",
       "      <td>213000</td>\n",
       "    </tr>\n",
       "    <tr>\n",
       "      <th>41</th>\n",
       "      <td>1986-01-03</td>\n",
       "      <td>M</td>\n",
       "      <td>IMPHAL</td>\n",
       "      <td>31987.86</td>\n",
       "      <td>2016-08-19</td>\n",
       "      <td>14:57:12</td>\n",
       "      <td>203.00</td>\n",
       "      <td>37</td>\n",
       "      <td>QUERY_CUST37</td>\n",
       "      <td>203.00</td>\n",
       "      <td>0.634616</td>\n",
       "      <td>4</td>\n",
       "      <td>0</td>\n",
       "      <td>325020</td>\n",
       "    </tr>\n",
       "    <tr>\n",
       "      <th>42</th>\n",
       "      <td>1981-02-11</td>\n",
       "      <td>F</td>\n",
       "      <td>NEW DELHI</td>\n",
       "      <td>85626.45</td>\n",
       "      <td>2016-12-09</td>\n",
       "      <td>10:56:36</td>\n",
       "      <td>1500.00</td>\n",
       "      <td>42</td>\n",
       "      <td>QUERY_CUST38</td>\n",
       "      <td>1500.00</td>\n",
       "      <td>1.751795</td>\n",
       "      <td>4</td>\n",
       "      <td>0</td>\n",
       "      <td>336121</td>\n",
       "    </tr>\n",
       "    <tr>\n",
       "      <th>43</th>\n",
       "      <td>1990-02-12</td>\n",
       "      <td>F</td>\n",
       "      <td>NEW DELHI</td>\n",
       "      <td>3156.39</td>\n",
       "      <td>2016-04-08</td>\n",
       "      <td>20:46:16</td>\n",
       "      <td>199.00</td>\n",
       "      <td>33</td>\n",
       "      <td>QUERY_CUST39</td>\n",
       "      <td>199.00</td>\n",
       "      <td>6.304671</td>\n",
       "      <td>4</td>\n",
       "      <td>0</td>\n",
       "      <td>223121</td>\n",
       "    </tr>\n",
       "    <tr>\n",
       "      <th>44</th>\n",
       "      <td>1972-06-09</td>\n",
       "      <td>M</td>\n",
       "      <td>GHAZIABAD</td>\n",
       "      <td>225234.23</td>\n",
       "      <td>2016-08-24</td>\n",
       "      <td>17:10:54</td>\n",
       "      <td>347.30</td>\n",
       "      <td>51</td>\n",
       "      <td>QUERY_CUST40</td>\n",
       "      <td>347.30</td>\n",
       "      <td>0.154195</td>\n",
       "      <td>2</td>\n",
       "      <td>0</td>\n",
       "      <td>526000</td>\n",
       "    </tr>\n",
       "    <tr>\n",
       "      <th>45</th>\n",
       "      <td>1990-05-30</td>\n",
       "      <td>F</td>\n",
       "      <td>DELHI</td>\n",
       "      <td>1089764.73</td>\n",
       "      <td>2016-05-09</td>\n",
       "      <td>13:05:29</td>\n",
       "      <td>250.00</td>\n",
       "      <td>33</td>\n",
       "      <td>QUERY_CUST41</td>\n",
       "      <td>250.00</td>\n",
       "      <td>0.022941</td>\n",
       "      <td>0</td>\n",
       "      <td>0</td>\n",
       "      <td>227100</td>\n",
       "    </tr>\n",
       "    <tr>\n",
       "      <th>46</th>\n",
       "      <td>1974-09-26</td>\n",
       "      <td>M</td>\n",
       "      <td>CHENNAI</td>\n",
       "      <td>24678.92</td>\n",
       "      <td>2016-08-17</td>\n",
       "      <td>21:58:06</td>\n",
       "      <td>60.00</td>\n",
       "      <td>48</td>\n",
       "      <td>QUERY_CUST42</td>\n",
       "      <td>60.00</td>\n",
       "      <td>0.243122</td>\n",
       "      <td>2</td>\n",
       "      <td>0</td>\n",
       "      <td>415000</td>\n",
       "    </tr>\n",
       "    <tr>\n",
       "      <th>47</th>\n",
       "      <td>1991-02-07</td>\n",
       "      <td>M</td>\n",
       "      <td>DIST NORTH GOA BARDEZ</td>\n",
       "      <td>518766.40</td>\n",
       "      <td>2016-09-14</td>\n",
       "      <td>18:22:51</td>\n",
       "      <td>90.00</td>\n",
       "      <td>32</td>\n",
       "      <td>QUERY_CUST43</td>\n",
       "      <td>90.00</td>\n",
       "      <td>0.017349</td>\n",
       "      <td>2</td>\n",
       "      <td>0</td>\n",
       "      <td>216000</td>\n",
       "    </tr>\n",
       "    <tr>\n",
       "      <th>48</th>\n",
       "      <td>1994-07-04</td>\n",
       "      <td>F</td>\n",
       "      <td>PUNE</td>\n",
       "      <td>8085.25</td>\n",
       "      <td>2016-05-09</td>\n",
       "      <td>19:12:33</td>\n",
       "      <td>1014.00</td>\n",
       "      <td>28</td>\n",
       "      <td>QUERY_CUST44</td>\n",
       "      <td>1014.00</td>\n",
       "      <td>12.541356</td>\n",
       "      <td>0</td>\n",
       "      <td>0</td>\n",
       "      <td>134101</td>\n",
       "    </tr>\n",
       "    <tr>\n",
       "      <th>49</th>\n",
       "      <td>1987-05-01</td>\n",
       "      <td>M</td>\n",
       "      <td>DELHI</td>\n",
       "      <td>10989.03</td>\n",
       "      <td>2016-04-09</td>\n",
       "      <td>11:32:40</td>\n",
       "      <td>240.00</td>\n",
       "      <td>36</td>\n",
       "      <td>QUERY_CUST45</td>\n",
       "      <td>240.00</td>\n",
       "      <td>2.183996</td>\n",
       "      <td>5</td>\n",
       "      <td>0</td>\n",
       "      <td>225021</td>\n",
       "    </tr>\n",
       "  </tbody>\n",
       "</table>\n",
       "</div>"
      ],
      "text/plain": [
       "   CustomerDOB CustGender                  CustLocation  CustAccountBalance  \\\n",
       "0   1978-07-27          M                         DELHI            94695.61   \n",
       "1   1992-06-11          M                     PANCHKULA             7584.09   \n",
       "2   1991-08-14          M                         PATNA             7180.60   \n",
       "3   1987-03-01          M                       CHENNAI            56847.75   \n",
       "4   1995-04-01          M                       GURGAON            84950.13   \n",
       "5   1981-10-01          M  WORLD TRADE CENTRE BANGALORE            23143.95   \n",
       "6   1976-09-20          F                      CHITTOOR            15397.80   \n",
       "7   1991-10-04          M                        MOHALI              426.30   \n",
       "8   1990-03-19          M                        MOHALI             4609.34   \n",
       "9   1970-12-19          M                     SERAMPORE          6695988.46   \n",
       "10  1989-02-26          M                     BANGALORE             5974.56   \n",
       "11  1984-08-22          M                     BANGALORE              268.09   \n",
       "12  1979-09-21          M                      LUDHIANA            38785.44   \n",
       "13  1992-06-17          F                     BANGALORE            19767.76   \n",
       "14  1986-01-08          M                     HYDERABAD            21713.09   \n",
       "16  1991-12-17          F                        MUMBAI             1981.59   \n",
       "18  1993-07-07          M                       GURGAON            27930.23   \n",
       "19  1989-06-21          M                       CHENNAI             6399.24   \n",
       "20  1982-09-18          F                         NOIDA           498859.06   \n",
       "21  1962-08-21          F                     BANGALORE           108941.24   \n",
       "22  1988-08-17          M                     NEW DELHI           125934.77   \n",
       "23  1965-05-12          M                     AHMEDABAD            47403.83   \n",
       "24  1994-10-07          M            PRAKASAM DIST (AP)            26655.05   \n",
       "25  1975-10-25          M                     BANGALORE            10072.85   \n",
       "26  1989-01-11          M                      VADODARA           101424.95   \n",
       "27  1983-10-16          M                        MUMBAI            64389.91   \n",
       "28  1987-02-16          M                     HYDERABAD            12793.16   \n",
       "30  1986-10-12          M                    AURANGABAD           170981.48   \n",
       "31  1969-06-06          M                         HODEL           995009.07   \n",
       "33  1984-07-04          F                     NEW DELHI           103832.66   \n",
       "34  1991-09-15          M                  SECUNDERABAD           602296.81   \n",
       "35  1991-01-28          F                      N T PUNE            23299.53   \n",
       "36  1986-06-02          M                     NEW DELHI           398248.26   \n",
       "37  1987-07-31          M                     BANGALORE             1660.45   \n",
       "38  1984-05-29          M                     NEW DELHI            11349.64   \n",
       "39  1988-01-22          M                     HYDERABAD            10994.33   \n",
       "40  1987-02-18          M                       CHENNAI             2887.39   \n",
       "41  1986-01-03          M                        IMPHAL            31987.86   \n",
       "42  1981-02-11          F                     NEW DELHI            85626.45   \n",
       "43  1990-02-12          F                     NEW DELHI             3156.39   \n",
       "44  1972-06-09          M                     GHAZIABAD           225234.23   \n",
       "45  1990-05-30          F                         DELHI          1089764.73   \n",
       "46  1974-09-26          M                       CHENNAI            24678.92   \n",
       "47  1991-02-07          M         DIST NORTH GOA BARDEZ           518766.40   \n",
       "48  1994-07-04          F                          PUNE             8085.25   \n",
       "49  1987-05-01          M                         DELHI            10989.03   \n",
       "\n",
       "   TransactionDate TransactionTime  TransactionAmount (INR)  CustomerAge  \\\n",
       "0       2016-02-09        14:03:10                    65.00           44   \n",
       "1       2016-02-09        12:02:14                  6025.00           31   \n",
       "2       2016-10-08        22:17:32                   541.50           31   \n",
       "3       2016-08-29        14:41:38                  1000.00           36   \n",
       "4       2016-09-25        23:33:09                    80.00           28   \n",
       "5       2016-11-09        19:29:06                   303.00           41   \n",
       "6       2016-08-28        09:26:33                    20.00           46   \n",
       "7       2016-02-08        20:37:54                    50.00           31   \n",
       "8       2016-08-26        18:40:15                   300.00           33   \n",
       "9       2016-08-27        14:40:30                   299.00           52   \n",
       "10      2016-06-08        22:01:51                   300.00           34   \n",
       "11      2016-11-08        20:31:31                  2244.00           38   \n",
       "12      2016-08-22        18:59:53                   690.00           43   \n",
       "13      2016-12-08        23:28:22                  4912.00           30   \n",
       "14      2016-11-09        15:01:36                   284.00           37   \n",
       "16      2016-05-08        21:43:23                   401.00           31   \n",
       "18      2016-08-09        02:52:12                    60.00           29   \n",
       "19      2016-03-08        20:13:28                   404.00           33   \n",
       "20      2016-08-22        09:49:01                 40000.00           40   \n",
       "21      2016-09-14        15:41:53                  1280.00           60   \n",
       "22      2016-10-08        10:48:36                   197.00           34   \n",
       "23      2016-08-28        19:55:59                  3460.00           58   \n",
       "24      2016-02-08        22:05:53                   150.00           28   \n",
       "25      2016-04-08        14:45:51                   862.44           47   \n",
       "26      2016-09-25        18:35:41                   990.00           34   \n",
       "27      2016-09-09        19:33:08                   220.00           39   \n",
       "28      2016-08-08        21:20:21                   199.00           36   \n",
       "30      2016-07-08        20:52:42                  1137.00           36   \n",
       "31      2016-04-08        18:10:55                  3000.00           54   \n",
       "33      2016-09-09        14:18:46                  1290.23           38   \n",
       "34      2016-11-09        18:46:55                  2937.48           31   \n",
       "35      2016-10-09        22:08:46                   212.00           32   \n",
       "36      2016-01-08        22:04:03                  3180.00           37   \n",
       "37      2016-08-14        20:39:11                   100.86           35   \n",
       "38      2016-02-09        14:47:24                  5598.00           39   \n",
       "39      2016-02-08        15:37:12                    60.00           35   \n",
       "40      2016-08-24        18:17:03                    20.00           36   \n",
       "41      2016-08-19        14:57:12                   203.00           37   \n",
       "42      2016-12-09        10:56:36                  1500.00           42   \n",
       "43      2016-04-08        20:46:16                   199.00           33   \n",
       "44      2016-08-24        17:10:54                   347.30           51   \n",
       "45      2016-05-09        13:05:29                   250.00           33   \n",
       "46      2016-08-17        21:58:06                    60.00           48   \n",
       "47      2016-09-14        18:22:51                    90.00           32   \n",
       "48      2016-05-09        19:12:33                  1014.00           28   \n",
       "49      2016-04-09        11:32:40                   240.00           36   \n",
       "\n",
       "    MyCustomerID  AverageTransactionAmount  TransactionPercentage  \\\n",
       "0    QUERY_CUST0                     65.00               0.068641   \n",
       "1    QUERY_CUST1                   6025.00              79.442623   \n",
       "2    QUERY_CUST2                    541.50               7.541153   \n",
       "3    QUERY_CUST3                   1000.00               1.759085   \n",
       "4    QUERY_CUST4                     80.00               0.094173   \n",
       "5    QUERY_CUST5                    303.00               1.309197   \n",
       "6    QUERY_CUST6                     20.00               0.129889   \n",
       "7    QUERY_CUST7                     50.00              11.728829   \n",
       "8    QUERY_CUST8                    300.00               6.508524   \n",
       "9    QUERY_CUST9                    299.00               0.004465   \n",
       "10  QUERY_CUST10                    300.00               5.021290   \n",
       "11  QUERY_CUST11                   2244.00             837.032340   \n",
       "12  QUERY_CUST12                    690.00               1.779018   \n",
       "13  QUERY_CUST13                   4912.00              24.848541   \n",
       "14  QUERY_CUST14                    284.00               1.307967   \n",
       "16  QUERY_CUST15                    401.00              20.236275   \n",
       "18  QUERY_CUST16                     60.00               0.214821   \n",
       "19  QUERY_CUST17                    404.00               6.313250   \n",
       "20  QUERY_CUST18                  40000.00               8.018297   \n",
       "21  QUERY_CUST19                   1280.00               1.174945   \n",
       "22  QUERY_CUST20                    197.00               0.156430   \n",
       "23  QUERY_CUST21                   3460.00               7.298988   \n",
       "24  QUERY_CUST22                    150.00               0.562745   \n",
       "25  QUERY_CUST23                    862.44               8.562026   \n",
       "26  QUERY_CUST24                    990.00               0.976091   \n",
       "27  QUERY_CUST25                    220.00               0.341668   \n",
       "28  QUERY_CUST26                    199.00               1.555519   \n",
       "30  QUERY_CUST27                   1137.00               0.664984   \n",
       "31  QUERY_CUST28                   3000.00               0.301505   \n",
       "33  QUERY_CUST29                   1290.23               1.242605   \n",
       "34  QUERY_CUST30                   2937.48               0.487713   \n",
       "35  QUERY_CUST31                    212.00               0.909890   \n",
       "36  QUERY_CUST32                   3180.00               0.798497   \n",
       "37  QUERY_CUST33                    100.86               6.074257   \n",
       "38  QUERY_CUST34                   5598.00              49.323150   \n",
       "39  QUERY_CUST35                     60.00               0.545736   \n",
       "40  QUERY_CUST36                     20.00               0.692667   \n",
       "41  QUERY_CUST37                    203.00               0.634616   \n",
       "42  QUERY_CUST38                   1500.00               1.751795   \n",
       "43  QUERY_CUST39                    199.00               6.304671   \n",
       "44  QUERY_CUST40                    347.30               0.154195   \n",
       "45  QUERY_CUST41                    250.00               0.022941   \n",
       "46  QUERY_CUST42                     60.00               0.243122   \n",
       "47  QUERY_CUST43                     90.00               0.017349   \n",
       "48  QUERY_CUST44                   1014.00              12.541356   \n",
       "49  QUERY_CUST45                    240.00               2.183996   \n",
       "\n",
       "    MostFrequentDayOfWeek  MostFrequentTime MinHashOutput  \n",
       "0                       1                 0        416000  \n",
       "1                       1                 0        244006  \n",
       "2                       5                 0        224021  \n",
       "3                       0                 0        235001  \n",
       "4                       6                 0        116020  \n",
       "5                       2                 0        325001  \n",
       "6                       6                 0        415120  \n",
       "7                       0                 0        212001  \n",
       "8                       4                 0        223021  \n",
       "9                       5                 0        528020  \n",
       "10                      2                 0        223001  \n",
       "11                      1                 0        332009  \n",
       "12                      0                 0        325001  \n",
       "13                      3                 0        235102  \n",
       "14                      2                 0        325001  \n",
       "16                      6                 0        223122  \n",
       "18                      1                 0        115000  \n",
       "19                      1                 0        224001  \n",
       "20                      0                 0        356101  \n",
       "21                      2                 0        636101  \n",
       "22                      5                 0        226020  \n",
       "23                      6                 0        635021  \n",
       "24                      0                 0        125000  \n",
       "25                      4                 0        425021  \n",
       "26                      6                 0        226020  \n",
       "27                      4                 0        326020  \n",
       "28                      0                 0        225001  \n",
       "30                      4                 0        236020  \n",
       "31                      4                 0        537020  \n",
       "33                      4                 0        336121  \n",
       "34                      2                 0        237000  \n",
       "35                      6                 0        225120  \n",
       "36                      4                 0        336020  \n",
       "37                      6                 0        223021  \n",
       "38                      1                 0        335004  \n",
       "39                      0                 0        215000  \n",
       "40                      2                 0        213000  \n",
       "41                      4                 0        325020  \n",
       "42                      4                 0        336121  \n",
       "43                      4                 0        223121  \n",
       "44                      2                 0        526000  \n",
       "45                      0                 0        227100  \n",
       "46                      2                 0        415000  \n",
       "47                      2                 0        216000  \n",
       "48                      0                 0        134101  \n",
       "49                      5                 0        225021  "
      ]
     },
     "execution_count": 180,
     "metadata": {},
     "output_type": "execute_result"
    }
   ],
   "source": [
    "new_users"
   ]
  },
  {
   "cell_type": "markdown",
   "id": "7aea8c9c-6b21-4e06-8e19-3476973e087c",
   "metadata": {},
   "source": [
    "Now let's take a look to the final results:"
   ]
  },
  {
   "cell_type": "code",
   "execution_count": 181,
   "id": "0000b147-c280-40ff-9a9a-57921c40f1c9",
   "metadata": {},
   "outputs": [
    {
     "data": {
      "text/html": [
       "<div>\n",
       "<style scoped>\n",
       "    .dataframe tbody tr th:only-of-type {\n",
       "        vertical-align: middle;\n",
       "    }\n",
       "\n",
       "    .dataframe tbody tr th {\n",
       "        vertical-align: top;\n",
       "    }\n",
       "\n",
       "    .dataframe thead th {\n",
       "        text-align: right;\n",
       "    }\n",
       "</style>\n",
       "<table border=\"1\" class=\"dataframe\">\n",
       "  <thead>\n",
       "    <tr style=\"text-align: right;\">\n",
       "      <th></th>\n",
       "      <th>Signature</th>\n",
       "      <th>CustomerID</th>\n",
       "    </tr>\n",
       "  </thead>\n",
       "  <tbody>\n",
       "    <tr>\n",
       "      <th>0</th>\n",
       "      <td>115100</td>\n",
       "      <td>{CUST42490, CUST0, CUST139040, CUST124875, CUS...</td>\n",
       "    </tr>\n",
       "    <tr>\n",
       "      <th>1</th>\n",
       "      <td>743009</td>\n",
       "      <td>{CUST130868, CUST81696, CUST1}</td>\n",
       "    </tr>\n",
       "    <tr>\n",
       "      <th>2</th>\n",
       "      <td>125121</td>\n",
       "      <td>{CUST5598, CUST2, CUST23419, CUST67542, CUST23...</td>\n",
       "    </tr>\n",
       "    <tr>\n",
       "      <th>3</th>\n",
       "      <td>437100</td>\n",
       "      <td>{CUST18721, CUST4552, CUST64385, CUST17438, CU...</td>\n",
       "    </tr>\n",
       "    <tr>\n",
       "      <th>4</th>\n",
       "      <td>234102</td>\n",
       "      <td>{CUST90072, CUST92980, CUST32168, CUST35171, C...</td>\n",
       "    </tr>\n",
       "    <tr>\n",
       "      <th>...</th>\n",
       "      <td>...</td>\n",
       "      <td>...</td>\n",
       "    </tr>\n",
       "    <tr>\n",
       "      <th>3663</th>\n",
       "      <td>1425121</td>\n",
       "      <td>{CUST162148}</td>\n",
       "    </tr>\n",
       "    <tr>\n",
       "      <th>3664</th>\n",
       "      <td>1336021</td>\n",
       "      <td>{CUST162220}</td>\n",
       "    </tr>\n",
       "    <tr>\n",
       "      <th>3665</th>\n",
       "      <td>152129</td>\n",
       "      <td>{CUST162223}</td>\n",
       "    </tr>\n",
       "    <tr>\n",
       "      <th>3666</th>\n",
       "      <td>466125</td>\n",
       "      <td>{CUST162284}</td>\n",
       "    </tr>\n",
       "    <tr>\n",
       "      <th>3667</th>\n",
       "      <td>328020</td>\n",
       "      <td>{CUST162285}</td>\n",
       "    </tr>\n",
       "  </tbody>\n",
       "</table>\n",
       "<p>3668 rows × 2 columns</p>\n",
       "</div>"
      ],
      "text/plain": [
       "     Signature                                         CustomerID\n",
       "0       115100  {CUST42490, CUST0, CUST139040, CUST124875, CUS...\n",
       "1       743009                     {CUST130868, CUST81696, CUST1}\n",
       "2       125121  {CUST5598, CUST2, CUST23419, CUST67542, CUST23...\n",
       "3       437100  {CUST18721, CUST4552, CUST64385, CUST17438, CU...\n",
       "4       234102  {CUST90072, CUST92980, CUST32168, CUST35171, C...\n",
       "...        ...                                                ...\n",
       "3663   1425121                                       {CUST162148}\n",
       "3664   1336021                                       {CUST162220}\n",
       "3665    152129                                       {CUST162223}\n",
       "3666    466125                                       {CUST162284}\n",
       "3667    328020                                       {CUST162285}\n",
       "\n",
       "[3668 rows x 2 columns]"
      ]
     },
     "execution_count": 181,
     "metadata": {},
     "output_type": "execute_result"
    }
   ],
   "source": [
    "pd.DataFrame(list(bins.items()), columns = ['Signature', 'CustomerID'])"
   ]
  },
  {
   "cell_type": "code",
   "execution_count": 188,
   "id": "f638f74d-7e6b-4cd4-b68c-1b164da58bee",
   "metadata": {},
   "outputs": [],
   "source": [
    "customers_data = customers_data.drop_duplicates(subset=['MyCustomerID'])"
   ]
  },
  {
   "cell_type": "code",
   "execution_count": 219,
   "id": "38bb7e0f-d9f2-4cb0-9c3d-6f9d822d24ab",
   "metadata": {},
   "outputs": [
    {
     "data": {
      "text/html": [
       "<div>\n",
       "<style scoped>\n",
       "    .dataframe tbody tr th:only-of-type {\n",
       "        vertical-align: middle;\n",
       "    }\n",
       "\n",
       "    .dataframe tbody tr th {\n",
       "        vertical-align: top;\n",
       "    }\n",
       "\n",
       "    .dataframe thead th {\n",
       "        text-align: right;\n",
       "    }\n",
       "</style>\n",
       "<table border=\"1\" class=\"dataframe\">\n",
       "  <thead>\n",
       "    <tr style=\"text-align: right;\">\n",
       "      <th></th>\n",
       "      <th>TransactionID</th>\n",
       "      <th>CustomerID</th>\n",
       "      <th>CustomerDOB</th>\n",
       "      <th>CustGender</th>\n",
       "      <th>CustLocation</th>\n",
       "      <th>CustAccountBalance</th>\n",
       "      <th>TransactionDate</th>\n",
       "      <th>TransactionTime</th>\n",
       "      <th>TransactionAmount (INR)</th>\n",
       "      <th>CustomerAge</th>\n",
       "      <th>MyCustomerID</th>\n",
       "      <th>MostFrequentDayOfWeek</th>\n",
       "      <th>MostFrequentTime</th>\n",
       "      <th>AverageTransactionAmount</th>\n",
       "      <th>TransactionPercentage</th>\n",
       "      <th>MinHashOutput</th>\n",
       "    </tr>\n",
       "  </thead>\n",
       "  <tbody>\n",
       "    <tr>\n",
       "      <th>4252</th>\n",
       "      <td>T4253</td>\n",
       "      <td>C3218492</td>\n",
       "      <td>1988-08-20</td>\n",
       "      <td>M</td>\n",
       "      <td>NIZAMABAD</td>\n",
       "      <td>4413.71</td>\n",
       "      <td>2016-09-22</td>\n",
       "      <td>09:15:56</td>\n",
       "      <td>14.0</td>\n",
       "      <td>34</td>\n",
       "      <td>CUST3661</td>\n",
       "      <td>1</td>\n",
       "      <td>0</td>\n",
       "      <td>32.928571</td>\n",
       "      <td>0.746052</td>\n",
       "      <td>213000</td>\n",
       "    </tr>\n",
       "    <tr>\n",
       "      <th>4618</th>\n",
       "      <td>T4619</td>\n",
       "      <td>C7118336</td>\n",
       "      <td>1991-10-05</td>\n",
       "      <td>M</td>\n",
       "      <td>KOLHAPUR</td>\n",
       "      <td>5701.20</td>\n",
       "      <td>2016-09-22</td>\n",
       "      <td>14:12:57</td>\n",
       "      <td>10.0</td>\n",
       "      <td>31</td>\n",
       "      <td>CUST3977</td>\n",
       "      <td>3</td>\n",
       "      <td>0</td>\n",
       "      <td>20.000000</td>\n",
       "      <td>0.350803</td>\n",
       "      <td>213000</td>\n",
       "    </tr>\n",
       "    <tr>\n",
       "      <th>4684</th>\n",
       "      <td>T4685</td>\n",
       "      <td>C8919258</td>\n",
       "      <td>1990-05-08</td>\n",
       "      <td>M</td>\n",
       "      <td>HISAR</td>\n",
       "      <td>5887.94</td>\n",
       "      <td>2016-09-22</td>\n",
       "      <td>15:52:35</td>\n",
       "      <td>48.0</td>\n",
       "      <td>33</td>\n",
       "      <td>CUST4033</td>\n",
       "      <td>3</td>\n",
       "      <td>0</td>\n",
       "      <td>34.000000</td>\n",
       "      <td>0.577452</td>\n",
       "      <td>213000</td>\n",
       "    </tr>\n",
       "    <tr>\n",
       "      <th>5828</th>\n",
       "      <td>T5829</td>\n",
       "      <td>C8829833</td>\n",
       "      <td>1990-02-20</td>\n",
       "      <td>M</td>\n",
       "      <td>MUMBAI</td>\n",
       "      <td>5591.99</td>\n",
       "      <td>2016-09-22</td>\n",
       "      <td>15:37:14</td>\n",
       "      <td>10.0</td>\n",
       "      <td>33</td>\n",
       "      <td>CUST4977</td>\n",
       "      <td>3</td>\n",
       "      <td>0</td>\n",
       "      <td>10.000000</td>\n",
       "      <td>0.178827</td>\n",
       "      <td>213000</td>\n",
       "    </tr>\n",
       "    <tr>\n",
       "      <th>8830</th>\n",
       "      <td>T8831</td>\n",
       "      <td>C3915092</td>\n",
       "      <td>1991-07-12</td>\n",
       "      <td>M</td>\n",
       "      <td>BANGALORE</td>\n",
       "      <td>4284.96</td>\n",
       "      <td>2016-09-25</td>\n",
       "      <td>20:08:09</td>\n",
       "      <td>58.0</td>\n",
       "      <td>31</td>\n",
       "      <td>CUST7422</td>\n",
       "      <td>2</td>\n",
       "      <td>0</td>\n",
       "      <td>42.818182</td>\n",
       "      <td>0.999267</td>\n",
       "      <td>213000</td>\n",
       "    </tr>\n",
       "    <tr>\n",
       "      <th>...</th>\n",
       "      <td>...</td>\n",
       "      <td>...</td>\n",
       "      <td>...</td>\n",
       "      <td>...</td>\n",
       "      <td>...</td>\n",
       "      <td>...</td>\n",
       "      <td>...</td>\n",
       "      <td>...</td>\n",
       "      <td>...</td>\n",
       "      <td>...</td>\n",
       "      <td>...</td>\n",
       "      <td>...</td>\n",
       "      <td>...</td>\n",
       "      <td>...</td>\n",
       "      <td>...</td>\n",
       "      <td>...</td>\n",
       "    </tr>\n",
       "    <tr>\n",
       "      <th>935007</th>\n",
       "      <td>T935008</td>\n",
       "      <td>C1532748</td>\n",
       "      <td>1987-03-28</td>\n",
       "      <td>M</td>\n",
       "      <td>ALMORA</td>\n",
       "      <td>2184.87</td>\n",
       "      <td>2016-11-09</td>\n",
       "      <td>17:49:41</td>\n",
       "      <td>20.0</td>\n",
       "      <td>36</td>\n",
       "      <td>CUST155590</td>\n",
       "      <td>2</td>\n",
       "      <td>0</td>\n",
       "      <td>20.000000</td>\n",
       "      <td>0.915386</td>\n",
       "      <td>213000</td>\n",
       "    </tr>\n",
       "    <tr>\n",
       "      <th>940571</th>\n",
       "      <td>T940572</td>\n",
       "      <td>C6434721</td>\n",
       "      <td>1988-01-28</td>\n",
       "      <td>M</td>\n",
       "      <td>CHENNAI</td>\n",
       "      <td>5065.02</td>\n",
       "      <td>2016-11-09</td>\n",
       "      <td>23:16:20</td>\n",
       "      <td>30.0</td>\n",
       "      <td>35</td>\n",
       "      <td>CUST156015</td>\n",
       "      <td>2</td>\n",
       "      <td>0</td>\n",
       "      <td>30.000000</td>\n",
       "      <td>0.592298</td>\n",
       "      <td>213000</td>\n",
       "    </tr>\n",
       "    <tr>\n",
       "      <th>980712</th>\n",
       "      <td>T980713</td>\n",
       "      <td>C4431860</td>\n",
       "      <td>1987-05-03</td>\n",
       "      <td>M</td>\n",
       "      <td>RAIGARH CG RAIGARH</td>\n",
       "      <td>5377.39</td>\n",
       "      <td>2016-09-15</td>\n",
       "      <td>11:37:40</td>\n",
       "      <td>50.0</td>\n",
       "      <td>36</td>\n",
       "      <td>CUST158425</td>\n",
       "      <td>3</td>\n",
       "      <td>0</td>\n",
       "      <td>50.000000</td>\n",
       "      <td>0.929819</td>\n",
       "      <td>213000</td>\n",
       "    </tr>\n",
       "    <tr>\n",
       "      <th>988055</th>\n",
       "      <td>T988056</td>\n",
       "      <td>C7123539</td>\n",
       "      <td>1992-09-09</td>\n",
       "      <td>M</td>\n",
       "      <td>CHANDIGARH</td>\n",
       "      <td>2022.83</td>\n",
       "      <td>2016-09-15</td>\n",
       "      <td>23:41:01</td>\n",
       "      <td>17.0</td>\n",
       "      <td>30</td>\n",
       "      <td>CUST158881</td>\n",
       "      <td>3</td>\n",
       "      <td>0</td>\n",
       "      <td>17.000000</td>\n",
       "      <td>0.840407</td>\n",
       "      <td>213000</td>\n",
       "    </tr>\n",
       "    <tr>\n",
       "      <th>993228</th>\n",
       "      <td>T993229</td>\n",
       "      <td>C3315926</td>\n",
       "      <td>1990-03-30</td>\n",
       "      <td>M</td>\n",
       "      <td>YADGIR</td>\n",
       "      <td>5935.29</td>\n",
       "      <td>2016-09-15</td>\n",
       "      <td>21:12:01</td>\n",
       "      <td>68.0</td>\n",
       "      <td>33</td>\n",
       "      <td>CUST159164</td>\n",
       "      <td>3</td>\n",
       "      <td>0</td>\n",
       "      <td>46.500000</td>\n",
       "      <td>0.783450</td>\n",
       "      <td>213000</td>\n",
       "    </tr>\n",
       "  </tbody>\n",
       "</table>\n",
       "<p>131 rows × 16 columns</p>\n",
       "</div>"
      ],
      "text/plain": [
       "       TransactionID CustomerID CustomerDOB CustGender        CustLocation  \\\n",
       "4252           T4253   C3218492  1988-08-20          M           NIZAMABAD   \n",
       "4618           T4619   C7118336  1991-10-05          M            KOLHAPUR   \n",
       "4684           T4685   C8919258  1990-05-08          M               HISAR   \n",
       "5828           T5829   C8829833  1990-02-20          M              MUMBAI   \n",
       "8830           T8831   C3915092  1991-07-12          M           BANGALORE   \n",
       "...              ...        ...         ...        ...                 ...   \n",
       "935007       T935008   C1532748  1987-03-28          M              ALMORA   \n",
       "940571       T940572   C6434721  1988-01-28          M             CHENNAI   \n",
       "980712       T980713   C4431860  1987-05-03          M  RAIGARH CG RAIGARH   \n",
       "988055       T988056   C7123539  1992-09-09          M          CHANDIGARH   \n",
       "993228       T993229   C3315926  1990-03-30          M              YADGIR   \n",
       "\n",
       "        CustAccountBalance TransactionDate TransactionTime  \\\n",
       "4252               4413.71      2016-09-22        09:15:56   \n",
       "4618               5701.20      2016-09-22        14:12:57   \n",
       "4684               5887.94      2016-09-22        15:52:35   \n",
       "5828               5591.99      2016-09-22        15:37:14   \n",
       "8830               4284.96      2016-09-25        20:08:09   \n",
       "...                    ...             ...             ...   \n",
       "935007             2184.87      2016-11-09        17:49:41   \n",
       "940571             5065.02      2016-11-09        23:16:20   \n",
       "980712             5377.39      2016-09-15        11:37:40   \n",
       "988055             2022.83      2016-09-15        23:41:01   \n",
       "993228             5935.29      2016-09-15        21:12:01   \n",
       "\n",
       "        TransactionAmount (INR)  CustomerAge MyCustomerID  \\\n",
       "4252                       14.0           34     CUST3661   \n",
       "4618                       10.0           31     CUST3977   \n",
       "4684                       48.0           33     CUST4033   \n",
       "5828                       10.0           33     CUST4977   \n",
       "8830                       58.0           31     CUST7422   \n",
       "...                         ...          ...          ...   \n",
       "935007                     20.0           36   CUST155590   \n",
       "940571                     30.0           35   CUST156015   \n",
       "980712                     50.0           36   CUST158425   \n",
       "988055                     17.0           30   CUST158881   \n",
       "993228                     68.0           33   CUST159164   \n",
       "\n",
       "        MostFrequentDayOfWeek  MostFrequentTime  AverageTransactionAmount  \\\n",
       "4252                        1                 0                 32.928571   \n",
       "4618                        3                 0                 20.000000   \n",
       "4684                        3                 0                 34.000000   \n",
       "5828                        3                 0                 10.000000   \n",
       "8830                        2                 0                 42.818182   \n",
       "...                       ...               ...                       ...   \n",
       "935007                      2                 0                 20.000000   \n",
       "940571                      2                 0                 30.000000   \n",
       "980712                      3                 0                 50.000000   \n",
       "988055                      3                 0                 17.000000   \n",
       "993228                      3                 0                 46.500000   \n",
       "\n",
       "        TransactionPercentage MinHashOutput  \n",
       "4252                 0.746052        213000  \n",
       "4618                 0.350803        213000  \n",
       "4684                 0.577452        213000  \n",
       "5828                 0.178827        213000  \n",
       "8830                 0.999267        213000  \n",
       "...                       ...           ...  \n",
       "935007               0.915386        213000  \n",
       "940571               0.592298        213000  \n",
       "980712               0.929819        213000  \n",
       "988055               0.840407        213000  \n",
       "993228               0.783450        213000  \n",
       "\n",
       "[131 rows x 16 columns]"
      ]
     },
     "execution_count": 219,
     "metadata": {},
     "output_type": "execute_result"
    }
   ],
   "source": [
    "customers_data.loc[customers_data.loc[:,'MinHashOutput'] == '213000']"
   ]
  },
  {
   "cell_type": "code",
   "execution_count": 208,
   "id": "9669ba82-cc17-42dc-8f61-cff37ff504d4",
   "metadata": {},
   "outputs": [
    {
     "data": {
      "text/html": [
       "<div>\n",
       "<style scoped>\n",
       "    .dataframe tbody tr th:only-of-type {\n",
       "        vertical-align: middle;\n",
       "    }\n",
       "\n",
       "    .dataframe tbody tr th {\n",
       "        vertical-align: top;\n",
       "    }\n",
       "\n",
       "    .dataframe thead th {\n",
       "        text-align: right;\n",
       "    }\n",
       "</style>\n",
       "<table border=\"1\" class=\"dataframe\">\n",
       "  <thead>\n",
       "    <tr style=\"text-align: right;\">\n",
       "      <th></th>\n",
       "      <th>CustomerDOB</th>\n",
       "      <th>CustGender</th>\n",
       "      <th>CustLocation</th>\n",
       "      <th>CustAccountBalance</th>\n",
       "      <th>TransactionDate</th>\n",
       "      <th>TransactionTime</th>\n",
       "      <th>TransactionAmount (INR)</th>\n",
       "      <th>CustomerAge</th>\n",
       "      <th>MyCustomerID</th>\n",
       "      <th>AverageTransactionAmount</th>\n",
       "      <th>TransactionPercentage</th>\n",
       "      <th>MostFrequentDayOfWeek</th>\n",
       "      <th>MostFrequentTime</th>\n",
       "      <th>MinHashOutput</th>\n",
       "    </tr>\n",
       "  </thead>\n",
       "  <tbody>\n",
       "    <tr>\n",
       "      <th>40</th>\n",
       "      <td>1987-02-18</td>\n",
       "      <td>M</td>\n",
       "      <td>CHENNAI</td>\n",
       "      <td>2887.39</td>\n",
       "      <td>2016-08-24</td>\n",
       "      <td>18:17:03</td>\n",
       "      <td>20.0</td>\n",
       "      <td>36</td>\n",
       "      <td>QUERY_CUST36</td>\n",
       "      <td>20.0</td>\n",
       "      <td>0.692667</td>\n",
       "      <td>2</td>\n",
       "      <td>0</td>\n",
       "      <td>213000</td>\n",
       "    </tr>\n",
       "  </tbody>\n",
       "</table>\n",
       "</div>"
      ],
      "text/plain": [
       "   CustomerDOB CustGender CustLocation  CustAccountBalance TransactionDate  \\\n",
       "40  1987-02-18          M      CHENNAI             2887.39      2016-08-24   \n",
       "\n",
       "   TransactionTime  TransactionAmount (INR)  CustomerAge  MyCustomerID  \\\n",
       "40        18:17:03                     20.0           36  QUERY_CUST36   \n",
       "\n",
       "    AverageTransactionAmount  TransactionPercentage  MostFrequentDayOfWeek  \\\n",
       "40                      20.0               0.692667                      2   \n",
       "\n",
       "    MostFrequentTime MinHashOutput  \n",
       "40                 0        213000  "
      ]
     },
     "execution_count": 208,
     "metadata": {},
     "output_type": "execute_result"
    }
   ],
   "source": [
    "new_users.loc[new_users.loc[:,'MinHashOutput'] == '213000']"
   ]
  },
  {
   "cell_type": "markdown",
   "id": "911d9bac-de16-434d-bd9f-7b0283bf90be",
   "metadata": {},
   "source": [
    "As we can see from the results, all costumers in bin **'325001'**:\n",
    "- Usually do the most transactions in the day time rather than the night time.\n",
    "- Do the most transactions in the week days.\n",
    "- On average, the percentage of their transactions on the account balance is less than 1%.\n",
    "- The average transaction amount is more than 10 euros, but less 60 euros.\n",
    "- Their age is between 30 and 36 years.\n",
    "- They are all men.\n",
    "- Their account balance is between 1.100 and 6.000 euros.\n",
    "Of course our threshold is pretty big, such that we found in single bin 150 customers. To make the bins less full, we could add more filters such as number of transactions or the distance between customer's locations. We could also calculate other statistic as medians or quantiles.\n",
    "Nevertheless, this seems already a pretty good result."
   ]
  },
  {
   "cell_type": "markdown",
   "id": "0b6e9929-3f12-44cd-a021-94e4696ea153",
   "metadata": {
    "tags": []
   },
   "source": [
    "# 2 Grouping customers together!"
   ]
  },
  {
   "cell_type": "markdown",
   "id": "1e57c0a5-648f-4af4-9e70-d934c91d55e4",
   "metadata": {
    "tags": []
   },
   "source": [
    "## 2.1 Getting your data + feature engineering"
   ]
  },
  {
   "cell_type": "code",
   "execution_count": 2,
   "id": "47af7a3e-6a35-46c7-bec2-47e864e5fe08",
   "metadata": {},
   "outputs": [],
   "source": [
    "#Some useful library\n",
    "import pandas as pd\n",
    "import statistics\n",
    "import numpy as np"
   ]
  },
  {
   "cell_type": "code",
   "execution_count": 62,
   "id": "965d63e2-439a-4237-bf12-1430eb702c7d",
   "metadata": {},
   "outputs": [],
   "source": [
    "#I read the csv file\n",
    "data = pd.read_csv('bank_transactions.csv')"
   ]
  },
  {
   "cell_type": "code",
   "execution_count": 63,
   "id": "00e96708-1d6a-4b86-8e49-9a699bbee809",
   "metadata": {},
   "outputs": [
    {
     "name": "stdout",
     "output_type": "stream",
     "text": [
      "<class 'pandas.core.frame.DataFrame'>\n",
      "RangeIndex: 1048567 entries, 0 to 1048566\n",
      "Data columns (total 9 columns):\n",
      " #   Column                   Non-Null Count    Dtype  \n",
      "---  ------                   --------------    -----  \n",
      " 0   TransactionID            1048567 non-null  object \n",
      " 1   CustomerID               1048567 non-null  object \n",
      " 2   CustomerDOB              1045170 non-null  object \n",
      " 3   CustGender               1047467 non-null  object \n",
      " 4   CustLocation             1048416 non-null  object \n",
      " 5   CustAccountBalance       1046198 non-null  float64\n",
      " 6   TransactionDate          1048567 non-null  object \n",
      " 7   TransactionTime          1048567 non-null  int64  \n",
      " 8   TransactionAmount (INR)  1048567 non-null  float64\n",
      "dtypes: float64(2), int64(1), object(6)\n",
      "memory usage: 72.0+ MB\n"
     ]
    },
    {
     "data": {
      "text/html": [
       "<div>\n",
       "<style scoped>\n",
       "    .dataframe tbody tr th:only-of-type {\n",
       "        vertical-align: middle;\n",
       "    }\n",
       "\n",
       "    .dataframe tbody tr th {\n",
       "        vertical-align: top;\n",
       "    }\n",
       "\n",
       "    .dataframe thead th {\n",
       "        text-align: right;\n",
       "    }\n",
       "</style>\n",
       "<table border=\"1\" class=\"dataframe\">\n",
       "  <thead>\n",
       "    <tr style=\"text-align: right;\">\n",
       "      <th></th>\n",
       "      <th>TransactionID</th>\n",
       "      <th>CustomerID</th>\n",
       "      <th>CustomerDOB</th>\n",
       "      <th>CustGender</th>\n",
       "      <th>CustLocation</th>\n",
       "      <th>CustAccountBalance</th>\n",
       "      <th>TransactionDate</th>\n",
       "      <th>TransactionTime</th>\n",
       "      <th>TransactionAmount (INR)</th>\n",
       "    </tr>\n",
       "  </thead>\n",
       "  <tbody>\n",
       "    <tr>\n",
       "      <th>0</th>\n",
       "      <td>T1</td>\n",
       "      <td>C5841053</td>\n",
       "      <td>10/1/94</td>\n",
       "      <td>F</td>\n",
       "      <td>JAMSHEDPUR</td>\n",
       "      <td>17819.05</td>\n",
       "      <td>2/8/16</td>\n",
       "      <td>143207</td>\n",
       "      <td>25.0</td>\n",
       "    </tr>\n",
       "    <tr>\n",
       "      <th>1</th>\n",
       "      <td>T2</td>\n",
       "      <td>C2142763</td>\n",
       "      <td>4/4/57</td>\n",
       "      <td>M</td>\n",
       "      <td>JHAJJAR</td>\n",
       "      <td>2270.69</td>\n",
       "      <td>2/8/16</td>\n",
       "      <td>141858</td>\n",
       "      <td>27999.0</td>\n",
       "    </tr>\n",
       "    <tr>\n",
       "      <th>2</th>\n",
       "      <td>T3</td>\n",
       "      <td>C4417068</td>\n",
       "      <td>26/11/96</td>\n",
       "      <td>F</td>\n",
       "      <td>MUMBAI</td>\n",
       "      <td>17874.44</td>\n",
       "      <td>2/8/16</td>\n",
       "      <td>142712</td>\n",
       "      <td>459.0</td>\n",
       "    </tr>\n",
       "    <tr>\n",
       "      <th>3</th>\n",
       "      <td>T4</td>\n",
       "      <td>C5342380</td>\n",
       "      <td>14/9/73</td>\n",
       "      <td>F</td>\n",
       "      <td>MUMBAI</td>\n",
       "      <td>866503.21</td>\n",
       "      <td>2/8/16</td>\n",
       "      <td>142714</td>\n",
       "      <td>2060.0</td>\n",
       "    </tr>\n",
       "    <tr>\n",
       "      <th>4</th>\n",
       "      <td>T5</td>\n",
       "      <td>C9031234</td>\n",
       "      <td>24/3/88</td>\n",
       "      <td>F</td>\n",
       "      <td>NAVI MUMBAI</td>\n",
       "      <td>6714.43</td>\n",
       "      <td>2/8/16</td>\n",
       "      <td>181156</td>\n",
       "      <td>1762.5</td>\n",
       "    </tr>\n",
       "  </tbody>\n",
       "</table>\n",
       "</div>"
      ],
      "text/plain": [
       "  TransactionID CustomerID CustomerDOB CustGender CustLocation  \\\n",
       "0            T1   C5841053     10/1/94          F   JAMSHEDPUR   \n",
       "1            T2   C2142763      4/4/57          M      JHAJJAR   \n",
       "2            T3   C4417068    26/11/96          F       MUMBAI   \n",
       "3            T4   C5342380     14/9/73          F       MUMBAI   \n",
       "4            T5   C9031234     24/3/88          F  NAVI MUMBAI   \n",
       "\n",
       "   CustAccountBalance TransactionDate  TransactionTime  \\\n",
       "0            17819.05          2/8/16           143207   \n",
       "1             2270.69          2/8/16           141858   \n",
       "2            17874.44          2/8/16           142712   \n",
       "3           866503.21          2/8/16           142714   \n",
       "4             6714.43          2/8/16           181156   \n",
       "\n",
       "   TransactionAmount (INR)  \n",
       "0                     25.0  \n",
       "1                  27999.0  \n",
       "2                    459.0  \n",
       "3                   2060.0  \n",
       "4                   1762.5  "
      ]
     },
     "execution_count": 63,
     "metadata": {},
     "output_type": "execute_result"
    }
   ],
   "source": [
    "data.info()\n",
    "data.head()"
   ]
  },
  {
   "cell_type": "code",
   "execution_count": 64,
   "id": "72a7d108-4960-48de-8306-7de1f2a6e780",
   "metadata": {},
   "outputs": [],
   "source": [
    "#I delete all the rows of the dataframe which contain NA values\n",
    "data.dropna(inplace=True) "
   ]
  },
  {
   "cell_type": "code",
   "execution_count": 65,
   "id": "6efbff13-7272-4b32-a849-4e3ff861ec93",
   "metadata": {},
   "outputs": [],
   "source": [
    "#I am changing the format of the date of birth and the date of the transaction\n",
    "#to make it clearer\n",
    "data.CustomerDOB = pd.to_datetime(data.CustomerDOB)\n",
    "data.TransactionDate = pd.to_datetime(data.TransactionDate)"
   ]
  },
  {
   "cell_type": "code",
   "execution_count": 66,
   "id": "23e68ac5-2a63-40bb-b435-0853e87ef18a",
   "metadata": {},
   "outputs": [],
   "source": [
    "def zeros(x):\n",
    "    l = len(x)\n",
    "    if l != 6:\n",
    "        x = '0' * (6-l) + x\n",
    "        \n",
    "    return x"
   ]
  },
  {
   "cell_type": "code",
   "execution_count": 67,
   "id": "bfb5c762-1b47-4e1a-a817-b360bc97080f",
   "metadata": {},
   "outputs": [],
   "source": [
    "#I change the time format in TransactionTime\n",
    "data.TransactionTime = list(map(str,data.TransactionTime))\n",
    "data.TransactionTime = list(map(zeros,data.TransactionTime))\n",
    "data.TransactionTime = data.TransactionTime.apply(lambda x: f'{x[:2]}:{x[2:4]}:{x[4:]}')\n",
    "data.TransactionTime = pd.to_datetime(data.TransactionTime, format='%H:%M:%S')\n",
    "data.TransactionTime = pd.to_datetime(data.TransactionTime).dt.time"
   ]
  },
  {
   "cell_type": "code",
   "execution_count": 68,
   "id": "eab11a69-ead3-4914-af71-6b3be44bbecb",
   "metadata": {},
   "outputs": [],
   "source": [
    "#Customers born after 2000 are considered born 100 years earlier\n",
    "#I drop out the customers born in 1800 from the dataset\n",
    "data.loc[data.CustomerDOB.dt.year > 2000, 'CustomerDOB'] = data.loc[data.CustomerDOB.dt.year > 2000, 'CustomerDOB'] - pd.DateOffset(years = 100)\n",
    "data.drop(data[data.CustomerDOB.dt.year == 1800].index, axis=0, inplace=True)"
   ]
  },
  {
   "cell_type": "code",
   "execution_count": 17,
   "id": "e063953d-a69c-4dd0-bbe5-fe4292fd42fd",
   "metadata": {},
   "outputs": [
    {
     "name": "stderr",
     "output_type": "stream",
     "text": [
      "Matplotlib is building the font cache; this may take a moment.\n"
     ]
    },
    {
     "data": {
      "text/plain": [
       "<AxesSubplot:>"
      ]
     },
     "execution_count": 17,
     "metadata": {},
     "output_type": "execute_result"
    },
    {
     "data": {
      "image/png": "[encoded data removed]",
      "text/plain": [
       "<Figure size 432x288 with 1 Axes>"
      ]
     },
     "metadata": {
      "needs_background": "light"
     },
     "output_type": "display_data"
    }
   ],
   "source": [
    "data.CustomerDOB.dt.year.hist(bins=50)"
   ]
  },
  {
   "cell_type": "code",
   "execution_count": 69,
   "id": "e40bb59f-9fe5-4788-97bf-aaedce4097fe",
   "metadata": {},
   "outputs": [],
   "source": [
    "#I sort the dataset with respect to the columns 'TransactionDate' and 'TransactionTime'\n",
    "data.sort_values(by=['TransactionDate', 'TransactionTime'], inplace = True)"
   ]
  },
  {
   "cell_type": "code",
   "execution_count": 70,
   "id": "5e83f263-7d5e-4abb-8a22-699fec1b54d2",
   "metadata": {},
   "outputs": [],
   "source": [
    "#I add four columns to the dataframe\n",
    "#The first one contains the age of the customers\n",
    "data['CustomerAge'] = ((pd.to_datetime('today') - data.CustomerDOB) / np.timedelta64(1, 'Y')).round(0)\n",
    "data['CustomerAge'] = data['CustomerAge'].astype(int)\n",
    "#The second one contains the utilisation\n",
    "data['Utilisation'] = data['CustAccountBalance'] - data['TransactionAmount (INR)']\n",
    "#The third one contains the month of the transaction\n",
    "data['Month_of_Transaction']=data.TransactionDate.dt.month\n",
    "#The fourth one contains the day of the transaction\n",
    "data['Day_of_Transaction']=data.TransactionDate.dt.day"
   ]
  },
  {
   "cell_type": "code",
   "execution_count": 71,
   "id": "f6b18173-f6ac-44d0-9ee9-3d496e8c90e8",
   "metadata": {},
   "outputs": [],
   "source": [
    "#I create a new dataframe where I'm going to insert the new features\n",
    "data_customer = pd.DataFrame(data=None, index=None, columns=None, dtype=None, copy=False)\n",
    "#Group data by clients (using CustomerId)\n",
    "dt_customer=data.groupby('CustomerID')"
   ]
  },
  {
   "cell_type": "markdown",
   "id": "ee6aad94-0071-4b8e-94bf-f5078d8e4346",
   "metadata": {},
   "source": [
    "I group data by the client (using CustomerId) and I create the following new features for each CustomerId:\n",
    "\n",
    "a) Number of transactions\n",
    "\n",
    "b) Number of transactions with a balance bigger than 100\n",
    "\n",
    "c) Average amount of the transactions\n",
    "\n",
    "d) Average balance\n",
    "\n",
    "e) Average utilisation\n",
    "\n",
    "f) Most common gender of the customer\n",
    "\n",
    "h) Most frequent location of the customer"
   ]
  },
  {
   "cell_type": "code",
   "execution_count": 72,
   "id": "008da681-8a43-472f-a58f-81f0acfc7909",
   "metadata": {},
   "outputs": [],
   "source": [
    "#Number of transactions\n",
    "data_customer['Number_of_transactions'] = dt_customer.TransactionID.count()\n",
    "#Number of transactions with a balance bigger than 100\n",
    "data_customer['Numb_trans>100'] = dt_customer['TransactionAmount (INR)'].apply(lambda x: (x>100).sum())\n",
    "#Average amount of the transactions\n",
    "data_customer['Average_of_transactions'] = dt_customer['TransactionAmount (INR)'].mean().round(2)\n",
    "#Average balance\n",
    "data_customer['Average_balance'] = dt_customer['CustAccountBalance'].mean().round(2)\n",
    "#Average utilisation\n",
    "data_customer['Utilisation'] = dt_customer['Utilisation'].mean().round(2)\n",
    "#Most common gender\n",
    "data_customer['Gender'] = dt_customer.CustGender.agg(statistics.mode)\n",
    "#Most frequent location\n",
    "data_customer['Location'] = dt_customer.CustLocation.agg(statistics.mode)"
   ]
  },
  {
   "cell_type": "code",
   "execution_count": 73,
   "id": "9bc69083-6d3e-4fcb-8a1f-83d454149e86",
   "metadata": {},
   "outputs": [
    {
     "data": {
      "text/html": [
       "<div>\n",
       "<style scoped>\n",
       "    .dataframe tbody tr th:only-of-type {\n",
       "        vertical-align: middle;\n",
       "    }\n",
       "\n",
       "    .dataframe tbody tr th {\n",
       "        vertical-align: top;\n",
       "    }\n",
       "\n",
       "    .dataframe thead th {\n",
       "        text-align: right;\n",
       "    }\n",
       "</style>\n",
       "<table border=\"1\" class=\"dataframe\">\n",
       "  <thead>\n",
       "    <tr style=\"text-align: right;\">\n",
       "      <th></th>\n",
       "      <th>Number_of_transactions</th>\n",
       "      <th>Numb_trans&gt;100</th>\n",
       "      <th>Average_of_transactions</th>\n",
       "      <th>Average_balance</th>\n",
       "      <th>Utilisation</th>\n",
       "      <th>Gender</th>\n",
       "      <th>Location</th>\n",
       "    </tr>\n",
       "    <tr>\n",
       "      <th>CustomerID</th>\n",
       "      <th></th>\n",
       "      <th></th>\n",
       "      <th></th>\n",
       "      <th></th>\n",
       "      <th></th>\n",
       "      <th></th>\n",
       "      <th></th>\n",
       "    </tr>\n",
       "  </thead>\n",
       "  <tbody>\n",
       "    <tr>\n",
       "      <th>C1010011</th>\n",
       "      <td>2</td>\n",
       "      <td>2</td>\n",
       "      <td>2553.0</td>\n",
       "      <td>76340.63</td>\n",
       "      <td>73787.63</td>\n",
       "      <td>M</td>\n",
       "      <td>NEW DELHI</td>\n",
       "    </tr>\n",
       "    <tr>\n",
       "      <th>C1010012</th>\n",
       "      <td>1</td>\n",
       "      <td>1</td>\n",
       "      <td>1499.0</td>\n",
       "      <td>24204.49</td>\n",
       "      <td>22705.49</td>\n",
       "      <td>M</td>\n",
       "      <td>MUMBAI</td>\n",
       "    </tr>\n",
       "    <tr>\n",
       "      <th>C1010014</th>\n",
       "      <td>2</td>\n",
       "      <td>2</td>\n",
       "      <td>727.5</td>\n",
       "      <td>100112.95</td>\n",
       "      <td>99385.45</td>\n",
       "      <td>F</td>\n",
       "      <td>MUMBAI</td>\n",
       "    </tr>\n",
       "    <tr>\n",
       "      <th>C1010018</th>\n",
       "      <td>1</td>\n",
       "      <td>0</td>\n",
       "      <td>30.0</td>\n",
       "      <td>496.18</td>\n",
       "      <td>466.18</td>\n",
       "      <td>F</td>\n",
       "      <td>CHAMPARAN</td>\n",
       "    </tr>\n",
       "    <tr>\n",
       "      <th>C1010024</th>\n",
       "      <td>1</td>\n",
       "      <td>1</td>\n",
       "      <td>5000.0</td>\n",
       "      <td>87058.65</td>\n",
       "      <td>82058.65</td>\n",
       "      <td>M</td>\n",
       "      <td>KOLKATA</td>\n",
       "    </tr>\n",
       "  </tbody>\n",
       "</table>\n",
       "</div>"
      ],
      "text/plain": [
       "            Number_of_transactions  Numb_trans>100  Average_of_transactions  \\\n",
       "CustomerID                                                                    \n",
       "C1010011                         2               2                   2553.0   \n",
       "C1010012                         1               1                   1499.0   \n",
       "C1010014                         2               2                    727.5   \n",
       "C1010018                         1               0                     30.0   \n",
       "C1010024                         1               1                   5000.0   \n",
       "\n",
       "            Average_balance  Utilisation Gender   Location  \n",
       "CustomerID                                                  \n",
       "C1010011           76340.63     73787.63      M  NEW DELHI  \n",
       "C1010012           24204.49     22705.49      M     MUMBAI  \n",
       "C1010014          100112.95     99385.45      F     MUMBAI  \n",
       "C1010018             496.18       466.18      F  CHAMPARAN  \n",
       "C1010024           87058.65     82058.65      M    KOLKATA  "
      ]
     },
     "execution_count": 73,
     "metadata": {},
     "output_type": "execute_result"
    }
   ],
   "source": [
    "data_customer.head()"
   ]
  },
  {
   "cell_type": "markdown",
   "id": "886f5d89-d671-49a8-8e27-5cea90ca440d",
   "metadata": {},
   "source": [
    "### Additional features"
   ]
  },
  {
   "cell_type": "markdown",
   "id": "74080702-0b81-4b00-b05b-5564956d5c4e",
   "metadata": {},
   "source": [
    "For each customerID I add the maximum and the minimum amount of the transactions and the maximum and minimum account balance. It can be useful to have information on the maximum and minimum transaction amount of each customerID and the maximum and minimum account balance of each customerID."
   ]
  },
  {
   "cell_type": "code",
   "execution_count": 74,
   "id": "478737f4-6f66-4efb-b0ea-c12d571f16e3",
   "metadata": {},
   "outputs": [],
   "source": [
    "data_customer['Max_Transaction_Amount'] = dt_customer['TransactionAmount (INR)'].max()\n",
    "data_customer['Min_Transaction_Amount'] = dt_customer['TransactionAmount (INR)'].min()\n",
    "data_customer['Max_Account_Balance'] = dt_customer['CustAccountBalance'].max()\n",
    "data_customer['Min_Account_Balance'] = dt_customer['CustAccountBalance'].min()"
   ]
  },
  {
   "cell_type": "markdown",
   "id": "43686616-2ff5-4eae-9542-ff248cd4253c",
   "metadata": {},
   "source": [
    "For each customerID I add the average age, the number of people (with that custumerID) over the age of 60, under the age of 18, between the ages of 18 and 60. It can be useful to understand how many young people and how many elderly people make transactions with the same custumerID."
   ]
  },
  {
   "cell_type": "code",
   "execution_count": 75,
   "id": "1affd20e-fd3b-4b98-8798-e22b6685add2",
   "metadata": {},
   "outputs": [],
   "source": [
    "data_customer['Average_Age'] = dt_customer['CustomerAge'].mean().round(2)"
   ]
  },
  {
   "cell_type": "code",
   "execution_count": 76,
   "id": "53217ee4-f4f6-4f69-a549-26e09a091f7a",
   "metadata": {},
   "outputs": [],
   "source": [
    "data_customer['Age>60'] = dt_customer['CustomerAge'].apply(lambda x: (x>60).sum())"
   ]
  },
  {
   "cell_type": "code",
   "execution_count": 77,
   "id": "dc1a197f-10ae-44c3-8897-c32de8642637",
   "metadata": {},
   "outputs": [],
   "source": [
    "data_customer['Age<18'] = dt_customer['CustomerAge'].apply(lambda x: (x<18).sum())"
   ]
  },
  {
   "cell_type": "code",
   "execution_count": 78,
   "id": "219e6e33-b94c-4836-93bd-51e5d6fa92d7",
   "metadata": {},
   "outputs": [],
   "source": [
    "data_customer['18<Age<60'] = dt_customer['CustomerAge'].apply(lambda x: ((x>18) & (x<60)).sum())"
   ]
  },
  {
   "cell_type": "markdown",
   "id": "faaa655f-a2d6-455b-9d25-8d1b8342cccc",
   "metadata": {},
   "source": [
    "For each customerID I add the number of women with that custumerID. It can be useful to understand how many women make transactions with the same custumerID."
   ]
  },
  {
   "cell_type": "code",
   "execution_count": 79,
   "id": "56fa3afc-49ea-4835-a07d-26a0cb3acfe5",
   "metadata": {},
   "outputs": [],
   "source": [
    "data_customer['Number_of_women'] = dt_customer['CustGender'].apply(lambda x: (x == 'F').sum())"
   ]
  },
  {
   "cell_type": "markdown",
   "id": "2b1e8a69-06ab-42e7-951d-015952d769d4",
   "metadata": {},
   "source": [
    "For each customerID I add the location of the first and the last transaction and the date of the first and the last transaction. It can be useful to understand how long the custumerID has been active and where the transactions are made."
   ]
  },
  {
   "cell_type": "code",
   "execution_count": 80,
   "id": "8829075d-4ef6-4cf2-8ee8-4504d754234e",
   "metadata": {},
   "outputs": [],
   "source": [
    "data_customer['First_Location'] = dt_customer.CustLocation.first()\n",
    "data_customer['Last_Location'] = dt_customer.CustLocation.last()\n",
    "data_customer['First_Transaction'] = dt_customer.TransactionDate.first()\n",
    "data_customer['Last_Transaction'] = dt_customer.TransactionDate.last()"
   ]
  },
  {
   "cell_type": "markdown",
   "id": "b407cf72-2f47-43d3-bb3a-e08678f8a9de",
   "metadata": {},
   "source": [
    "For each customerID I use the quantile function to add the number of transactions with an high amount and a low amount. "
   ]
  },
  {
   "cell_type": "code",
   "execution_count": 81,
   "id": "d9e61bf2-7144-47f0-af42-be578cd99564",
   "metadata": {},
   "outputs": [],
   "source": [
    "h_t=data['TransactionAmount (INR)'].quantile(0.8)\n",
    "l_t=data['TransactionAmount (INR)'].quantile(0.2)"
   ]
  },
  {
   "cell_type": "code",
   "execution_count": 82,
   "id": "80a1f80b-f291-4285-bd8e-b1123a64f416",
   "metadata": {},
   "outputs": [],
   "source": [
    "data_customer['Number_of_high_transactions'] = dt_customer['TransactionAmount (INR)'].apply(lambda x: (x>h_t).sum())\n",
    "data_customer['Number_of_low_transactions'] = dt_customer['TransactionAmount (INR)'].apply(lambda x: (x<l_t).sum())"
   ]
  },
  {
   "cell_type": "markdown",
   "id": "83b6f498-fc01-453a-91fd-316ce9aa671f",
   "metadata": {},
   "source": [
    "For each customerID I use the quantile function to add the number of account balance with an high account balance and a low account balance. It can be useful to understand who is 'rich' or 'poor'"
   ]
  },
  {
   "cell_type": "code",
   "execution_count": 83,
   "id": "ea4f882f-09d9-4582-8954-55946fcb6ee8",
   "metadata": {},
   "outputs": [],
   "source": [
    "h_ab=data['CustAccountBalance'].quantile(0.8)\n",
    "l_ab=data['CustAccountBalance'].quantile(0.2)"
   ]
  },
  {
   "cell_type": "code",
   "execution_count": 84,
   "id": "2ce93fa2-008b-446e-9120-a149254883b2",
   "metadata": {},
   "outputs": [],
   "source": [
    "data_customer['Number_of_high_AccountBalance'] = dt_customer['CustAccountBalance'].apply(lambda x: (x>h_ab).sum())\n",
    "data_customer['Number_of_low_AccountBalance'] = dt_customer['CustAccountBalance'].apply(lambda x: (x<l_ab).sum())"
   ]
  },
  {
   "cell_type": "markdown",
   "id": "57cbae98-6b1e-4ba0-95e8-b0f53fad07d4",
   "metadata": {},
   "source": [
    "For each customerID I add the most common month and the most common day in which transactions are made. It can be useful to have an idea of the period in which that custumerID is most active."
   ]
  },
  {
   "cell_type": "code",
   "execution_count": 85,
   "id": "a5de5a2e-abd8-4e72-b056-7145c55bd446",
   "metadata": {},
   "outputs": [],
   "source": [
    "data_customer['Most_common_month'] = dt_customer.Month_of_Transaction.agg(statistics.mode)\n",
    "data_customer['Most_common_day'] = dt_customer.Day_of_Transaction.agg(statistics.mode)"
   ]
  },
  {
   "cell_type": "markdown",
   "id": "b3fa00bb-6a14-40d2-9c98-7095c9ba9573",
   "metadata": {},
   "source": [
    "For each customerID I add the number of days that passed between the first and last transaction."
   ]
  },
  {
   "cell_type": "code",
   "execution_count": 86,
   "id": "099d7267-14d4-4826-a893-925c5d8a8892",
   "metadata": {},
   "outputs": [],
   "source": [
    "data_customer['Day_from_first to_last_trans'] = (data_customer['Last_Transaction'] - data_customer['First_Transaction']).dt.days"
   ]
  },
  {
   "cell_type": "code",
   "execution_count": 87,
   "id": "6ca2c886-b54d-43c6-8722-295c2c5a6063",
   "metadata": {},
   "outputs": [
    {
     "data": {
      "text/html": [
       "<div>\n",
       "<style scoped>\n",
       "    .dataframe tbody tr th:only-of-type {\n",
       "        vertical-align: middle;\n",
       "    }\n",
       "\n",
       "    .dataframe tbody tr th {\n",
       "        vertical-align: top;\n",
       "    }\n",
       "\n",
       "    .dataframe thead th {\n",
       "        text-align: right;\n",
       "    }\n",
       "</style>\n",
       "<table border=\"1\" class=\"dataframe\">\n",
       "  <thead>\n",
       "    <tr style=\"text-align: right;\">\n",
       "      <th></th>\n",
       "      <th>Number_of_transactions</th>\n",
       "      <th>Numb_trans&gt;100</th>\n",
       "      <th>Average_of_transactions</th>\n",
       "      <th>Average_balance</th>\n",
       "      <th>Utilisation</th>\n",
       "      <th>Gender</th>\n",
       "      <th>Location</th>\n",
       "      <th>Max_Transaction_Amount</th>\n",
       "      <th>Min_Transaction_Amount</th>\n",
       "      <th>Max_Account_Balance</th>\n",
       "      <th>...</th>\n",
       "      <th>Last_Location</th>\n",
       "      <th>First_Transaction</th>\n",
       "      <th>Last_Transaction</th>\n",
       "      <th>Number_of_high_transactions</th>\n",
       "      <th>Number_of_low_transactions</th>\n",
       "      <th>Number_of_high_AccountBalance</th>\n",
       "      <th>Number_of_low_AccountBalance</th>\n",
       "      <th>Most_common_month</th>\n",
       "      <th>Most_common_day</th>\n",
       "      <th>Day_from_first to_last_trans</th>\n",
       "    </tr>\n",
       "    <tr>\n",
       "      <th>CustomerID</th>\n",
       "      <th></th>\n",
       "      <th></th>\n",
       "      <th></th>\n",
       "      <th></th>\n",
       "      <th></th>\n",
       "      <th></th>\n",
       "      <th></th>\n",
       "      <th></th>\n",
       "      <th></th>\n",
       "      <th></th>\n",
       "      <th></th>\n",
       "      <th></th>\n",
       "      <th></th>\n",
       "      <th></th>\n",
       "      <th></th>\n",
       "      <th></th>\n",
       "      <th></th>\n",
       "      <th></th>\n",
       "      <th></th>\n",
       "      <th></th>\n",
       "      <th></th>\n",
       "    </tr>\n",
       "  </thead>\n",
       "  <tbody>\n",
       "    <tr>\n",
       "      <th>C1010011</th>\n",
       "      <td>2</td>\n",
       "      <td>2</td>\n",
       "      <td>2553.0</td>\n",
       "      <td>76340.63</td>\n",
       "      <td>73787.63</td>\n",
       "      <td>M</td>\n",
       "      <td>NEW DELHI</td>\n",
       "      <td>4750.0</td>\n",
       "      <td>356.0</td>\n",
       "      <td>120180.54</td>\n",
       "      <td>...</td>\n",
       "      <td>NOIDA</td>\n",
       "      <td>2016-09-08</td>\n",
       "      <td>2016-09-26</td>\n",
       "      <td>1</td>\n",
       "      <td>0</td>\n",
       "      <td>1</td>\n",
       "      <td>0</td>\n",
       "      <td>9</td>\n",
       "      <td>8</td>\n",
       "      <td>18</td>\n",
       "    </tr>\n",
       "    <tr>\n",
       "      <th>C1010012</th>\n",
       "      <td>1</td>\n",
       "      <td>1</td>\n",
       "      <td>1499.0</td>\n",
       "      <td>24204.49</td>\n",
       "      <td>22705.49</td>\n",
       "      <td>M</td>\n",
       "      <td>MUMBAI</td>\n",
       "      <td>1499.0</td>\n",
       "      <td>1499.0</td>\n",
       "      <td>24204.49</td>\n",
       "      <td>...</td>\n",
       "      <td>MUMBAI</td>\n",
       "      <td>2016-08-14</td>\n",
       "      <td>2016-08-14</td>\n",
       "      <td>0</td>\n",
       "      <td>0</td>\n",
       "      <td>0</td>\n",
       "      <td>0</td>\n",
       "      <td>8</td>\n",
       "      <td>14</td>\n",
       "      <td>0</td>\n",
       "    </tr>\n",
       "    <tr>\n",
       "      <th>C1010014</th>\n",
       "      <td>2</td>\n",
       "      <td>2</td>\n",
       "      <td>727.5</td>\n",
       "      <td>100112.95</td>\n",
       "      <td>99385.45</td>\n",
       "      <td>F</td>\n",
       "      <td>MUMBAI</td>\n",
       "      <td>1205.0</td>\n",
       "      <td>250.0</td>\n",
       "      <td>161848.76</td>\n",
       "      <td>...</td>\n",
       "      <td>MUMBAI</td>\n",
       "      <td>2016-01-08</td>\n",
       "      <td>2016-07-08</td>\n",
       "      <td>0</td>\n",
       "      <td>0</td>\n",
       "      <td>1</td>\n",
       "      <td>0</td>\n",
       "      <td>1</td>\n",
       "      <td>8</td>\n",
       "      <td>182</td>\n",
       "    </tr>\n",
       "    <tr>\n",
       "      <th>C1010018</th>\n",
       "      <td>1</td>\n",
       "      <td>0</td>\n",
       "      <td>30.0</td>\n",
       "      <td>496.18</td>\n",
       "      <td>466.18</td>\n",
       "      <td>F</td>\n",
       "      <td>CHAMPARAN</td>\n",
       "      <td>30.0</td>\n",
       "      <td>30.0</td>\n",
       "      <td>496.18</td>\n",
       "      <td>...</td>\n",
       "      <td>CHAMPARAN</td>\n",
       "      <td>2016-09-15</td>\n",
       "      <td>2016-09-15</td>\n",
       "      <td>0</td>\n",
       "      <td>1</td>\n",
       "      <td>0</td>\n",
       "      <td>1</td>\n",
       "      <td>9</td>\n",
       "      <td>15</td>\n",
       "      <td>0</td>\n",
       "    </tr>\n",
       "    <tr>\n",
       "      <th>C1010024</th>\n",
       "      <td>1</td>\n",
       "      <td>1</td>\n",
       "      <td>5000.0</td>\n",
       "      <td>87058.65</td>\n",
       "      <td>82058.65</td>\n",
       "      <td>M</td>\n",
       "      <td>KOLKATA</td>\n",
       "      <td>5000.0</td>\n",
       "      <td>5000.0</td>\n",
       "      <td>87058.65</td>\n",
       "      <td>...</td>\n",
       "      <td>KOLKATA</td>\n",
       "      <td>2016-08-18</td>\n",
       "      <td>2016-08-18</td>\n",
       "      <td>1</td>\n",
       "      <td>0</td>\n",
       "      <td>1</td>\n",
       "      <td>0</td>\n",
       "      <td>8</td>\n",
       "      <td>18</td>\n",
       "      <td>0</td>\n",
       "    </tr>\n",
       "  </tbody>\n",
       "</table>\n",
       "<p>5 rows × 27 columns</p>\n",
       "</div>"
      ],
      "text/plain": [
       "            Number_of_transactions  Numb_trans>100  Average_of_transactions  \\\n",
       "CustomerID                                                                    \n",
       "C1010011                         2               2                   2553.0   \n",
       "C1010012                         1               1                   1499.0   \n",
       "C1010014                         2               2                    727.5   \n",
       "C1010018                         1               0                     30.0   \n",
       "C1010024                         1               1                   5000.0   \n",
       "\n",
       "            Average_balance  Utilisation Gender   Location  \\\n",
       "CustomerID                                                   \n",
       "C1010011           76340.63     73787.63      M  NEW DELHI   \n",
       "C1010012           24204.49     22705.49      M     MUMBAI   \n",
       "C1010014          100112.95     99385.45      F     MUMBAI   \n",
       "C1010018             496.18       466.18      F  CHAMPARAN   \n",
       "C1010024           87058.65     82058.65      M    KOLKATA   \n",
       "\n",
       "            Max_Transaction_Amount  Min_Transaction_Amount  \\\n",
       "CustomerID                                                   \n",
       "C1010011                    4750.0                   356.0   \n",
       "C1010012                    1499.0                  1499.0   \n",
       "C1010014                    1205.0                   250.0   \n",
       "C1010018                      30.0                    30.0   \n",
       "C1010024                    5000.0                  5000.0   \n",
       "\n",
       "            Max_Account_Balance  ...  Last_Location  First_Transaction  \\\n",
       "CustomerID                       ...                                     \n",
       "C1010011              120180.54  ...          NOIDA         2016-09-08   \n",
       "C1010012               24204.49  ...         MUMBAI         2016-08-14   \n",
       "C1010014              161848.76  ...         MUMBAI         2016-01-08   \n",
       "C1010018                 496.18  ...      CHAMPARAN         2016-09-15   \n",
       "C1010024               87058.65  ...        KOLKATA         2016-08-18   \n",
       "\n",
       "            Last_Transaction  Number_of_high_transactions  \\\n",
       "CustomerID                                                  \n",
       "C1010011          2016-09-26                            1   \n",
       "C1010012          2016-08-14                            0   \n",
       "C1010014          2016-07-08                            0   \n",
       "C1010018          2016-09-15                            0   \n",
       "C1010024          2016-08-18                            1   \n",
       "\n",
       "            Number_of_low_transactions  Number_of_high_AccountBalance  \\\n",
       "CustomerID                                                              \n",
       "C1010011                             0                              1   \n",
       "C1010012                             0                              0   \n",
       "C1010014                             0                              1   \n",
       "C1010018                             1                              0   \n",
       "C1010024                             0                              1   \n",
       "\n",
       "           Number_of_low_AccountBalance Most_common_month Most_common_day  \\\n",
       "CustomerID                                                                  \n",
       "C1010011                              0                 9               8   \n",
       "C1010012                              0                 8              14   \n",
       "C1010014                              0                 1               8   \n",
       "C1010018                              1                 9              15   \n",
       "C1010024                              0                 8              18   \n",
       "\n",
       "           Day_from_first to_last_trans  \n",
       "CustomerID                               \n",
       "C1010011                             18  \n",
       "C1010012                              0  \n",
       "C1010014                            182  \n",
       "C1010018                              0  \n",
       "C1010024                              0  \n",
       "\n",
       "[5 rows x 27 columns]"
      ]
     },
     "execution_count": 87,
     "metadata": {},
     "output_type": "execute_result"
    }
   ],
   "source": [
    "data_customer.head()"
   ]
  },
  {
   "cell_type": "code",
   "execution_count": 88,
   "id": "d831da46-1c2f-4717-a29c-fc40574fbe5b",
   "metadata": {},
   "outputs": [],
   "source": [
    "data_customer.to_csv('bank_transactions2.csv')"
   ]
  },
  {
   "cell_type": "markdown",
   "id": "7d7a9df1-82e5-405b-ab5f-3b436b96d0cb",
   "metadata": {
    "tags": []
   },
   "source": [
    "## 2.2 Choose your features (variables)!"
   ]
  },
  {
   "cell_type": "code",
   "execution_count": 4,
   "id": "8fec2d1f-04db-4d41-980d-8c335962653b",
   "metadata": {},
   "outputs": [],
   "source": [
    "data_bt2 = pd.read_csv('bank_transactions2.csv', sep=',')"
   ]
  },
  {
   "cell_type": "code",
   "execution_count": 5,
   "id": "996d7012-fbe3-4fa1-9fb4-6774e3448c1e",
   "metadata": {},
   "outputs": [
    {
     "data": {
      "text/html": [
       "<div>\n",
       "<style scoped>\n",
       "    .dataframe tbody tr th:only-of-type {\n",
       "        vertical-align: middle;\n",
       "    }\n",
       "\n",
       "    .dataframe tbody tr th {\n",
       "        vertical-align: top;\n",
       "    }\n",
       "\n",
       "    .dataframe thead th {\n",
       "        text-align: right;\n",
       "    }\n",
       "</style>\n",
       "<table border=\"1\" class=\"dataframe\">\n",
       "  <thead>\n",
       "    <tr style=\"text-align: right;\">\n",
       "      <th></th>\n",
       "      <th>CustomerID</th>\n",
       "      <th>Number_of_transactions</th>\n",
       "      <th>Numb_trans&gt;100</th>\n",
       "      <th>Average_of_transactions</th>\n",
       "      <th>Average_balance</th>\n",
       "      <th>Utilisation</th>\n",
       "      <th>Gender</th>\n",
       "      <th>Location</th>\n",
       "      <th>Max_Transaction_Amount</th>\n",
       "      <th>Min_Transaction_Amount</th>\n",
       "      <th>...</th>\n",
       "      <th>Last_Location</th>\n",
       "      <th>First_Transaction</th>\n",
       "      <th>Last_Transaction</th>\n",
       "      <th>Number_of_high_transactions</th>\n",
       "      <th>Number_of_low_transactions</th>\n",
       "      <th>Number_of_high_AccountBalance</th>\n",
       "      <th>Number_of_low_AccountBalance</th>\n",
       "      <th>Most_common_month</th>\n",
       "      <th>Most_common_day</th>\n",
       "      <th>Day_from_first to_last_trans</th>\n",
       "    </tr>\n",
       "  </thead>\n",
       "  <tbody>\n",
       "    <tr>\n",
       "      <th>0</th>\n",
       "      <td>C1010011</td>\n",
       "      <td>2</td>\n",
       "      <td>2</td>\n",
       "      <td>2553.0</td>\n",
       "      <td>76340.63</td>\n",
       "      <td>73787.63</td>\n",
       "      <td>M</td>\n",
       "      <td>NEW DELHI</td>\n",
       "      <td>4750.0</td>\n",
       "      <td>356.0</td>\n",
       "      <td>...</td>\n",
       "      <td>NOIDA</td>\n",
       "      <td>2016-09-08</td>\n",
       "      <td>2016-09-26</td>\n",
       "      <td>1</td>\n",
       "      <td>0</td>\n",
       "      <td>1</td>\n",
       "      <td>0</td>\n",
       "      <td>9</td>\n",
       "      <td>8</td>\n",
       "      <td>18</td>\n",
       "    </tr>\n",
       "    <tr>\n",
       "      <th>1</th>\n",
       "      <td>C1010012</td>\n",
       "      <td>1</td>\n",
       "      <td>1</td>\n",
       "      <td>1499.0</td>\n",
       "      <td>24204.49</td>\n",
       "      <td>22705.49</td>\n",
       "      <td>M</td>\n",
       "      <td>MUMBAI</td>\n",
       "      <td>1499.0</td>\n",
       "      <td>1499.0</td>\n",
       "      <td>...</td>\n",
       "      <td>MUMBAI</td>\n",
       "      <td>2016-08-14</td>\n",
       "      <td>2016-08-14</td>\n",
       "      <td>0</td>\n",
       "      <td>0</td>\n",
       "      <td>0</td>\n",
       "      <td>0</td>\n",
       "      <td>8</td>\n",
       "      <td>14</td>\n",
       "      <td>0</td>\n",
       "    </tr>\n",
       "    <tr>\n",
       "      <th>2</th>\n",
       "      <td>C1010014</td>\n",
       "      <td>2</td>\n",
       "      <td>2</td>\n",
       "      <td>727.5</td>\n",
       "      <td>100112.95</td>\n",
       "      <td>99385.45</td>\n",
       "      <td>F</td>\n",
       "      <td>MUMBAI</td>\n",
       "      <td>1205.0</td>\n",
       "      <td>250.0</td>\n",
       "      <td>...</td>\n",
       "      <td>MUMBAI</td>\n",
       "      <td>2016-01-08</td>\n",
       "      <td>2016-07-08</td>\n",
       "      <td>0</td>\n",
       "      <td>0</td>\n",
       "      <td>1</td>\n",
       "      <td>0</td>\n",
       "      <td>1</td>\n",
       "      <td>8</td>\n",
       "      <td>182</td>\n",
       "    </tr>\n",
       "    <tr>\n",
       "      <th>3</th>\n",
       "      <td>C1010018</td>\n",
       "      <td>1</td>\n",
       "      <td>0</td>\n",
       "      <td>30.0</td>\n",
       "      <td>496.18</td>\n",
       "      <td>466.18</td>\n",
       "      <td>F</td>\n",
       "      <td>CHAMPARAN</td>\n",
       "      <td>30.0</td>\n",
       "      <td>30.0</td>\n",
       "      <td>...</td>\n",
       "      <td>CHAMPARAN</td>\n",
       "      <td>2016-09-15</td>\n",
       "      <td>2016-09-15</td>\n",
       "      <td>0</td>\n",
       "      <td>1</td>\n",
       "      <td>0</td>\n",
       "      <td>1</td>\n",
       "      <td>9</td>\n",
       "      <td>15</td>\n",
       "      <td>0</td>\n",
       "    </tr>\n",
       "    <tr>\n",
       "      <th>4</th>\n",
       "      <td>C1010024</td>\n",
       "      <td>1</td>\n",
       "      <td>1</td>\n",
       "      <td>5000.0</td>\n",
       "      <td>87058.65</td>\n",
       "      <td>82058.65</td>\n",
       "      <td>M</td>\n",
       "      <td>KOLKATA</td>\n",
       "      <td>5000.0</td>\n",
       "      <td>5000.0</td>\n",
       "      <td>...</td>\n",
       "      <td>KOLKATA</td>\n",
       "      <td>2016-08-18</td>\n",
       "      <td>2016-08-18</td>\n",
       "      <td>1</td>\n",
       "      <td>0</td>\n",
       "      <td>1</td>\n",
       "      <td>0</td>\n",
       "      <td>8</td>\n",
       "      <td>18</td>\n",
       "      <td>0</td>\n",
       "    </tr>\n",
       "  </tbody>\n",
       "</table>\n",
       "<p>5 rows × 28 columns</p>\n",
       "</div>"
      ],
      "text/plain": [
       "  CustomerID  Number_of_transactions  Numb_trans>100  Average_of_transactions  \\\n",
       "0   C1010011                       2               2                   2553.0   \n",
       "1   C1010012                       1               1                   1499.0   \n",
       "2   C1010014                       2               2                    727.5   \n",
       "3   C1010018                       1               0                     30.0   \n",
       "4   C1010024                       1               1                   5000.0   \n",
       "\n",
       "   Average_balance  Utilisation Gender   Location  Max_Transaction_Amount  \\\n",
       "0         76340.63     73787.63      M  NEW DELHI                  4750.0   \n",
       "1         24204.49     22705.49      M     MUMBAI                  1499.0   \n",
       "2        100112.95     99385.45      F     MUMBAI                  1205.0   \n",
       "3           496.18       466.18      F  CHAMPARAN                    30.0   \n",
       "4         87058.65     82058.65      M    KOLKATA                  5000.0   \n",
       "\n",
       "   Min_Transaction_Amount  ...  Last_Location  First_Transaction  \\\n",
       "0                   356.0  ...          NOIDA         2016-09-08   \n",
       "1                  1499.0  ...         MUMBAI         2016-08-14   \n",
       "2                   250.0  ...         MUMBAI         2016-01-08   \n",
       "3                    30.0  ...      CHAMPARAN         2016-09-15   \n",
       "4                  5000.0  ...        KOLKATA         2016-08-18   \n",
       "\n",
       "   Last_Transaction  Number_of_high_transactions  Number_of_low_transactions  \\\n",
       "0        2016-09-26                            1                           0   \n",
       "1        2016-08-14                            0                           0   \n",
       "2        2016-07-08                            0                           0   \n",
       "3        2016-09-15                            0                           1   \n",
       "4        2016-08-18                            1                           0   \n",
       "\n",
       "   Number_of_high_AccountBalance  Number_of_low_AccountBalance  \\\n",
       "0                              1                             0   \n",
       "1                              0                             0   \n",
       "2                              1                             0   \n",
       "3                              0                             1   \n",
       "4                              1                             0   \n",
       "\n",
       "  Most_common_month Most_common_day Day_from_first to_last_trans  \n",
       "0                 9               8                           18  \n",
       "1                 8              14                            0  \n",
       "2                 1               8                          182  \n",
       "3                 9              15                            0  \n",
       "4                 8              18                            0  \n",
       "\n",
       "[5 rows x 28 columns]"
      ]
     },
     "execution_count": 5,
     "metadata": {},
     "output_type": "execute_result"
    }
   ],
   "source": [
    "data_bt2.head()"
   ]
  },
  {
   "cell_type": "code",
   "execution_count": 6,
   "id": "e8718725-335d-43d5-98b1-0bb6fae4e863",
   "metadata": {},
   "outputs": [
    {
     "name": "stdout",
     "output_type": "stream",
     "text": [
      "<class 'pandas.core.frame.DataFrame'>\n",
      "RangeIndex: 839081 entries, 0 to 839080\n",
      "Data columns (total 28 columns):\n",
      " #   Column                         Non-Null Count   Dtype  \n",
      "---  ------                         --------------   -----  \n",
      " 0   CustomerID                     839081 non-null  object \n",
      " 1   Number_of_transactions         839081 non-null  int64  \n",
      " 2   Numb_trans>100                 839081 non-null  int64  \n",
      " 3   Average_of_transactions        839081 non-null  float64\n",
      " 4   Average_balance                839081 non-null  float64\n",
      " 5   Utilisation                    839081 non-null  float64\n",
      " 6   Gender                         839081 non-null  object \n",
      " 7   Location                       839081 non-null  object \n",
      " 8   Max_Transaction_Amount         839081 non-null  float64\n",
      " 9   Min_Transaction_Amount         839081 non-null  float64\n",
      " 10  Max_Account_Balance            839081 non-null  float64\n",
      " 11  Min_Account_Balance            839081 non-null  float64\n",
      " 12  Average_Age                    839081 non-null  float64\n",
      " 13  Age>60                         839081 non-null  int64  \n",
      " 14  Age<18                         839081 non-null  int64  \n",
      " 15  18<Age<60                      839081 non-null  int64  \n",
      " 16  Number_of_women                839081 non-null  int64  \n",
      " 17  First_Location                 839081 non-null  object \n",
      " 18  Last_Location                  839081 non-null  object \n",
      " 19  First_Transaction              839081 non-null  object \n",
      " 20  Last_Transaction               839081 non-null  object \n",
      " 21  Number_of_high_transactions    839081 non-null  int64  \n",
      " 22  Number_of_low_transactions     839081 non-null  int64  \n",
      " 23  Number_of_high_AccountBalance  839081 non-null  int64  \n",
      " 24  Number_of_low_AccountBalance   839081 non-null  int64  \n",
      " 25  Most_common_month              839081 non-null  int64  \n",
      " 26  Most_common_day                839081 non-null  int64  \n",
      " 27  Day_from_first to_last_trans   839081 non-null  int64  \n",
      "dtypes: float64(8), int64(13), object(7)\n",
      "memory usage: 179.2+ MB\n"
     ]
    }
   ],
   "source": [
    "data_bt2.info()"
   ]
  },
  {
   "cell_type": "markdown",
   "id": "b2dba3e6-3b21-4502-89cf-b0cad4d9e317",
   "metadata": {},
   "source": [
    "### 2.2.1 To normalise or not to normalise? That's the question. \n",
    "### Sometimes it is worth normalising (scaling) the features. Explain if it is a good idea to perform any normalisation method. If you think the normalisation should be used, apply it to your data (look at the available normalisation functions in the scikit-learn library)."
   ]
  },
  {
   "cell_type": "markdown",
   "id": "c54dbcb5-f71c-4ea1-b4bc-72c968630143",
   "metadata": {},
   "source": [
    "The Z-score normalization,also called standardization, is a very important preprocessing step which rescales features such that they have a standard gaussian distribution shape (with a mean of zero and a standard deviation of one) and properties. Standardizing means bringing variables to the same scale so that it is possible to compare values of the respective frequency distribution regardless of the order of magnitude and dispersion. <br> In our case, standardization is fundamental to perform dimentionality reduction with PCA because the interest is in finding the components that maximise the variance. To catch these components we need to be able to compare their variability and that is the reason why variables must be scaled. "
   ]
  },
  {
   "cell_type": "code",
   "execution_count": 93,
   "id": "8cf6d362-b4db-406f-b95e-5c1426a4809c",
   "metadata": {},
   "outputs": [],
   "source": [
    "from sklearn import preprocessing"
   ]
  },
  {
   "cell_type": "code",
   "execution_count": 8,
   "id": "51c71efa-c31e-428a-bb45-430b11583541",
   "metadata": {},
   "outputs": [],
   "source": [
    "#From the dataframe with all the features created, we keep only the variables we want to standardize and take into account to perform the PCA\n",
    "data1 = pd.read_csv('bank_transactions2.csv', sep=',', usecols=['Number_of_transactions', 'Numb_trans>100', 'Average_of_transactions',\n",
    "                                                                                           'Average_balance', 'Utilisation', 'Max_Transaction_Amount',\n",
    "                                                                                           'Min_Transaction_Amount', 'Max_Account_Balance', \n",
    "                                                                                           'Min_Account_Balance', \n",
    "                                                                                           '18<Age<60',\n",
    "                                                                                           'Number_of_high_transactions', 'Number_of_low_transactions',\n",
    "                                                                                           'Number_of_high_AccountBalance', 'Number_of_low_AccountBalance'\n",
    "                                                                                           ])"
   ]
  },
  {
   "cell_type": "code",
   "execution_count": 9,
   "id": "b7fc369a-a09a-4969-90b8-f55491439100",
   "metadata": {},
   "outputs": [
    {
     "data": {
      "text/html": [
       "<div>\n",
       "<style scoped>\n",
       "    .dataframe tbody tr th:only-of-type {\n",
       "        vertical-align: middle;\n",
       "    }\n",
       "\n",
       "    .dataframe tbody tr th {\n",
       "        vertical-align: top;\n",
       "    }\n",
       "\n",
       "    .dataframe thead th {\n",
       "        text-align: right;\n",
       "    }\n",
       "</style>\n",
       "<table border=\"1\" class=\"dataframe\">\n",
       "  <thead>\n",
       "    <tr style=\"text-align: right;\">\n",
       "      <th></th>\n",
       "      <th>Number_of_transactions</th>\n",
       "      <th>Numb_trans&gt;100</th>\n",
       "      <th>Average_of_transactions</th>\n",
       "      <th>Average_balance</th>\n",
       "      <th>Utilisation</th>\n",
       "      <th>Max_Transaction_Amount</th>\n",
       "      <th>Min_Transaction_Amount</th>\n",
       "      <th>Max_Account_Balance</th>\n",
       "      <th>Min_Account_Balance</th>\n",
       "      <th>18&lt;Age&lt;60</th>\n",
       "      <th>Number_of_high_transactions</th>\n",
       "      <th>Number_of_low_transactions</th>\n",
       "      <th>Number_of_high_AccountBalance</th>\n",
       "      <th>Number_of_low_AccountBalance</th>\n",
       "    </tr>\n",
       "  </thead>\n",
       "  <tbody>\n",
       "    <tr>\n",
       "      <th>Number_of_transactions</th>\n",
       "      <td>1.000</td>\n",
       "      <td>0.628</td>\n",
       "      <td>-0.001</td>\n",
       "      <td>0.001</td>\n",
       "      <td>0.001</td>\n",
       "      <td>0.068</td>\n",
       "      <td>-0.065</td>\n",
       "      <td>0.043</td>\n",
       "      <td>-0.040</td>\n",
       "      <td>0.912</td>\n",
       "      <td>0.196</td>\n",
       "      <td>0.200</td>\n",
       "      <td>0.197</td>\n",
       "      <td>0.198</td>\n",
       "    </tr>\n",
       "    <tr>\n",
       "      <th>Numb_trans&gt;100</th>\n",
       "      <td>0.628</td>\n",
       "      <td>1.000</td>\n",
       "      <td>0.082</td>\n",
       "      <td>0.025</td>\n",
       "      <td>0.025</td>\n",
       "      <td>0.124</td>\n",
       "      <td>0.037</td>\n",
       "      <td>0.053</td>\n",
       "      <td>-0.002</td>\n",
       "      <td>0.560</td>\n",
       "      <td>0.312</td>\n",
       "      <td>-0.629</td>\n",
       "      <td>0.223</td>\n",
       "      <td>0.017</td>\n",
       "    </tr>\n",
       "    <tr>\n",
       "      <th>Average_of_transactions</th>\n",
       "      <td>-0.001</td>\n",
       "      <td>0.082</td>\n",
       "      <td>1.000</td>\n",
       "      <td>0.055</td>\n",
       "      <td>0.047</td>\n",
       "      <td>0.968</td>\n",
       "      <td>0.970</td>\n",
       "      <td>0.054</td>\n",
       "      <td>0.051</td>\n",
       "      <td>-0.022</td>\n",
       "      <td>0.312</td>\n",
       "      <td>-0.104</td>\n",
       "      <td>0.095</td>\n",
       "      <td>-0.044</td>\n",
       "    </tr>\n",
       "    <tr>\n",
       "      <th>Average_balance</th>\n",
       "      <td>0.001</td>\n",
       "      <td>0.025</td>\n",
       "      <td>0.055</td>\n",
       "      <td>1.000</td>\n",
       "      <td>1.000</td>\n",
       "      <td>0.056</td>\n",
       "      <td>0.050</td>\n",
       "      <td>0.965</td>\n",
       "      <td>0.960</td>\n",
       "      <td>-0.032</td>\n",
       "      <td>0.067</td>\n",
       "      <td>-0.032</td>\n",
       "      <td>0.205</td>\n",
       "      <td>-0.060</td>\n",
       "    </tr>\n",
       "    <tr>\n",
       "      <th>Utilisation</th>\n",
       "      <td>0.001</td>\n",
       "      <td>0.025</td>\n",
       "      <td>0.047</td>\n",
       "      <td>1.000</td>\n",
       "      <td>1.000</td>\n",
       "      <td>0.048</td>\n",
       "      <td>0.043</td>\n",
       "      <td>0.965</td>\n",
       "      <td>0.960</td>\n",
       "      <td>-0.032</td>\n",
       "      <td>0.065</td>\n",
       "      <td>-0.031</td>\n",
       "      <td>0.205</td>\n",
       "      <td>-0.060</td>\n",
       "    </tr>\n",
       "    <tr>\n",
       "      <th>Max_Transaction_Amount</th>\n",
       "      <td>0.068</td>\n",
       "      <td>0.124</td>\n",
       "      <td>0.968</td>\n",
       "      <td>0.056</td>\n",
       "      <td>0.048</td>\n",
       "      <td>1.000</td>\n",
       "      <td>0.882</td>\n",
       "      <td>0.063</td>\n",
       "      <td>0.044</td>\n",
       "      <td>0.040</td>\n",
       "      <td>0.335</td>\n",
       "      <td>-0.090</td>\n",
       "      <td>0.112</td>\n",
       "      <td>-0.032</td>\n",
       "    </tr>\n",
       "    <tr>\n",
       "      <th>Min_Transaction_Amount</th>\n",
       "      <td>-0.065</td>\n",
       "      <td>0.037</td>\n",
       "      <td>0.970</td>\n",
       "      <td>0.050</td>\n",
       "      <td>0.043</td>\n",
       "      <td>0.882</td>\n",
       "      <td>1.000</td>\n",
       "      <td>0.042</td>\n",
       "      <td>0.054</td>\n",
       "      <td>-0.078</td>\n",
       "      <td>0.270</td>\n",
       "      <td>-0.111</td>\n",
       "      <td>0.073</td>\n",
       "      <td>-0.053</td>\n",
       "    </tr>\n",
       "    <tr>\n",
       "      <th>Max_Account_Balance</th>\n",
       "      <td>0.043</td>\n",
       "      <td>0.053</td>\n",
       "      <td>0.054</td>\n",
       "      <td>0.965</td>\n",
       "      <td>0.965</td>\n",
       "      <td>0.063</td>\n",
       "      <td>0.042</td>\n",
       "      <td>1.000</td>\n",
       "      <td>0.856</td>\n",
       "      <td>0.005</td>\n",
       "      <td>0.077</td>\n",
       "      <td>-0.024</td>\n",
       "      <td>0.218</td>\n",
       "      <td>-0.052</td>\n",
       "    </tr>\n",
       "    <tr>\n",
       "      <th>Min_Account_Balance</th>\n",
       "      <td>-0.040</td>\n",
       "      <td>-0.002</td>\n",
       "      <td>0.051</td>\n",
       "      <td>0.960</td>\n",
       "      <td>0.960</td>\n",
       "      <td>0.044</td>\n",
       "      <td>0.054</td>\n",
       "      <td>0.856</td>\n",
       "      <td>1.000</td>\n",
       "      <td>-0.066</td>\n",
       "      <td>0.052</td>\n",
       "      <td>-0.037</td>\n",
       "      <td>0.178</td>\n",
       "      <td>-0.064</td>\n",
       "    </tr>\n",
       "    <tr>\n",
       "      <th>18&lt;Age&lt;60</th>\n",
       "      <td>0.912</td>\n",
       "      <td>0.560</td>\n",
       "      <td>-0.022</td>\n",
       "      <td>-0.032</td>\n",
       "      <td>-0.032</td>\n",
       "      <td>0.040</td>\n",
       "      <td>-0.078</td>\n",
       "      <td>0.005</td>\n",
       "      <td>-0.066</td>\n",
       "      <td>1.000</td>\n",
       "      <td>0.146</td>\n",
       "      <td>0.199</td>\n",
       "      <td>0.138</td>\n",
       "      <td>0.195</td>\n",
       "    </tr>\n",
       "    <tr>\n",
       "      <th>Number_of_high_transactions</th>\n",
       "      <td>0.196</td>\n",
       "      <td>0.312</td>\n",
       "      <td>0.312</td>\n",
       "      <td>0.067</td>\n",
       "      <td>0.065</td>\n",
       "      <td>0.335</td>\n",
       "      <td>0.270</td>\n",
       "      <td>0.077</td>\n",
       "      <td>0.052</td>\n",
       "      <td>0.146</td>\n",
       "      <td>1.000</td>\n",
       "      <td>-0.201</td>\n",
       "      <td>0.207</td>\n",
       "      <td>-0.052</td>\n",
       "    </tr>\n",
       "    <tr>\n",
       "      <th>Number_of_low_transactions</th>\n",
       "      <td>0.200</td>\n",
       "      <td>-0.629</td>\n",
       "      <td>-0.104</td>\n",
       "      <td>-0.032</td>\n",
       "      <td>-0.031</td>\n",
       "      <td>-0.090</td>\n",
       "      <td>-0.111</td>\n",
       "      <td>-0.024</td>\n",
       "      <td>-0.037</td>\n",
       "      <td>0.199</td>\n",
       "      <td>-0.201</td>\n",
       "      <td>1.000</td>\n",
       "      <td>-0.086</td>\n",
       "      <td>0.174</td>\n",
       "    </tr>\n",
       "    <tr>\n",
       "      <th>Number_of_high_AccountBalance</th>\n",
       "      <td>0.197</td>\n",
       "      <td>0.223</td>\n",
       "      <td>0.095</td>\n",
       "      <td>0.205</td>\n",
       "      <td>0.205</td>\n",
       "      <td>0.112</td>\n",
       "      <td>0.073</td>\n",
       "      <td>0.218</td>\n",
       "      <td>0.178</td>\n",
       "      <td>0.138</td>\n",
       "      <td>0.207</td>\n",
       "      <td>-0.086</td>\n",
       "      <td>1.000</td>\n",
       "      <td>-0.202</td>\n",
       "    </tr>\n",
       "    <tr>\n",
       "      <th>Number_of_low_AccountBalance</th>\n",
       "      <td>0.198</td>\n",
       "      <td>0.017</td>\n",
       "      <td>-0.044</td>\n",
       "      <td>-0.060</td>\n",
       "      <td>-0.060</td>\n",
       "      <td>-0.032</td>\n",
       "      <td>-0.053</td>\n",
       "      <td>-0.052</td>\n",
       "      <td>-0.064</td>\n",
       "      <td>0.195</td>\n",
       "      <td>-0.052</td>\n",
       "      <td>0.174</td>\n",
       "      <td>-0.202</td>\n",
       "      <td>1.000</td>\n",
       "    </tr>\n",
       "  </tbody>\n",
       "</table>\n",
       "</div>"
      ],
      "text/plain": [
       "                               Number_of_transactions  Numb_trans>100  \\\n",
       "Number_of_transactions                          1.000           0.628   \n",
       "Numb_trans>100                                  0.628           1.000   \n",
       "Average_of_transactions                        -0.001           0.082   \n",
       "Average_balance                                 0.001           0.025   \n",
       "Utilisation                                     0.001           0.025   \n",
       "Max_Transaction_Amount                          0.068           0.124   \n",
       "Min_Transaction_Amount                         -0.065           0.037   \n",
       "Max_Account_Balance                             0.043           0.053   \n",
       "Min_Account_Balance                            -0.040          -0.002   \n",
       "18<Age<60                                       0.912           0.560   \n",
       "Number_of_high_transactions                     0.196           0.312   \n",
       "Number_of_low_transactions                      0.200          -0.629   \n",
       "Number_of_high_AccountBalance                   0.197           0.223   \n",
       "Number_of_low_AccountBalance                    0.198           0.017   \n",
       "\n",
       "                               Average_of_transactions  Average_balance  \\\n",
       "Number_of_transactions                          -0.001            0.001   \n",
       "Numb_trans>100                                   0.082            0.025   \n",
       "Average_of_transactions                          1.000            0.055   \n",
       "Average_balance                                  0.055            1.000   \n",
       "Utilisation                                      0.047            1.000   \n",
       "Max_Transaction_Amount                           0.968            0.056   \n",
       "Min_Transaction_Amount                           0.970            0.050   \n",
       "Max_Account_Balance                              0.054            0.965   \n",
       "Min_Account_Balance                              0.051            0.960   \n",
       "18<Age<60                                       -0.022           -0.032   \n",
       "Number_of_high_transactions                      0.312            0.067   \n",
       "Number_of_low_transactions                      -0.104           -0.032   \n",
       "Number_of_high_AccountBalance                    0.095            0.205   \n",
       "Number_of_low_AccountBalance                    -0.044           -0.060   \n",
       "\n",
       "                               Utilisation  Max_Transaction_Amount  \\\n",
       "Number_of_transactions               0.001                   0.068   \n",
       "Numb_trans>100                       0.025                   0.124   \n",
       "Average_of_transactions              0.047                   0.968   \n",
       "Average_balance                      1.000                   0.056   \n",
       "Utilisation                          1.000                   0.048   \n",
       "Max_Transaction_Amount               0.048                   1.000   \n",
       "Min_Transaction_Amount               0.043                   0.882   \n",
       "Max_Account_Balance                  0.965                   0.063   \n",
       "Min_Account_Balance                  0.960                   0.044   \n",
       "18<Age<60                           -0.032                   0.040   \n",
       "Number_of_high_transactions          0.065                   0.335   \n",
       "Number_of_low_transactions          -0.031                  -0.090   \n",
       "Number_of_high_AccountBalance        0.205                   0.112   \n",
       "Number_of_low_AccountBalance        -0.060                  -0.032   \n",
       "\n",
       "                               Min_Transaction_Amount  Max_Account_Balance  \\\n",
       "Number_of_transactions                         -0.065                0.043   \n",
       "Numb_trans>100                                  0.037                0.053   \n",
       "Average_of_transactions                         0.970                0.054   \n",
       "Average_balance                                 0.050                0.965   \n",
       "Utilisation                                     0.043                0.965   \n",
       "Max_Transaction_Amount                          0.882                0.063   \n",
       "Min_Transaction_Amount                          1.000                0.042   \n",
       "Max_Account_Balance                             0.042                1.000   \n",
       "Min_Account_Balance                             0.054                0.856   \n",
       "18<Age<60                                      -0.078                0.005   \n",
       "Number_of_high_transactions                     0.270                0.077   \n",
       "Number_of_low_transactions                     -0.111               -0.024   \n",
       "Number_of_high_AccountBalance                   0.073                0.218   \n",
       "Number_of_low_AccountBalance                   -0.053               -0.052   \n",
       "\n",
       "                               Min_Account_Balance  18<Age<60  \\\n",
       "Number_of_transactions                      -0.040      0.912   \n",
       "Numb_trans>100                              -0.002      0.560   \n",
       "Average_of_transactions                      0.051     -0.022   \n",
       "Average_balance                              0.960     -0.032   \n",
       "Utilisation                                  0.960     -0.032   \n",
       "Max_Transaction_Amount                       0.044      0.040   \n",
       "Min_Transaction_Amount                       0.054     -0.078   \n",
       "Max_Account_Balance                          0.856      0.005   \n",
       "Min_Account_Balance                          1.000     -0.066   \n",
       "18<Age<60                                   -0.066      1.000   \n",
       "Number_of_high_transactions                  0.052      0.146   \n",
       "Number_of_low_transactions                  -0.037      0.199   \n",
       "Number_of_high_AccountBalance                0.178      0.138   \n",
       "Number_of_low_AccountBalance                -0.064      0.195   \n",
       "\n",
       "                               Number_of_high_transactions  \\\n",
       "Number_of_transactions                               0.196   \n",
       "Numb_trans>100                                       0.312   \n",
       "Average_of_transactions                              0.312   \n",
       "Average_balance                                      0.067   \n",
       "Utilisation                                          0.065   \n",
       "Max_Transaction_Amount                               0.335   \n",
       "Min_Transaction_Amount                               0.270   \n",
       "Max_Account_Balance                                  0.077   \n",
       "Min_Account_Balance                                  0.052   \n",
       "18<Age<60                                            0.146   \n",
       "Number_of_high_transactions                          1.000   \n",
       "Number_of_low_transactions                          -0.201   \n",
       "Number_of_high_AccountBalance                        0.207   \n",
       "Number_of_low_AccountBalance                        -0.052   \n",
       "\n",
       "                               Number_of_low_transactions  \\\n",
       "Number_of_transactions                              0.200   \n",
       "Numb_trans>100                                     -0.629   \n",
       "Average_of_transactions                            -0.104   \n",
       "Average_balance                                    -0.032   \n",
       "Utilisation                                        -0.031   \n",
       "Max_Transaction_Amount                             -0.090   \n",
       "Min_Transaction_Amount                             -0.111   \n",
       "Max_Account_Balance                                -0.024   \n",
       "Min_Account_Balance                                -0.037   \n",
       "18<Age<60                                           0.199   \n",
       "Number_of_high_transactions                        -0.201   \n",
       "Number_of_low_transactions                          1.000   \n",
       "Number_of_high_AccountBalance                      -0.086   \n",
       "Number_of_low_AccountBalance                        0.174   \n",
       "\n",
       "                               Number_of_high_AccountBalance  \\\n",
       "Number_of_transactions                                 0.197   \n",
       "Numb_trans>100                                         0.223   \n",
       "Average_of_transactions                                0.095   \n",
       "Average_balance                                        0.205   \n",
       "Utilisation                                            0.205   \n",
       "Max_Transaction_Amount                                 0.112   \n",
       "Min_Transaction_Amount                                 0.073   \n",
       "Max_Account_Balance                                    0.218   \n",
       "Min_Account_Balance                                    0.178   \n",
       "18<Age<60                                              0.138   \n",
       "Number_of_high_transactions                            0.207   \n",
       "Number_of_low_transactions                            -0.086   \n",
       "Number_of_high_AccountBalance                          1.000   \n",
       "Number_of_low_AccountBalance                          -0.202   \n",
       "\n",
       "                               Number_of_low_AccountBalance  \n",
       "Number_of_transactions                                0.198  \n",
       "Numb_trans>100                                        0.017  \n",
       "Average_of_transactions                              -0.044  \n",
       "Average_balance                                      -0.060  \n",
       "Utilisation                                          -0.060  \n",
       "Max_Transaction_Amount                               -0.032  \n",
       "Min_Transaction_Amount                               -0.053  \n",
       "Max_Account_Balance                                  -0.052  \n",
       "Min_Account_Balance                                  -0.064  \n",
       "18<Age<60                                             0.195  \n",
       "Number_of_high_transactions                          -0.052  \n",
       "Number_of_low_transactions                            0.174  \n",
       "Number_of_high_AccountBalance                        -0.202  \n",
       "Number_of_low_AccountBalance                          1.000  "
      ]
     },
     "execution_count": 9,
     "metadata": {},
     "output_type": "execute_result"
    }
   ],
   "source": [
    "round(data1.corr(), 3) "
   ]
  },
  {
   "cell_type": "code",
   "execution_count": 10,
   "id": "96ecaecd-0ddc-4556-958f-a10bc8307e85",
   "metadata": {},
   "outputs": [
    {
     "data": {
      "text/plain": [
       "Number_of_transactions           0\n",
       "Numb_trans>100                   0\n",
       "Average_of_transactions          0\n",
       "Average_balance                  0\n",
       "Utilisation                      0\n",
       "Max_Transaction_Amount           0\n",
       "Min_Transaction_Amount           0\n",
       "Max_Account_Balance              0\n",
       "Min_Account_Balance              0\n",
       "18<Age<60                        0\n",
       "Number_of_high_transactions      0\n",
       "Number_of_low_transactions       0\n",
       "Number_of_high_AccountBalance    0\n",
       "Number_of_low_AccountBalance     0\n",
       "dtype: int64"
      ]
     },
     "execution_count": 10,
     "metadata": {},
     "output_type": "execute_result"
    }
   ],
   "source": [
    "#Be sure there are no NaN values \n",
    "data1.isnull().sum()"
   ]
  },
  {
   "cell_type": "code",
   "execution_count": 11,
   "id": "e89659d4-f3e8-46f0-970d-5798e60b073f",
   "metadata": {},
   "outputs": [],
   "source": [
    "#Make a copy of the dataset to work with\n",
    "data1_c = data1.copy()"
   ]
  },
  {
   "cell_type": "code",
   "execution_count": 12,
   "id": "4af6f23c-5bab-481b-89dd-218766fc55ac",
   "metadata": {},
   "outputs": [],
   "source": [
    "#Define a variable with all the infos to preprocess\n",
    "scaler = preprocessing.StandardScaler().fit(data1_c)"
   ]
  },
  {
   "cell_type": "code",
   "execution_count": 13,
   "id": "1602b567-1ef7-460f-8b41-3271e6f29e25",
   "metadata": {},
   "outputs": [
    {
     "data": {
      "text/plain": [
       "array([1.17428711e+00, 9.43233132e-01, 1.45362357e+03, 1.05854539e+05,\n",
       "       1.04400916e+05, 1.63693173e+03, 1.28590562e+03, 1.21177052e+05,\n",
       "       9.19485100e+04, 1.13727519e+00, 2.34274164e-01, 2.34668643e-01,\n",
       "       2.34853369e-01, 2.34841452e-01])"
      ]
     },
     "execution_count": 13,
     "metadata": {},
     "output_type": "execute_result"
    }
   ],
   "source": [
    "#Mean for each column before standardization\n",
    "scaler.mean_"
   ]
  },
  {
   "cell_type": "code",
   "execution_count": 14,
   "id": "a2848435-8c20-431a-8a2f-ffe777d8b47b",
   "metadata": {},
   "outputs": [
    {
     "data": {
      "text/plain": [
       "array([4.35128716e-01, 5.54211529e-01, 6.04519607e+03, 7.86251892e+05,\n",
       "       7.85944175e+05, 6.62770610e+03, 5.88438086e+03, 8.80467172e+05,\n",
       "       7.56134728e+05, 4.61951182e-01, 4.41779298e-01, 4.42614493e-01,\n",
       "       4.42644412e-01, 4.42809557e-01])"
      ]
     },
     "execution_count": 14,
     "metadata": {},
     "output_type": "execute_result"
    }
   ],
   "source": [
    "#Standard deviation for each column before standardization\n",
    "scaler.scale_"
   ]
  },
  {
   "cell_type": "code",
   "execution_count": 15,
   "id": "be8f7afe-eea0-4572-b907-a51c8e02e5d0",
   "metadata": {},
   "outputs": [
    {
     "data": {
      "text/plain": [
       "array([[ 1.89762905,  1.90679337,  0.18185952, ..., -0.53018744,\n",
       "         1.7285808 , -0.53034414],\n",
       "       [-0.4005415 ,  0.10242816,  0.0075062 , ..., -0.53018744,\n",
       "        -0.53056892, -0.53034414],\n",
       "       [ 1.89762905,  1.90679337, -0.1201158 , ..., -0.53018744,\n",
       "         1.7285808 , -0.53034414],\n",
       "       ...,\n",
       "       [-0.4005415 ,  0.10242816, -0.2196163 , ..., -0.53018744,\n",
       "        -0.53056892, -0.53034414],\n",
       "       [-0.4005415 , -1.70193705, -0.23218826, ...,  1.72911499,\n",
       "        -0.53056892, -0.53034414],\n",
       "       [-0.4005415 ,  0.10242816, -0.09902467, ..., -0.53018744,\n",
       "        -0.53056892, -0.53034414]])"
      ]
     },
     "execution_count": 15,
     "metadata": {},
     "output_type": "execute_result"
    }
   ],
   "source": [
    "#Standardize the whole dataset\n",
    "data1_scaled = scaler.transform(data1_c)\n",
    "data1_scaled"
   ]
  },
  {
   "cell_type": "code",
   "execution_count": 16,
   "id": "c802135d-a3c1-49fb-800d-3a9add2a3d6d",
   "metadata": {},
   "outputs": [
    {
     "data": {
      "text/plain": [
       "0.0"
      ]
     },
     "execution_count": 16,
     "metadata": {},
     "output_type": "execute_result"
    }
   ],
   "source": [
    "#Check if the mean of the standardize dataset is 0\n",
    "round(data1_scaled.mean(),3)"
   ]
  },
  {
   "cell_type": "code",
   "execution_count": 17,
   "id": "983e0f30-00f9-499b-ad1a-bdb2c1492bd5",
   "metadata": {},
   "outputs": [
    {
     "data": {
      "text/plain": [
       "1.0"
      ]
     },
     "execution_count": 17,
     "metadata": {},
     "output_type": "execute_result"
    }
   ],
   "source": [
    "#Check if the standard deviation of the standardize dataset is 1\n",
    "round(data1_scaled.std(),3)"
   ]
  },
  {
   "cell_type": "markdown",
   "id": "16345784-7c26-458f-bd26-074631f257d8",
   "metadata": {},
   "source": [
    "### 2.2.2 Select one method for dimensionality reduction and apply it to your data. \n",
    "### Some suggestions are Principal Component Analysis, Multiple Correspondence Analysis, Singular Value Decomposition, Factor Analysis for Mixed Data, Two-Steps clustering. Make sure that the method you choose applies to the features you have or modify your data to be able to use it. Explain why you chose that method and the limitations it may have."
   ]
  },
  {
   "cell_type": "code",
   "execution_count": 17,
   "id": "09aef7f3-a6d2-4b2b-8863-f32358014f53",
   "metadata": {},
   "outputs": [
    {
     "name": "stdout",
     "output_type": "stream",
     "text": [
      "Looking in indexes: https://pypi.org/simple, https://pip.repos.neuron.amazonaws.com\n",
      "Requirement already satisfied: pca in /home/ec2-user/anaconda3/envs/python3/lib/python3.8/site-packages (1.8.5)\n",
      "Requirement already satisfied: numpy in /home/ec2-user/anaconda3/envs/python3/lib/python3.8/site-packages (from pca) (1.20.3)\n",
      "Requirement already satisfied: wget in /home/ec2-user/anaconda3/envs/python3/lib/python3.8/site-packages (from pca) (3.2)\n",
      "Requirement already satisfied: matplotlib in /home/ec2-user/anaconda3/envs/python3/lib/python3.8/site-packages (from pca) (3.5.0)\n",
      "Requirement already satisfied: tqdm in /home/ec2-user/anaconda3/envs/python3/lib/python3.8/site-packages (from pca) (4.62.3)\n",
      "Requirement already satisfied: scatterd in /home/ec2-user/anaconda3/envs/python3/lib/python3.8/site-packages (from pca) (1.2.1)\n",
      "Requirement already satisfied: colourmap in /home/ec2-user/anaconda3/envs/python3/lib/python3.8/site-packages (from pca) (1.1.10)\n",
      "Requirement already satisfied: pandas in /home/ec2-user/anaconda3/envs/python3/lib/python3.8/site-packages (from pca) (1.3.4)\n",
      "Requirement already satisfied: scikit-learn in /home/ec2-user/anaconda3/envs/python3/lib/python3.8/site-packages (from pca) (1.0.1)\n",
      "Requirement already satisfied: adjustText in /home/ec2-user/anaconda3/envs/python3/lib/python3.8/site-packages (from pca) (0.7.3)\n",
      "Requirement already satisfied: scipy in /home/ec2-user/anaconda3/envs/python3/lib/python3.8/site-packages (from pca) (1.5.3)\n",
      "Requirement already satisfied: pillow>=6.2.0 in /home/ec2-user/anaconda3/envs/python3/lib/python3.8/site-packages (from matplotlib->pca) (9.0.1)\n",
      "Requirement already satisfied: pyparsing>=2.2.1 in /home/ec2-user/anaconda3/envs/python3/lib/python3.8/site-packages (from matplotlib->pca) (3.0.6)\n",
      "Requirement already satisfied: cycler>=0.10 in /home/ec2-user/anaconda3/envs/python3/lib/python3.8/site-packages (from matplotlib->pca) (0.11.0)\n",
      "Requirement already satisfied: packaging>=20.0 in /home/ec2-user/anaconda3/envs/python3/lib/python3.8/site-packages (from matplotlib->pca) (21.3)\n",
      "Requirement already satisfied: python-dateutil>=2.7 in /home/ec2-user/anaconda3/envs/python3/lib/python3.8/site-packages (from matplotlib->pca) (2.8.2)\n",
      "Requirement already satisfied: kiwisolver>=1.0.1 in /home/ec2-user/anaconda3/envs/python3/lib/python3.8/site-packages (from matplotlib->pca) (1.3.2)\n",
      "Requirement already satisfied: fonttools>=4.22.0 in /home/ec2-user/anaconda3/envs/python3/lib/python3.8/site-packages (from matplotlib->pca) (4.28.2)\n",
      "Requirement already satisfied: pytz>=2017.3 in /home/ec2-user/anaconda3/envs/python3/lib/python3.8/site-packages (from pandas->pca) (2021.3)\n",
      "Requirement already satisfied: requests in /home/ec2-user/anaconda3/envs/python3/lib/python3.8/site-packages (from scatterd->pca) (2.26.0)\n",
      "Requirement already satisfied: seaborn in /home/ec2-user/anaconda3/envs/python3/lib/python3.8/site-packages (from scatterd->pca) (0.11.2)\n",
      "Requirement already satisfied: threadpoolctl>=2.0.0 in /home/ec2-user/anaconda3/envs/python3/lib/python3.8/site-packages (from scikit-learn->pca) (3.0.0)\n",
      "Requirement already satisfied: joblib>=0.11 in /home/ec2-user/anaconda3/envs/python3/lib/python3.8/site-packages (from scikit-learn->pca) (1.1.0)\n",
      "Requirement already satisfied: six>=1.5 in /home/ec2-user/anaconda3/envs/python3/lib/python3.8/site-packages (from python-dateutil>=2.7->matplotlib->pca) (1.16.0)\n",
      "Requirement already satisfied: urllib3<1.27,>=1.21.1 in /home/ec2-user/anaconda3/envs/python3/lib/python3.8/site-packages (from requests->scatterd->pca) (1.26.8)\n",
      "Requirement already satisfied: charset-normalizer~=2.0.0 in /home/ec2-user/anaconda3/envs/python3/lib/python3.8/site-packages (from requests->scatterd->pca) (2.0.8)\n",
      "Requirement already satisfied: idna<4,>=2.5 in /home/ec2-user/anaconda3/envs/python3/lib/python3.8/site-packages (from requests->scatterd->pca) (3.1)\n",
      "Requirement already satisfied: certifi>=2017.4.17 in /home/ec2-user/anaconda3/envs/python3/lib/python3.8/site-packages (from requests->scatterd->pca) (2021.10.8)\n",
      "\u001b[33mWARNING: You are using pip version 22.0.4; however, version 22.3.1 is available.\n",
      "You should consider upgrading via the '/home/ec2-user/anaconda3/envs/python3/bin/python -m pip install --upgrade pip' command.\u001b[0m\u001b[33m\n",
      "\u001b[0mNote: you may need to restart the kernel to use updated packages.\n"
     ]
    }
   ],
   "source": [
    "pip install pca"
   ]
  },
  {
   "cell_type": "code",
   "execution_count": 19,
   "id": "4fafec07-c3ea-49ff-8c43-dbd30c0aca6d",
   "metadata": {},
   "outputs": [],
   "source": [
    "from sklearn.decomposition import PCA\n",
    "import matplotlib.pyplot as plt\n",
    "from sklearn.pipeline import Pipeline\n",
    "from sklearn.preprocessing import StandardScaler"
   ]
  },
  {
   "cell_type": "markdown",
   "id": "c80e683d-25d8-4bd7-9d94-f486844422ad",
   "metadata": {},
   "source": [
    "PCA (Principal Component Analysis) is a statistical method to perform dimentionality reduction useful to save storage and reduce computational time which results in a more efficient work of algorithms. It uses orthogonal transformation to turn observations of correlated featurs into a set of linearly uncorrelated data. <br> While dealing with a large number of variables, it might be useful to select a subset of them that are responsable for as much information of the original dataset. These are the principal components which are extracted in the way that the initial component explains maximum variance in the dataset, the second, which is unrelated to the first one, explains the remaining, the third explains the variance that the previous two didn't and so on until the wanted percentage of the total variance explained is reached (usually al least 70%). <br> PCA might have some limitations such as:\n",
    "*   It assumes a correlation between features.\n",
    "*   It is sensitive to the scale of the features which is why we normalize/standardize variables.\n",
    "*   It is not robust against outliers.\n",
    "*   It assumes a linear relationship between features which is not always verified."
   ]
  },
  {
   "cell_type": "code",
   "execution_count": 43,
   "id": "f6791748-8838-49cf-a347-02f4c51775db",
   "metadata": {},
   "outputs": [],
   "source": [
    "#Setup the PCA such that the explained variance is at least 70%\n",
    "pca = PCA(.70)"
   ]
  },
  {
   "cell_type": "code",
   "execution_count": 33,
   "id": "811c6703-fce1-4188-8b16-d1e660c40762",
   "metadata": {},
   "outputs": [],
   "source": [
    "#Calculate the principal components \n",
    "principalComponents = pca.fit_transform(data1_scaled)"
   ]
  },
  {
   "cell_type": "code",
   "execution_count": 34,
   "id": "60a0f7ca-ba3c-45af-8378-82944662b19d",
   "metadata": {},
   "outputs": [
    {
     "data": {
      "text/plain": [
       "array([[ 0.71908544,  1.9445513 , -3.25156931, -0.99525909],\n",
       "       [-0.2742732 , -0.12152796,  0.56117515, -0.58653129],\n",
       "       [ 0.40366608,  0.87451155, -3.15389646, -0.72853308],\n",
       "       ...,\n",
       "       [-0.41168093, -0.43397294,  0.42456348, -0.68394322],\n",
       "       [-0.61144017, -1.18496069,  1.23697239,  1.55249492],\n",
       "       [-0.35875383, -0.26173065,  0.49725992, -0.63386797]])"
      ]
     },
     "execution_count": 34,
     "metadata": {},
     "output_type": "execute_result"
    }
   ],
   "source": [
    "principalComponents"
   ]
  },
  {
   "cell_type": "code",
   "execution_count": 35,
   "id": "71425e23-fba7-4e90-a265-8627e7bc0200",
   "metadata": {},
   "outputs": [
    {
     "data": {
      "text/plain": [
       "array([28.56454433, 21.93428476, 18.14941145, 11.2598817 ])"
      ]
     },
     "execution_count": 35,
     "metadata": {},
     "output_type": "execute_result"
    }
   ],
   "source": [
    "#See how much of the total variance is explained by each principal component \n",
    "pca.explained_variance_ratio_ * 100"
   ]
  },
  {
   "cell_type": "markdown",
   "id": "a27909a7-2692-4501-82dc-0f0072992acc",
   "metadata": {},
   "source": [
    "#### 2.2.3 Apply the selected method(s) to your data. Ensure the chosen method retains > 70% of the total variance."
   ]
  },
  {
   "cell_type": "code",
   "execution_count": 36,
   "id": "39594ea0-965b-4249-9b43-1eeb7e7ad9bd",
   "metadata": {},
   "outputs": [],
   "source": [
    "#Create a dataframe with all the principal components \n",
    "principalDf = pd.DataFrame(data = principalComponents, columns = ['PC 1', 'PC 2', 'PC 3','PC 4']) "
   ]
  },
  {
   "cell_type": "code",
   "execution_count": 37,
   "id": "4c4bd447-f27a-410c-8c00-ac1e05710c3d",
   "metadata": {},
   "outputs": [
    {
     "data": {
      "text/html": [
       "<div>\n",
       "<style scoped>\n",
       "    .dataframe tbody tr th:only-of-type {\n",
       "        vertical-align: middle;\n",
       "    }\n",
       "\n",
       "    .dataframe tbody tr th {\n",
       "        vertical-align: top;\n",
       "    }\n",
       "\n",
       "    .dataframe thead th {\n",
       "        text-align: right;\n",
       "    }\n",
       "</style>\n",
       "<table border=\"1\" class=\"dataframe\">\n",
       "  <thead>\n",
       "    <tr style=\"text-align: right;\">\n",
       "      <th></th>\n",
       "      <th>PC 1</th>\n",
       "      <th>PC 2</th>\n",
       "      <th>PC 3</th>\n",
       "      <th>PC 4</th>\n",
       "    </tr>\n",
       "  </thead>\n",
       "  <tbody>\n",
       "    <tr>\n",
       "      <th>0</th>\n",
       "      <td>0.719085</td>\n",
       "      <td>1.944551</td>\n",
       "      <td>-3.251569</td>\n",
       "      <td>-0.995259</td>\n",
       "    </tr>\n",
       "    <tr>\n",
       "      <th>1</th>\n",
       "      <td>-0.274273</td>\n",
       "      <td>-0.121528</td>\n",
       "      <td>0.561175</td>\n",
       "      <td>-0.586531</td>\n",
       "    </tr>\n",
       "    <tr>\n",
       "      <th>2</th>\n",
       "      <td>0.403666</td>\n",
       "      <td>0.874512</td>\n",
       "      <td>-3.153896</td>\n",
       "      <td>-0.728533</td>\n",
       "    </tr>\n",
       "    <tr>\n",
       "      <th>3</th>\n",
       "      <td>-0.823423</td>\n",
       "      <td>-1.190655</td>\n",
       "      <td>0.921144</td>\n",
       "      <td>2.417501</td>\n",
       "    </tr>\n",
       "    <tr>\n",
       "      <th>4</th>\n",
       "      <td>0.722490</td>\n",
       "      <td>1.495663</td>\n",
       "      <td>0.317788</td>\n",
       "      <td>-1.154908</td>\n",
       "    </tr>\n",
       "  </tbody>\n",
       "</table>\n",
       "</div>"
      ],
      "text/plain": [
       "       PC 1      PC 2      PC 3      PC 4\n",
       "0  0.719085  1.944551 -3.251569 -0.995259\n",
       "1 -0.274273 -0.121528  0.561175 -0.586531\n",
       "2  0.403666  0.874512 -3.153896 -0.728533\n",
       "3 -0.823423 -1.190655  0.921144  2.417501\n",
       "4  0.722490  1.495663  0.317788 -1.154908"
      ]
     },
     "execution_count": 37,
     "metadata": {},
     "output_type": "execute_result"
    }
   ],
   "source": [
    "principalDf.head()"
   ]
  },
  {
   "cell_type": "code",
   "execution_count": 38,
   "id": "004aeb75-6bd9-49de-88cb-f768f9e25d25",
   "metadata": {},
   "outputs": [],
   "source": [
    "#Save the dataframe with the PCs in a csv file to make it easier to use\n",
    "principalDf.to_csv('PCs.csv')"
   ]
  },
  {
   "cell_type": "code",
   "execution_count": 39,
   "id": "28e1a1f9-63a3-488e-bda2-2b6aed81c9cc",
   "metadata": {},
   "outputs": [
    {
     "data": {
      "text/html": [
       "<div>\n",
       "<style scoped>\n",
       "    .dataframe tbody tr th:only-of-type {\n",
       "        vertical-align: middle;\n",
       "    }\n",
       "\n",
       "    .dataframe tbody tr th {\n",
       "        vertical-align: top;\n",
       "    }\n",
       "\n",
       "    .dataframe thead th {\n",
       "        text-align: right;\n",
       "    }\n",
       "</style>\n",
       "<table border=\"1\" class=\"dataframe\">\n",
       "  <thead>\n",
       "    <tr style=\"text-align: right;\">\n",
       "      <th></th>\n",
       "      <th>PC 1</th>\n",
       "      <th>PC 2</th>\n",
       "      <th>PC 3</th>\n",
       "      <th>PC 4</th>\n",
       "    </tr>\n",
       "  </thead>\n",
       "  <tbody>\n",
       "    <tr>\n",
       "      <th>PC 1</th>\n",
       "      <td>1.0</td>\n",
       "      <td>-0.0</td>\n",
       "      <td>-0.0</td>\n",
       "      <td>-0.0</td>\n",
       "    </tr>\n",
       "    <tr>\n",
       "      <th>PC 2</th>\n",
       "      <td>-0.0</td>\n",
       "      <td>1.0</td>\n",
       "      <td>0.0</td>\n",
       "      <td>0.0</td>\n",
       "    </tr>\n",
       "    <tr>\n",
       "      <th>PC 3</th>\n",
       "      <td>-0.0</td>\n",
       "      <td>0.0</td>\n",
       "      <td>1.0</td>\n",
       "      <td>-0.0</td>\n",
       "    </tr>\n",
       "    <tr>\n",
       "      <th>PC 4</th>\n",
       "      <td>-0.0</td>\n",
       "      <td>0.0</td>\n",
       "      <td>-0.0</td>\n",
       "      <td>1.0</td>\n",
       "    </tr>\n",
       "  </tbody>\n",
       "</table>\n",
       "</div>"
      ],
      "text/plain": [
       "      PC 1  PC 2  PC 3  PC 4\n",
       "PC 1   1.0  -0.0  -0.0  -0.0\n",
       "PC 2  -0.0   1.0   0.0   0.0\n",
       "PC 3  -0.0   0.0   1.0  -0.0\n",
       "PC 4  -0.0   0.0  -0.0   1.0"
      ]
     },
     "execution_count": 39,
     "metadata": {},
     "output_type": "execute_result"
    }
   ],
   "source": [
    "#Look at the correlation between the principal components \n",
    "round(principalDf.corr(), 3) #as we expected, the principal components are uncorrelated between them "
   ]
  },
  {
   "cell_type": "code",
   "execution_count": 40,
   "id": "ef2cde9c-addc-4761-bfa7-e9308a9ffd24",
   "metadata": {},
   "outputs": [
    {
     "data": {
      "text/plain": [
       "79.90812223735725"
      ]
     },
     "execution_count": 40,
     "metadata": {},
     "output_type": "execute_result"
    }
   ],
   "source": [
    "#percentage of the total variance explained by the 4 principal components \n",
    "total_var = pca.explained_variance_ratio_.sum() * 100\n",
    "total_var"
   ]
  },
  {
   "cell_type": "markdown",
   "id": "69b5d9fc-58e7-455e-9049-b0f8047c85ca",
   "metadata": {},
   "source": [
    "**Let's see two ways to visualize the first 3 principal components (which explain the 71% of the total variance)**"
   ]
  },
  {
   "cell_type": "code",
   "execution_count": 41,
   "id": "4c740953-10e4-4a8c-96ae-bcf2a1047d8c",
   "metadata": {},
   "outputs": [
    {
     "name": "stdout",
     "output_type": "stream",
     "text": [
      "[pca] >Column labels are auto-completed.\n",
      "[pca] >Row labels are auto-completed.\n",
      "[pca] >The PCA reduction is performed on the [14] columns of the input dataframe.\n",
      "[pca] >Fit using PCA.\n",
      "[pca] >Compute loadings and PCs.\n",
      "[pca] >Compute explained variance.\n",
      "[pca] >Outlier detection using Hotelling T2 test with alpha=[0.05] and n_components=[3]\n",
      "[pca] >Outlier detection using SPE/DmodX with n_std=[2]\n"
     ]
    },
    {
     "data": {
      "image/png": "[encoded data removed]",
      "text/plain": [
       "<Figure size 1080x720 with 1 Axes>"
      ]
     },
     "metadata": {
      "needs_background": "light"
     },
     "output_type": "display_data"
    },
    {
     "data": {
      "text/plain": [
       "<Figure size 432x288 with 0 Axes>"
      ]
     },
     "metadata": {},
     "output_type": "display_data"
    }
   ],
   "source": [
    "# Perform the PCA with just 3 components\n",
    "from pca import pca \n",
    "model = pca(n_components=3)\n",
    "results = model.fit_transform(data1_scaled)\n",
    "\n",
    "# Plot explained variance\n",
    "fig, ax = model.plot()"
   ]
  },
  {
   "cell_type": "markdown",
   "id": "14f820f1-20d1-46db-9136-ea89a61b9764",
   "metadata": {},
   "source": [
    "This plot shows the percentage of the total variance explained by each of the first three principal components. The first one explaines almost the 30% of the total variance, the second and third one more than 20% each, for a total of 71,41% of the total variance explained by three independent components. "
   ]
  },
  {
   "cell_type": "code",
   "execution_count": 42,
   "id": "cba1fd0e-ed0f-44b8-b982-e0ca4f635ee1",
   "metadata": {},
   "outputs": [
    {
     "name": "stdout",
     "output_type": "stream",
     "text": [
      "[pca] >Plot PC1 vs PC2 with loadings.\n"
     ]
    },
    {
     "data": {
      "image/png": "[encoded data removed]",
      "text/plain": [
       "<Figure size 1080x720 with 1 Axes>"
      ]
     },
     "metadata": {
      "needs_background": "light"
     },
     "output_type": "display_data"
    }
   ],
   "source": [
    "#Make biplot with the number of features\n",
    "fig, ax = model.biplot(n_feat=2)"
   ]
  },
  {
   "cell_type": "markdown",
   "id": "d1894ab7-1e66-4d70-bf94-901ce3faea08",
   "metadata": {},
   "source": [
    "Biplot is a way to visualize PC scores as dots and lodings of variables as vectors. The further away these vectors are from a PC origin, the more influence they have on that PC."
   ]
  },
  {
   "cell_type": "markdown",
   "id": "f1cca111-231b-49fa-9024-8449366e9fad",
   "metadata": {
    "tags": []
   },
   "source": [
    "## 2.3 Clustering! "
   ]
  },
  {
   "cell_type": "code",
   "execution_count": 3,
   "id": "90b71542-621e-4969-82d4-b788bb1e3ebe",
   "metadata": {},
   "outputs": [
    {
     "name": "stdout",
     "output_type": "stream",
     "text": [
      "Looking in indexes: https://pypi.org/simple, https://pip.repos.neuron.amazonaws.com\n",
      "Collecting yellowbrick\n",
      "  Downloading yellowbrick-1.5-py3-none-any.whl (282 kB)\n",
      "\u001b[2K     \u001b[90m━━━━━━━━━━━━━━━━━━━━━━━━━━━━━━━━━━━━━━\u001b[0m \u001b[32m282.6/282.6 KB\u001b[0m \u001b[31m20.7 MB/s\u001b[0m eta \u001b[36m0:00:00\u001b[0m\n",
      "\u001b[?25hRequirement already satisfied: scipy>=1.0.0 in /home/ec2-user/anaconda3/envs/python3/lib/python3.8/site-packages (from yellowbrick) (1.5.3)\n",
      "Requirement already satisfied: matplotlib!=3.0.0,>=2.0.2 in /home/ec2-user/anaconda3/envs/python3/lib/python3.8/site-packages (from yellowbrick) (3.5.0)\n",
      "Requirement already satisfied: numpy>=1.16.0 in /home/ec2-user/anaconda3/envs/python3/lib/python3.8/site-packages (from yellowbrick) (1.20.3)\n",
      "Requirement already satisfied: cycler>=0.10.0 in /home/ec2-user/anaconda3/envs/python3/lib/python3.8/site-packages (from yellowbrick) (0.11.0)\n",
      "Requirement already satisfied: scikit-learn>=1.0.0 in /home/ec2-user/anaconda3/envs/python3/lib/python3.8/site-packages (from yellowbrick) (1.0.1)\n",
      "Requirement already satisfied: fonttools>=4.22.0 in /home/ec2-user/anaconda3/envs/python3/lib/python3.8/site-packages (from matplotlib!=3.0.0,>=2.0.2->yellowbrick) (4.28.2)\n",
      "Requirement already satisfied: pyparsing>=2.2.1 in /home/ec2-user/anaconda3/envs/python3/lib/python3.8/site-packages (from matplotlib!=3.0.0,>=2.0.2->yellowbrick) (3.0.6)\n",
      "Requirement already satisfied: packaging>=20.0 in /home/ec2-user/anaconda3/envs/python3/lib/python3.8/site-packages (from matplotlib!=3.0.0,>=2.0.2->yellowbrick) (21.3)\n",
      "Requirement already satisfied: python-dateutil>=2.7 in /home/ec2-user/anaconda3/envs/python3/lib/python3.8/site-packages (from matplotlib!=3.0.0,>=2.0.2->yellowbrick) (2.8.2)\n",
      "Requirement already satisfied: pillow>=6.2.0 in /home/ec2-user/anaconda3/envs/python3/lib/python3.8/site-packages (from matplotlib!=3.0.0,>=2.0.2->yellowbrick) (9.0.1)\n",
      "Requirement already satisfied: kiwisolver>=1.0.1 in /home/ec2-user/anaconda3/envs/python3/lib/python3.8/site-packages (from matplotlib!=3.0.0,>=2.0.2->yellowbrick) (1.3.2)\n",
      "Requirement already satisfied: threadpoolctl>=2.0.0 in /home/ec2-user/anaconda3/envs/python3/lib/python3.8/site-packages (from scikit-learn>=1.0.0->yellowbrick) (3.0.0)\n",
      "Requirement already satisfied: joblib>=0.11 in /home/ec2-user/anaconda3/envs/python3/lib/python3.8/site-packages (from scikit-learn>=1.0.0->yellowbrick) (1.1.0)\n",
      "Requirement already satisfied: six>=1.5 in /home/ec2-user/anaconda3/envs/python3/lib/python3.8/site-packages (from python-dateutil>=2.7->matplotlib!=3.0.0,>=2.0.2->yellowbrick) (1.16.0)\n",
      "Installing collected packages: yellowbrick\n",
      "Successfully installed yellowbrick-1.5\n",
      "\u001b[33mWARNING: You are using pip version 22.0.4; however, version 22.3.1 is available.\n",
      "You should consider upgrading via the '/home/ec2-user/anaconda3/envs/python3/bin/python -m pip install --upgrade pip' command.\u001b[0m\u001b[33m\n",
      "\u001b[0mNote: you may need to restart the kernel to use updated packages.\n"
     ]
    }
   ],
   "source": [
    "pip install yellowbrick"
   ]
  },
  {
   "cell_type": "code",
   "execution_count": 4,
   "id": "c366bb1b-9468-4e18-a555-297dfc226ba4",
   "metadata": {},
   "outputs": [
    {
     "name": "stderr",
     "output_type": "stream",
     "text": [
      "Matplotlib is building the font cache; this may take a moment.\n",
      "Setting default log level to \"WARN\".\n",
      "To adjust logging level use sc.setLogLevel(newLevel). For SparkR, use setLogLevel(newLevel).\n"
     ]
    },
    {
     "name": "stdout",
     "output_type": "stream",
     "text": [
      "22/12/11 18:25:38 WARN NativeCodeLoader: Unable to load native-hadoop library for your platform... using builtin-java classes where applicable\n"
     ]
    }
   ],
   "source": [
    "from sklearn.datasets import make_blobs\n",
    "from sklearn.cluster import KMeans, AgglomerativeClustering\n",
    "from yellowbrick.cluster import KElbowVisualizer, SilhouetteVisualizer\n",
    "from sklearn.metrics import silhouette_score\n",
    "import matplotlib.pyplot as plt\n",
    "import matplotlib.style as style\n",
    "import re, seaborn as sns\n",
    "from mpl_toolkits.mplot3d import Axes3D\n",
    "from matplotlib.colors import ListedColormap\n",
    "import pyspark \n",
    "from pyspark.sql import SparkSession\n",
    "from pyspark.rdd import RDD\n",
    "import warnings\n",
    "warnings.filterwarnings(\"ignore\")\n",
    "spark = SparkSession.builder.appName(\"CsvReader\").getOrCreate()"
   ]
  },
  {
   "cell_type": "markdown",
   "id": "0c4a2030-3dc0-4686-8d3a-ddb3caff3323",
   "metadata": {},
   "source": [
    "### 2.3.1 K-Means"
   ]
  },
  {
   "cell_type": "code",
   "execution_count": 24,
   "id": "37e5f89d-fe60-47ac-8e8d-1a0f8f681a39",
   "metadata": {},
   "outputs": [
    {
     "name": "stdout",
     "output_type": "stream",
     "text": [
      "22/12/11 18:28:38 WARN CSVHeaderChecker: CSV header does not conform to the schema.\n",
      " Header: , PC 1, PC 2, PC 3, PC 4\n",
      " Schema: _c0, PC 1, PC 2, PC 3, PC 4\n",
      "Expected: _c0 but found: \n",
      "CSV file: file:///home/ec2-user/SageMaker/PCs.csv\n",
      "['_c0', 'PC 1', 'PC 2', 'PC 3', 'PC 4']\n"
     ]
    }
   ],
   "source": [
    "data_pcs = spark.read.format(\"csv\").option(\"header\", \"true\").load(\"PCs.csv\")\n",
    "data_pcs.head(2)\n",
    "print(data_pcs.columns)"
   ]
  },
  {
   "cell_type": "markdown",
   "id": "38b56423-7d62-4011-83ee-86d856b53d28",
   "metadata": {},
   "source": [
    "Even tough there are four PCs, we will only consider the first three"
   ]
  },
  {
   "cell_type": "code",
   "execution_count": 25,
   "id": "8edfda1e-4483-4c27-9c3f-bfa5e73ed369",
   "metadata": {},
   "outputs": [],
   "source": [
    "data_pcs = data_pcs.withColumn(\"PC 1\",data_pcs['PC 1'].cast('float'))\n",
    "data_pcs = data_pcs.withColumn(\"PC 2\",data_pcs['PC 2'].cast('float'))\n",
    "data_pcs = data_pcs.withColumn(\"PC 3\",data_pcs['PC 3'].cast('float'))\n",
    "data_pcs = data_pcs.withColumn(\"PC 4\",data_pcs['PC 4'].cast('float'))"
   ]
  },
  {
   "cell_type": "code",
   "execution_count": 32,
   "id": "3b514646-af8d-443a-a023-432a361c710a",
   "metadata": {},
   "outputs": [],
   "source": [
    "data_rdd = data_pcs.rdd"
   ]
  },
  {
   "cell_type": "markdown",
   "id": "793222d1-efe3-4c54-9031-3835345c759e",
   "metadata": {},
   "source": [
    "Function for randomic generation of centroids from the dataset of PCs"
   ]
  },
  {
   "cell_type": "code",
   "execution_count": 57,
   "id": "9153af60-389a-469a-aee1-d7f7ae957ce6",
   "metadata": {},
   "outputs": [],
   "source": [
    "def init_centroids(dataset, k):\n",
    "    initial_centroids = dataset.takeSample(False, k)\n",
    "    \n",
    "    #Let's just take the numeric values and discard the rest\n",
    "    arr = np.array([i[1:-1] for i in initial_centroids])\n",
    "\n",
    "    return arr"
   ]
  },
  {
   "cell_type": "markdown",
   "id": "f3f8c7f7-fae9-4adc-bd85-48b9e2a8232a",
   "metadata": {},
   "source": [
    "Function for computing distance between two points"
   ]
  },
  {
   "cell_type": "code",
   "execution_count": 62,
   "id": "89f322d8-a568-4ec7-bebc-8ed4280b5b71",
   "metadata": {},
   "outputs": [],
   "source": [
    "def distance(p1, p2):\n",
    "    distance = (p1[0]-p2[0])*(p1[0]-p2[0])+(p1[1]-p2[1])*(p1[1]-p2[1])+(p1[2]-p2[2])*(p1[2]-p2[2])\n",
    "    return distance"
   ]
  },
  {
   "cell_type": "markdown",
   "id": "ed642f79-68ed-4b07-bf27-e07466b68ed9",
   "metadata": {},
   "source": [
    "Function that assigns to every point the centroids at the shortest distance"
   ]
  },
  {
   "cell_type": "code",
   "execution_count": 10,
   "id": "c9d6a15c-a0e5-4a83-b266-387b5ff9b0fd",
   "metadata": {},
   "outputs": [],
   "source": [
    "def assign_centroids(p, centroids):\n",
    "    min_dist = float(\"inf\")\n",
    "    nearest_centroid = 0\n",
    "    for i in range(len(centroids)):\n",
    "        distance_output = distance(centroids[i], p)\n",
    "        if(distance_output < min_dist):\n",
    "            min_dist = distance_output\n",
    "            nearest_centroid = i\n",
    "    return nearest_centroid"
   ]
  },
  {
   "cell_type": "markdown",
   "id": "50d76137-70b5-45ec-8e52-d771d5ad35b5",
   "metadata": {},
   "source": [
    "Once we sum all the points in a cluster, we will calculate the average point with this function"
   ]
  },
  {
   "cell_type": "code",
   "execution_count": null,
   "id": "df4a5166-261b-47e5-b106-a184f51b7416",
   "metadata": {},
   "outputs": [],
   "source": [
    "def get_average_point(x):\n",
    "        n_points  = float(x[3])\n",
    "        x_point = x[0]/n_points\n",
    "        y_point = x[1]/n_points\n",
    "        z_point = x[2]/n_points\n",
    "        return [x_point, y_point, z_point, n_points]"
   ]
  },
  {
   "cell_type": "markdown",
   "id": "6ad3b41c-bdb3-4611-882a-933fcaee88a0",
   "metadata": {},
   "source": [
    "The stopping criterion for the k-means algorithm is that our new centroids have distance from the old ones less or equal than threshold. That's because if this condition happens, if we continued there would be (almost) no improvement."
   ]
  },
  {
   "cell_type": "code",
   "execution_count": 12,
   "id": "1ea4fefa-1967-48fc-9035-9196ae5c7375",
   "metadata": {},
   "outputs": [],
   "source": [
    "def stopping_criterion(old_centroids, new_centroids, threshold):\n",
    "    for i in range(0, len(old_centroids)):\n",
    "        check = distance(old_centroids[i], new_centroids[i]) <= threshold\n",
    "        if check == False:\n",
    "            return False\n",
    "    return True"
   ]
  },
  {
   "cell_type": "markdown",
   "id": "42f41059-c049-4561-9089-7b94796e9850",
   "metadata": {},
   "source": [
    "This is how the rows of our new Data Set look like"
   ]
  },
  {
   "cell_type": "code",
   "execution_count": 14,
   "id": "5c6fe0c9-5ece-471a-b5a6-81b38e308b17",
   "metadata": {},
   "outputs": [
    {
     "name": "stdout",
     "output_type": "stream",
     "text": [
      "22/12/11 18:26:55 WARN CSVHeaderChecker: CSV header does not conform to the schema.\n",
      " Header: , PC 1, PC 2, PC 3, PC 4\n",
      " Schema: _c0, PC 1, PC 2, PC 3, PC 4\n",
      "Expected: _c0 but found: \n",
      "CSV file: file:///home/ec2-user/SageMaker/PCs.csv\n"
     ]
    },
    {
     "data": {
      "text/plain": [
       "[Row(_c0='0', PC 1=0.7190854549407959, PC 2=1.9445513486862183, PC 3=-3.2515692710876465, PC 4=-0.9952591061592102),\n",
       " Row(_c0='1', PC 1=-0.27427318692207336, PC 2=-0.12152795493602753, PC 3=0.5611751675605774, PC 4=-0.5865312814712524),\n",
       " Row(_c0='2', PC 1=0.40366607904434204, PC 2=0.8745115399360657, PC 3=-3.1538965702056885, PC 4=-0.7285330891609192),\n",
       " Row(_c0='3', PC 1=-0.8234232068061829, PC 2=-1.19065523147583, PC 3=0.9211443066596985, PC 4=2.4175007343292236),\n",
       " Row(_c0='4', PC 1=0.7224903106689453, PC 2=1.4956629276275635, PC 3=0.31778818368911743, PC 4=-1.1549084186553955)]"
      ]
     },
     "execution_count": 14,
     "metadata": {},
     "output_type": "execute_result"
    }
   ],
   "source": [
    "data_rdd.take(5)"
   ]
  },
  {
   "cell_type": "code",
   "execution_count": 58,
   "id": "ab4ada50-7500-4ce9-9366-cc376b8a95ac",
   "metadata": {},
   "outputs": [
    {
     "name": "stdout",
     "output_type": "stream",
     "text": [
      "22/12/11 18:37:08 WARN CSVHeaderChecker: CSV header does not conform to the schema.\n",
      " Header: , PC 1, PC 2, PC 3, PC 4\n",
      " Schema: _c0, PC 1, PC 2, PC 3, PC 4\n",
      "Expected: _c0 but found: \n",
      "CSV file: file:///home/ec2-user/SageMaker/PCs.csv\n"
     ]
    },
    {
     "name": "stderr",
     "output_type": "stream",
     "text": [
      "                                                                                \r"
     ]
    },
    {
     "name": "stdout",
     "output_type": "stream",
     "text": [
      "22/12/11 18:37:13 WARN CSVHeaderChecker: CSV header does not conform to the schema.\n",
      " Header: , PC 1, PC 2, PC 3, PC 4\n",
      " Schema: _c0, PC 1, PC 2, PC 3, PC 4\n",
      "Expected: _c0 but found: \n",
      "CSV file: file:///home/ec2-user/SageMaker/PCs.csv\n"
     ]
    },
    {
     "name": "stderr",
     "output_type": "stream",
     "text": [
      "                                                                                \r"
     ]
    }
   ],
   "source": [
    "initial_centroids = init_centroids(data_rdd, 4)\n",
    "old_centroids = initial_centroids"
   ]
  },
  {
   "cell_type": "markdown",
   "id": "55bdaf72-4c91-4be4-98b8-d2ac371f3b4a",
   "metadata": {},
   "source": [
    "And these are our **random generated initial centroids**"
   ]
  },
  {
   "cell_type": "code",
   "execution_count": 67,
   "id": "ed682002-c33f-4e92-9911-98d8a56a9fa2",
   "metadata": {},
   "outputs": [
    {
     "data": {
      "text/plain": [
       "array([[ 0.67270434,  3.17225075, -2.81376171],\n",
       "       [ 0.45510039, -0.29358998,  0.11905827],\n",
       "       [ 0.41310859, -0.05029744,  0.20837055],\n",
       "       [-0.48462284, -0.11566369, -2.04390669]])"
      ]
     },
     "execution_count": 67,
     "metadata": {},
     "output_type": "execute_result"
    }
   ],
   "source": [
    "initial_centroids"
   ]
  },
  {
   "cell_type": "code",
   "execution_count": 63,
   "id": "8147be9f-3bbb-41f0-a5fd-caaa5a2fd7bb",
   "metadata": {},
   "outputs": [],
   "source": [
    "# row[1:3] because we only need the points in order to compute distances (and hence, assign centroids)\n",
    "# The result of our mapping will be: key = centroid assigned, value = points, number of points in the row (always 1)\n",
    "cluster_assignment_rdd = data_rdd.map(lambda row: (assign_centroids(row[1:-1], initial_centroids), np.array([row['PC 1'], row['PC 2'], row['PC 3'], 1])))"
   ]
  },
  {
   "cell_type": "markdown",
   "id": "d6ea4731-0000-4062-8641-2c6c15e20447",
   "metadata": {},
   "source": [
    "**K-means algorithm:**\n",
    "The k-means algorithm is a method for clustering a set of data points into a specified number of clusters, based on the similarity of the data points. \n",
    "The algorithm tries to minimize the distance between the data points in each cluster and the centroid of that cluster. This is done by iteratively assigning each data point to the cluster with the closest centroid, and then recalculating the centroids based on the data points in each cluster. The process continues until the maximum number of iterations have been reached or the distances between old and new centroids are less or equal than a certain (small) threshold. \n",
    "\n",
    "We implemented the algorithm below in this way:\n",
    "- Initialize the centroids for the clusters randomly.\n",
    "- Iterate until the centroids do not change:\n",
    "- Assign each data point to the cluster with the closest centroid.\n",
    "- Calculate the new centroids for each cluster based on the data points assigned to it.\n",
    "- Repeate the last two steps until the centroids (almost) do not change or a the max number of iterations have been reached."
   ]
  },
  {
   "cell_type": "code",
   "execution_count": 72,
   "id": "b7e3d83e-d79b-41e9-a112-7a29cf1f18d5",
   "metadata": {},
   "outputs": [
    {
     "name": "stderr",
     "output_type": "stream",
     "text": [
      "[Stage 267:>                (0 + 2) / 2][Stage 269:>                (0 + 0) / 2]\r"
     ]
    },
    {
     "name": "stdout",
     "output_type": "stream",
     "text": [
      "22/12/11 18:51:04 WARN CSVHeaderChecker: CSV header does not conform to the schema.\n",
      " Header: , PC 1, PC 2, PC 3, PC 4\n",
      " Schema: _c0, PC 1, PC 2, PC 3, PC 4\n",
      "Expected: _c0 but found: \n",
      "CSV file: file:///home/ec2-user/SageMaker/PCs.csv\n"
     ]
    },
    {
     "name": "stderr",
     "output_type": "stream",
     "text": [
      "                                                                                \r"
     ]
    },
    {
     "name": "stdout",
     "output_type": "stream",
     "text": [
      "[[116.25715856137484, -33.7696328163147, 0.46682586152835387, 0.46682586152835387], [-0.11968813256247207, -0.267164358692587, 0.5236127841690519, 0.5236127841690519], [5.839777250880466, 8.736259389013956, 3.640035863296235, 3.640035863296235], [0.22157873900270803, 1.036198614667134, -3.255336613693683, -3.255336613693683]]\n"
     ]
    },
    {
     "name": "stderr",
     "output_type": "stream",
     "text": [
      "Exception in thread \"serve RDD 451\" java.net.SocketTimeoutException: Accept timed out\n",
      "\tat java.net.PlainSocketImpl.socketAccept(Native Method)\n",
      "\tat java.net.AbstractPlainSocketImpl.accept(AbstractPlainSocketImpl.java:409)\n",
      "\tat java.net.ServerSocket.implAccept(ServerSocket.java:560)\n",
      "\tat java.net.ServerSocket.accept(ServerSocket.java:528)\n",
      "\tat org.apache.spark.security.SocketAuthServer$$anon$1.run(SocketAuthServer.scala:64)\n"
     ]
    }
   ],
   "source": [
    "maxiterations = 10000 #ten thousand\n",
    "threshold = 1 ## the algorithm will stop if the new centroids are at distance 0.00001 or lower from the previous ones\n",
    "n = 0\n",
    "while True:\n",
    "        cluster_assignment_rdd = data_rdd.map(lambda row: (assign_centroids(row[1:-1], old_centroids), np.array([row['PC 1'], row['PC 2'], row['PC 3'], 1])))\n",
    "        sum_rdd = cluster_assignment_rdd.reduceByKey(lambda x,y:x+y)\n",
    "        centroids_rdd = sum_rdd.mapValues(lambda x: get_average_point(x)).sortByKey(ascending = True)\n",
    "\n",
    "        new_centroids = [item[1][0:-1] for item in centroids_rdd.collect()]\n",
    "        print(new_centroids)\n",
    "        stop = stopping_criterion(old_centroids, new_centroids,threshold)\n",
    "\n",
    "        if(stop == False and n < maxiterations):\n",
    "            old_centroids = new_centroids\n",
    "            n += 1\n",
    "        else:\n",
    "            break"
   ]
  },
  {
   "cell_type": "markdown",
   "id": "a255818e-a160-4276-ac02-f6cdf8e0b106",
   "metadata": {},
   "source": [
    "And here we can see the **centroids** that k-Means gave in output:"
   ]
  },
  {
   "cell_type": "code",
   "execution_count": 73,
   "id": "b6e58290-16c5-4352-a549-3132b55c3e56",
   "metadata": {},
   "outputs": [
    {
     "data": {
      "text/plain": [
       "[[116.25715856137484,\n",
       "  -33.7696328163147,\n",
       "  0.46682586152835387,\n",
       "  0.46682586152835387],\n",
       " [-0.11968813256247207,\n",
       "  -0.267164358692587,\n",
       "  0.5236127841690519,\n",
       "  0.5236127841690519],\n",
       " [5.839777250880466, 8.736259389013956, 3.640035863296235, 3.640035863296235],\n",
       " [0.22157873900270803,\n",
       "  1.036198614667134,\n",
       "  -3.255336613693683,\n",
       "  -3.255336613693683]]"
      ]
     },
     "execution_count": 73,
     "metadata": {},
     "output_type": "execute_result"
    }
   ],
   "source": [
    "new_centroids"
   ]
  },
  {
   "cell_type": "markdown",
   "id": "fccebdf3-ac61-4d9f-882e-312c13a34dbf",
   "metadata": {},
   "source": [
    "### Optimal number of clusters"
   ]
  },
  {
   "cell_type": "code",
   "execution_count": 75,
   "id": "22d7f242-4043-4d63-b74a-2cb9b514a161",
   "metadata": {},
   "outputs": [],
   "source": [
    "data = pd.read_csv(\"PCs.csv\")"
   ]
  },
  {
   "cell_type": "code",
   "execution_count": 76,
   "id": "cc6fb6d5-99f1-4da1-97be-c5273fe56e23",
   "metadata": {},
   "outputs": [
    {
     "data": {
      "text/html": [
       "<div>\n",
       "<style scoped>\n",
       "    .dataframe tbody tr th:only-of-type {\n",
       "        vertical-align: middle;\n",
       "    }\n",
       "\n",
       "    .dataframe tbody tr th {\n",
       "        vertical-align: top;\n",
       "    }\n",
       "\n",
       "    .dataframe thead th {\n",
       "        text-align: right;\n",
       "    }\n",
       "</style>\n",
       "<table border=\"1\" class=\"dataframe\">\n",
       "  <thead>\n",
       "    <tr style=\"text-align: right;\">\n",
       "      <th></th>\n",
       "      <th>Unnamed: 0</th>\n",
       "      <th>PC 1</th>\n",
       "      <th>PC 2</th>\n",
       "      <th>PC 3</th>\n",
       "      <th>PC 4</th>\n",
       "    </tr>\n",
       "  </thead>\n",
       "  <tbody>\n",
       "    <tr>\n",
       "      <th>0</th>\n",
       "      <td>0</td>\n",
       "      <td>0.719085</td>\n",
       "      <td>1.944551</td>\n",
       "      <td>-3.251569</td>\n",
       "      <td>-0.995259</td>\n",
       "    </tr>\n",
       "    <tr>\n",
       "      <th>1</th>\n",
       "      <td>1</td>\n",
       "      <td>-0.274273</td>\n",
       "      <td>-0.121528</td>\n",
       "      <td>0.561175</td>\n",
       "      <td>-0.586531</td>\n",
       "    </tr>\n",
       "    <tr>\n",
       "      <th>2</th>\n",
       "      <td>2</td>\n",
       "      <td>0.403666</td>\n",
       "      <td>0.874512</td>\n",
       "      <td>-3.153896</td>\n",
       "      <td>-0.728533</td>\n",
       "    </tr>\n",
       "    <tr>\n",
       "      <th>3</th>\n",
       "      <td>3</td>\n",
       "      <td>-0.823423</td>\n",
       "      <td>-1.190655</td>\n",
       "      <td>0.921144</td>\n",
       "      <td>2.417501</td>\n",
       "    </tr>\n",
       "    <tr>\n",
       "      <th>4</th>\n",
       "      <td>4</td>\n",
       "      <td>0.722490</td>\n",
       "      <td>1.495663</td>\n",
       "      <td>0.317788</td>\n",
       "      <td>-1.154908</td>\n",
       "    </tr>\n",
       "  </tbody>\n",
       "</table>\n",
       "</div>"
      ],
      "text/plain": [
       "   Unnamed: 0      PC 1      PC 2      PC 3      PC 4\n",
       "0           0  0.719085  1.944551 -3.251569 -0.995259\n",
       "1           1 -0.274273 -0.121528  0.561175 -0.586531\n",
       "2           2  0.403666  0.874512 -3.153896 -0.728533\n",
       "3           3 -0.823423 -1.190655  0.921144  2.417501\n",
       "4           4  0.722490  1.495663  0.317788 -1.154908"
      ]
     },
     "execution_count": 76,
     "metadata": {},
     "output_type": "execute_result"
    }
   ],
   "source": [
    "data.head()"
   ]
  },
  {
   "cell_type": "markdown",
   "id": "f938db5f-c806-435f-9eda-a69d068c82d0",
   "metadata": {},
   "source": [
    "I will consider only the first three principal components which guarantee 71% of variance."
   ]
  },
  {
   "cell_type": "code",
   "execution_count": 78,
   "id": "48cf9349-ac49-48e5-99d8-756e6a090334",
   "metadata": {},
   "outputs": [],
   "source": [
    "data = data.drop(data.columns[[4]], axis=1)"
   ]
  },
  {
   "cell_type": "code",
   "execution_count": 79,
   "id": "0592af62-c574-4c2e-87a1-547ec65cfeba",
   "metadata": {},
   "outputs": [
    {
     "data": {
      "text/html": [
       "<div>\n",
       "<style scoped>\n",
       "    .dataframe tbody tr th:only-of-type {\n",
       "        vertical-align: middle;\n",
       "    }\n",
       "\n",
       "    .dataframe tbody tr th {\n",
       "        vertical-align: top;\n",
       "    }\n",
       "\n",
       "    .dataframe thead th {\n",
       "        text-align: right;\n",
       "    }\n",
       "</style>\n",
       "<table border=\"1\" class=\"dataframe\">\n",
       "  <thead>\n",
       "    <tr style=\"text-align: right;\">\n",
       "      <th></th>\n",
       "      <th>Unnamed: 0</th>\n",
       "      <th>PC 1</th>\n",
       "      <th>PC 2</th>\n",
       "      <th>PC 3</th>\n",
       "    </tr>\n",
       "  </thead>\n",
       "  <tbody>\n",
       "    <tr>\n",
       "      <th>0</th>\n",
       "      <td>0</td>\n",
       "      <td>0.719085</td>\n",
       "      <td>1.944551</td>\n",
       "      <td>-3.251569</td>\n",
       "    </tr>\n",
       "    <tr>\n",
       "      <th>1</th>\n",
       "      <td>1</td>\n",
       "      <td>-0.274273</td>\n",
       "      <td>-0.121528</td>\n",
       "      <td>0.561175</td>\n",
       "    </tr>\n",
       "    <tr>\n",
       "      <th>2</th>\n",
       "      <td>2</td>\n",
       "      <td>0.403666</td>\n",
       "      <td>0.874512</td>\n",
       "      <td>-3.153896</td>\n",
       "    </tr>\n",
       "    <tr>\n",
       "      <th>3</th>\n",
       "      <td>3</td>\n",
       "      <td>-0.823423</td>\n",
       "      <td>-1.190655</td>\n",
       "      <td>0.921144</td>\n",
       "    </tr>\n",
       "    <tr>\n",
       "      <th>4</th>\n",
       "      <td>4</td>\n",
       "      <td>0.722490</td>\n",
       "      <td>1.495663</td>\n",
       "      <td>0.317788</td>\n",
       "    </tr>\n",
       "  </tbody>\n",
       "</table>\n",
       "</div>"
      ],
      "text/plain": [
       "   Unnamed: 0      PC 1      PC 2      PC 3\n",
       "0           0  0.719085  1.944551 -3.251569\n",
       "1           1 -0.274273 -0.121528  0.561175\n",
       "2           2  0.403666  0.874512 -3.153896\n",
       "3           3 -0.823423 -1.190655  0.921144\n",
       "4           4  0.722490  1.495663  0.317788"
      ]
     },
     "execution_count": 79,
     "metadata": {},
     "output_type": "execute_result"
    }
   ],
   "source": [
    "data.head()"
   ]
  },
  {
   "cell_type": "markdown",
   "id": "08e42353-286f-47fe-b515-2efdfaf13662",
   "metadata": {},
   "source": [
    "#### Elbow Method"
   ]
  },
  {
   "cell_type": "markdown",
   "id": "67dff84e-194c-443d-b4ed-d96f9d6639c6",
   "metadata": {},
   "source": [
    "To find the optimal number of clusters for our data we used the elbow method and python's k_means function."
   ]
  },
  {
   "cell_type": "code",
   "execution_count": 80,
   "id": "a05a4777-c807-4903-82f9-ebeefdf80de3",
   "metadata": {},
   "outputs": [
    {
     "name": "stderr",
     "output_type": "stream",
     "text": [
      "WARNING:matplotlib.font_manager:findfont: Font family ['sans-serif'] not found. Falling back to DejaVu Sans.\n",
      "WARNING:matplotlib.font_manager:findfont: Generic family 'sans-serif' not found because none of the following families were found: Arial, Liberation Sans, Bitstream Vera Sans, sans-serif\n",
      "WARNING:matplotlib.font_manager:findfont: Font family ['sans-serif'] not found. Falling back to DejaVu Sans.\n",
      "WARNING:matplotlib.font_manager:findfont: Generic family 'sans-serif' not found because none of the following families were found: Arial, Liberation Sans, Bitstream Vera Sans, sans-serif\n",
      "WARNING:matplotlib.font_manager:findfont: Font family ['sans-serif'] not found. Falling back to DejaVu Sans.\n",
      "WARNING:matplotlib.font_manager:findfont: Generic family 'sans-serif' not found because none of the following families were found: Arial, Liberation Sans, Bitstream Vera Sans, sans-serif\n"
     ]
    },
    {
     "data": {
      "image/png": "[encoded data removed]",
      "text/plain": [
       "<Figure size 576x396 with 2 Axes>"
      ]
     },
     "metadata": {},
     "output_type": "display_data"
    },
    {
     "data": {
      "text/plain": [
       "<AxesSubplot:title={'center':'Distortion Score Elbow for KMeans Clustering'}, xlabel='k', ylabel='distortion score'>"
      ]
     },
     "execution_count": 80,
     "metadata": {},
     "output_type": "execute_result"
    }
   ],
   "source": [
    "model = KMeans()\n",
    "visualizer = KElbowVisualizer(model, k=(2,8))\n",
    "\n",
    "visualizer.fit(data)\n",
    "visualizer.show() "
   ]
  },
  {
   "cell_type": "markdown",
   "id": "7c15b26e-1c1c-44fd-8dd5-237c8616edca",
   "metadata": {},
   "source": [
    "As we can see from the plot, the elbow method tells us that the optimal number of clusters for our data is k=4."
   ]
  },
  {
   "cell_type": "markdown",
   "id": "7493658d-d4a3-4a3a-a9c5-1f2fc9ce477d",
   "metadata": {},
   "source": [
    "#### Silhouette Method"
   ]
  },
  {
   "cell_type": "code",
   "execution_count": 82,
   "id": "9d71ecf9-8ab8-418c-b7f6-932c7c1c98c0",
   "metadata": {},
   "outputs": [],
   "source": [
    "#We took a sample of 30,000 items from our dataset\n",
    "data_sample = data.sample(30000)"
   ]
  },
  {
   "cell_type": "markdown",
   "id": "e371944f-b0ad-4a7b-be69-fe6abf23c45b",
   "metadata": {},
   "source": [
    "The second method we used to find the optimal number of clusters for our data is silhouette method. We use the function 'silhouette_score' to compute the silhouette score for 2, 3, 4, 5, 6 and 7 clusters."
   ]
  },
  {
   "cell_type": "code",
   "execution_count": 83,
   "id": "da4ec0f9-377f-4aad-acc1-8bf2bb4f4555",
   "metadata": {},
   "outputs": [
    {
     "data": {
      "image/png": "[encoded data removed]",
      "text/plain": [
       "<Figure size 576x396 with 1 Axes>"
      ]
     },
     "metadata": {},
     "output_type": "display_data"
    }
   ],
   "source": [
    "clusters = [2, 3, 4, 5, 6, 7]\n",
    "silhouette_avg = []\n",
    "\n",
    "for cluster in clusters:\n",
    "    kmeans=KMeans(n_clusters=cluster, random_state=42).fit(data_sample)\n",
    "    cluster_labels = kmeans.labels_\n",
    "    silhouette_avg.append(silhouette_score(data_sample, cluster_labels))\n",
    "    \n",
    "plt.plot(clusters,silhouette_avg,'bx-')    \n",
    "plt.xlabel('Values of K') \n",
    "plt.ylabel('Silhouette score') \n",
    "plt.title('Silhouette analysis For Optimal k')\n",
    "plt.show()"
   ]
  },
  {
   "cell_type": "code",
   "execution_count": 84,
   "id": "183084ef-11e3-4b36-9683-e91cb72677e4",
   "metadata": {},
   "outputs": [
    {
     "data": {
      "image/png": "[encoded data removed]",
      "text/plain": [
       "<Figure size 1080x576 with 4 Axes>"
      ]
     },
     "metadata": {},
     "output_type": "display_data"
    }
   ],
   "source": [
    "fig, ax = plt.subplots(2, 2, figsize=(15,8))\n",
    "for i in [2, 3, 4, 5]:\n",
    "    km = KMeans(n_clusters=i, random_state=42)\n",
    "    q, mod = divmod(i, 2)\n",
    "    visualizer = SilhouetteVisualizer(km, colors='yellowbrick', ax=ax[q-1][mod])\n",
    "    visualizer.fit(data_sample)\n",
    "    cluster_labels = km.fit_predict(data_sample)\n",
    "    silhouette_avg = silhouette_score(data_sample, cluster_labels)"
   ]
  },
  {
   "cell_type": "markdown",
   "id": "058a471e-550a-461e-bc7a-971ea666b1e4",
   "metadata": {},
   "source": [
    "As we can see from the plots, the silhouette method tells us that the optimal number of clusters for our data is k=2."
   ]
  },
  {
   "cell_type": "markdown",
   "id": "ee234ce4-c0c5-4204-89b0-1af5c03d3a9f",
   "metadata": {},
   "source": [
    "#### Run the already implemented version of K-means++ "
   ]
  },
  {
   "cell_type": "markdown",
   "id": "a96d9e17-35fc-4b57-9b5f-31f090412fe7",
   "metadata": {},
   "source": [
    "Elbow Method and Silhouette Method give us different results. We will use k=2 (the result provided by the Silhouette Method) since the elbow method calculates only the Euclidean distance while the silhouette method takes into account variables such as variance, skewness... so the silhouette score is more accurate."
   ]
  },
  {
   "cell_type": "markdown",
   "id": "5d0500eb-3e99-4f3a-93db-7cb2e211145c",
   "metadata": {},
   "source": [
    "We add the 'cluster' column to our dataset. For each row of the dataset this column contains the number of the cluster to which that point is assigned."
   ]
  },
  {
   "cell_type": "code",
   "execution_count": 85,
   "id": "be3622d9-e0ba-485f-b3b3-865b74f75a88",
   "metadata": {},
   "outputs": [],
   "source": [
    "model = AgglomerativeClustering(n_clusters=2, affinity='euclidean', linkage='single')\n",
    "data_sample['cluster'] = model.fit_predict(data_sample)"
   ]
  },
  {
   "cell_type": "markdown",
   "id": "4f8fdc7b-1d89-4049-a316-7f38be015643",
   "metadata": {},
   "source": [
    "We plot the clusters"
   ]
  },
  {
   "cell_type": "code",
   "execution_count": 86,
   "id": "77084f94-e6e5-4338-a94e-d567de0d9345",
   "metadata": {},
   "outputs": [
    {
     "data": {
      "text/plain": [
       "Text(0.5, 0, 'PC 3')"
      ]
     },
     "execution_count": 86,
     "metadata": {},
     "output_type": "execute_result"
    },
    {
     "data": {
      "image/png": "[encoded data removed]",
      "text/plain": [
       "<Figure size 576x396 with 1 Axes>"
      ]
     },
     "metadata": {},
     "output_type": "display_data"
    }
   ],
   "source": [
    "fig = plt.figure()\n",
    "ax = Axes3D(fig, auto_add_to_figure=False)\n",
    "fig.add_axes(ax)\n",
    "unique_values = len(data_sample.cluster.unique())\n",
    "\n",
    "cmap = ListedColormap(sns.color_palette('hls',unique_values))\n",
    "sc = ax.scatter(data_sample[\"PC 1\"], data_sample[\"PC 2\"], data_sample[\"PC 3\"], c=data_sample[\"PC 1\"], marker='o', cmap=cmap, alpha=1)\n",
    "ax.set_xlabel('PC 1')\n",
    "ax.set_ylabel('PC 2')\n",
    "ax.set_zlabel('PC 3')\n"
   ]
  },
  {
   "cell_type": "markdown",
   "id": "743aab74-e26b-43d9-a1be-acf3f3ea8a11",
   "metadata": {},
   "source": [
    "### 2.4 Analysing your results!"
   ]
  },
  {
   "cell_type": "code",
   "execution_count": 102,
   "id": "825b3e59-87f3-4f48-bf3a-a4c4be993cac",
   "metadata": {},
   "outputs": [],
   "source": [
    "#Import the variable we want to take into account\n",
    "data = pd.read_csv('bank_transactions2.csv', sep=',', usecols=['Gender','Number_of_transactions', 'Numb_trans>100', 'Average_of_transactions',\n",
    "                                                                                           'Average_balance', 'Utilisation', 'Max_Transaction_Amount',\n",
    "                                                                                           'Min_Transaction_Amount', 'Max_Account_Balance', \n",
    "                                                                                           'Min_Account_Balance', \n",
    "                                                                                           '18<Age<60',\n",
    "                                                                                           'Number_of_high_transactions', 'Number_of_low_transactions',\n",
    "                                                                                           'Number_of_high_AccountBalance', 'Number_of_low_AccountBalance'\n",
    "                                                                                           ])"
   ]
  },
  {
   "cell_type": "code",
   "execution_count": 103,
   "id": "8f63db24-d0da-4674-8c47-8a7dd2753640",
   "metadata": {},
   "outputs": [],
   "source": [
    "#Replace Gender with 0 if Female and 1 if Male\n",
    "data = data.replace('F', 0)"
   ]
  },
  {
   "cell_type": "code",
   "execution_count": 104,
   "id": "a8f503a5-7e89-46f1-96de-ad6b24cca28e",
   "metadata": {},
   "outputs": [],
   "source": [
    "data = data.replace('M', 1)"
   ]
  },
  {
   "cell_type": "code",
   "execution_count": 105,
   "id": "ca7ad234-5444-44ad-a01a-f1238149a6f6",
   "metadata": {},
   "outputs": [
    {
     "name": "stdout",
     "output_type": "stream",
     "text": [
      "<class 'pandas.core.frame.DataFrame'>\n",
      "RangeIndex: 839081 entries, 0 to 839080\n",
      "Data columns (total 15 columns):\n",
      " #   Column                         Non-Null Count   Dtype  \n",
      "---  ------                         --------------   -----  \n",
      " 0   Number_of_transactions         839081 non-null  int64  \n",
      " 1   Numb_trans>100                 839081 non-null  int64  \n",
      " 2   Average_of_transactions        839081 non-null  float64\n",
      " 3   Average_balance                839081 non-null  float64\n",
      " 4   Utilisation                    839081 non-null  float64\n",
      " 5   Gender                         839081 non-null  int64  \n",
      " 6   Max_Transaction_Amount         839081 non-null  float64\n",
      " 7   Min_Transaction_Amount         839081 non-null  float64\n",
      " 8   Max_Account_Balance            839081 non-null  float64\n",
      " 9   Min_Account_Balance            839081 non-null  float64\n",
      " 10  18<Age<60                      839081 non-null  int64  \n",
      " 11  Number_of_high_transactions    839081 non-null  int64  \n",
      " 12  Number_of_low_transactions     839081 non-null  int64  \n",
      " 13  Number_of_high_AccountBalance  839081 non-null  int64  \n",
      " 14  Number_of_low_AccountBalance   839081 non-null  int64  \n",
      "dtypes: float64(7), int64(8)\n",
      "memory usage: 96.0 MB\n"
     ]
    }
   ],
   "source": [
    "data.info()"
   ]
  },
  {
   "cell_type": "code",
   "execution_count": 106,
   "id": "ebbdfdb4-c8d2-454e-a3a5-19032da7de51",
   "metadata": {},
   "outputs": [],
   "source": [
    "#Standardize varibles to permorm the k-means to have the same number of clusters as before as a variable in a dataframe \n",
    "scaler = preprocessing.StandardScaler().fit(data)\n",
    "data_scaled = scaler.transform(data)"
   ]
  },
  {
   "cell_type": "code",
   "execution_count": 107,
   "id": "0d815503-0503-434e-8d6b-2fb9d9beb163",
   "metadata": {},
   "outputs": [
    {
     "data": {
      "text/plain": [
       "array([1, 0, 1, ..., 0, 0, 0], dtype=int32)"
      ]
     },
     "execution_count": 107,
     "metadata": {},
     "output_type": "execute_result"
    }
   ],
   "source": [
    "kmeans = KMeans(init=\"random\", n_clusters=2)\n",
    "\n",
    "#fit k-means algorithm to data\n",
    "kmeans.fit(data_scaled)\n",
    "\n",
    "#view cluster assignments for each observation\n",
    "kmeans.labels_"
   ]
  },
  {
   "cell_type": "code",
   "execution_count": 108,
   "id": "5d5e7dcc-94c8-4de6-a5a1-3dafef5d3e01",
   "metadata": {},
   "outputs": [
    {
     "data": {
      "text/html": [
       "<div>\n",
       "<style scoped>\n",
       "    .dataframe tbody tr th:only-of-type {\n",
       "        vertical-align: middle;\n",
       "    }\n",
       "\n",
       "    .dataframe tbody tr th {\n",
       "        vertical-align: top;\n",
       "    }\n",
       "\n",
       "    .dataframe thead th {\n",
       "        text-align: right;\n",
       "    }\n",
       "</style>\n",
       "<table border=\"1\" class=\"dataframe\">\n",
       "  <thead>\n",
       "    <tr style=\"text-align: right;\">\n",
       "      <th></th>\n",
       "      <th>Number_of_transactions</th>\n",
       "      <th>Numb_trans&gt;100</th>\n",
       "      <th>Average_of_transactions</th>\n",
       "      <th>Average_balance</th>\n",
       "      <th>Utilisation</th>\n",
       "      <th>Gender</th>\n",
       "      <th>Max_Transaction_Amount</th>\n",
       "      <th>Min_Transaction_Amount</th>\n",
       "      <th>Max_Account_Balance</th>\n",
       "      <th>Min_Account_Balance</th>\n",
       "      <th>18&lt;Age&lt;60</th>\n",
       "      <th>Number_of_high_transactions</th>\n",
       "      <th>Number_of_low_transactions</th>\n",
       "      <th>Number_of_high_AccountBalance</th>\n",
       "      <th>Number_of_low_AccountBalance</th>\n",
       "      <th>Cluster</th>\n",
       "    </tr>\n",
       "  </thead>\n",
       "  <tbody>\n",
       "    <tr>\n",
       "      <th>0</th>\n",
       "      <td>2</td>\n",
       "      <td>2</td>\n",
       "      <td>2553.0</td>\n",
       "      <td>76340.63</td>\n",
       "      <td>73787.63</td>\n",
       "      <td>1</td>\n",
       "      <td>4750.0</td>\n",
       "      <td>356.0</td>\n",
       "      <td>120180.54</td>\n",
       "      <td>32500.73</td>\n",
       "      <td>2</td>\n",
       "      <td>1</td>\n",
       "      <td>0</td>\n",
       "      <td>1</td>\n",
       "      <td>0</td>\n",
       "      <td></td>\n",
       "    </tr>\n",
       "    <tr>\n",
       "      <th>1</th>\n",
       "      <td>1</td>\n",
       "      <td>1</td>\n",
       "      <td>1499.0</td>\n",
       "      <td>24204.49</td>\n",
       "      <td>22705.49</td>\n",
       "      <td>1</td>\n",
       "      <td>1499.0</td>\n",
       "      <td>1499.0</td>\n",
       "      <td>24204.49</td>\n",
       "      <td>24204.49</td>\n",
       "      <td>1</td>\n",
       "      <td>0</td>\n",
       "      <td>0</td>\n",
       "      <td>0</td>\n",
       "      <td>0</td>\n",
       "      <td></td>\n",
       "    </tr>\n",
       "    <tr>\n",
       "      <th>2</th>\n",
       "      <td>2</td>\n",
       "      <td>2</td>\n",
       "      <td>727.5</td>\n",
       "      <td>100112.95</td>\n",
       "      <td>99385.45</td>\n",
       "      <td>0</td>\n",
       "      <td>1205.0</td>\n",
       "      <td>250.0</td>\n",
       "      <td>161848.76</td>\n",
       "      <td>38377.14</td>\n",
       "      <td>2</td>\n",
       "      <td>0</td>\n",
       "      <td>0</td>\n",
       "      <td>1</td>\n",
       "      <td>0</td>\n",
       "      <td></td>\n",
       "    </tr>\n",
       "    <tr>\n",
       "      <th>3</th>\n",
       "      <td>1</td>\n",
       "      <td>0</td>\n",
       "      <td>30.0</td>\n",
       "      <td>496.18</td>\n",
       "      <td>466.18</td>\n",
       "      <td>0</td>\n",
       "      <td>30.0</td>\n",
       "      <td>30.0</td>\n",
       "      <td>496.18</td>\n",
       "      <td>496.18</td>\n",
       "      <td>1</td>\n",
       "      <td>0</td>\n",
       "      <td>1</td>\n",
       "      <td>0</td>\n",
       "      <td>1</td>\n",
       "      <td></td>\n",
       "    </tr>\n",
       "    <tr>\n",
       "      <th>4</th>\n",
       "      <td>1</td>\n",
       "      <td>1</td>\n",
       "      <td>5000.0</td>\n",
       "      <td>87058.65</td>\n",
       "      <td>82058.65</td>\n",
       "      <td>1</td>\n",
       "      <td>5000.0</td>\n",
       "      <td>5000.0</td>\n",
       "      <td>87058.65</td>\n",
       "      <td>87058.65</td>\n",
       "      <td>1</td>\n",
       "      <td>1</td>\n",
       "      <td>0</td>\n",
       "      <td>1</td>\n",
       "      <td>0</td>\n",
       "      <td></td>\n",
       "    </tr>\n",
       "  </tbody>\n",
       "</table>\n",
       "</div>"
      ],
      "text/plain": [
       "   Number_of_transactions  Numb_trans>100  Average_of_transactions  \\\n",
       "0                       2               2                   2553.0   \n",
       "1                       1               1                   1499.0   \n",
       "2                       2               2                    727.5   \n",
       "3                       1               0                     30.0   \n",
       "4                       1               1                   5000.0   \n",
       "\n",
       "   Average_balance  Utilisation  Gender  Max_Transaction_Amount  \\\n",
       "0         76340.63     73787.63       1                  4750.0   \n",
       "1         24204.49     22705.49       1                  1499.0   \n",
       "2        100112.95     99385.45       0                  1205.0   \n",
       "3           496.18       466.18       0                    30.0   \n",
       "4         87058.65     82058.65       1                  5000.0   \n",
       "\n",
       "   Min_Transaction_Amount  Max_Account_Balance  Min_Account_Balance  \\\n",
       "0                   356.0            120180.54             32500.73   \n",
       "1                  1499.0             24204.49             24204.49   \n",
       "2                   250.0            161848.76             38377.14   \n",
       "3                    30.0               496.18               496.18   \n",
       "4                  5000.0             87058.65             87058.65   \n",
       "\n",
       "   18<Age<60  Number_of_high_transactions  Number_of_low_transactions  \\\n",
       "0          2                            1                           0   \n",
       "1          1                            0                           0   \n",
       "2          2                            0                           0   \n",
       "3          1                            0                           1   \n",
       "4          1                            1                           0   \n",
       "\n",
       "   Number_of_high_AccountBalance  Number_of_low_AccountBalance Cluster  \n",
       "0                              1                             0          \n",
       "1                              0                             0          \n",
       "2                              1                             0          \n",
       "3                              0                             1          \n",
       "4                              1                             0          "
      ]
     },
     "execution_count": 108,
     "metadata": {},
     "output_type": "execute_result"
    }
   ],
   "source": [
    "#Create an empty column to add to the dataframe\n",
    "data['Cluster'] = data.apply(lambda _: '', axis=1)\n",
    "data.head()"
   ]
  },
  {
   "cell_type": "code",
   "execution_count": 109,
   "id": "d4b7a1c6-d525-4cbf-91b1-d8f614863d07",
   "metadata": {},
   "outputs": [],
   "source": [
    "#Fill the column with the corresponding cluster for each customer\n",
    "data['Cluster'] = kmeans.labels_+1"
   ]
  },
  {
   "cell_type": "code",
   "execution_count": 110,
   "id": "8aa04c73-42e1-400a-bd95-cf36239019bc",
   "metadata": {},
   "outputs": [
    {
     "data": {
      "text/plain": [
       "0    2\n",
       "1    1\n",
       "2    2\n",
       "3    1\n",
       "4    1\n",
       "Name: Cluster, dtype: int32"
      ]
     },
     "execution_count": 110,
     "metadata": {},
     "output_type": "execute_result"
    }
   ],
   "source": [
    "data['Cluster'].head()"
   ]
  },
  {
   "cell_type": "code",
   "execution_count": 111,
   "id": "a7dd4480-f3b1-4048-a5d8-643761086baa",
   "metadata": {},
   "outputs": [
    {
     "name": "stdout",
     "output_type": "stream",
     "text": [
      "711449 127632\n",
      "839081\n"
     ]
    }
   ],
   "source": [
    "#Counting how many customers are in each cluster\n",
    "c1 = 0\n",
    "c2 = 0\n",
    "for i in data['Cluster']:\n",
    "  if i == 1:\n",
    "    c1 += 1\n",
    "  else: \n",
    "    c2 += 1\n",
    "print( c1, c2)\n",
    "print(c1+c2)"
   ]
  },
  {
   "cell_type": "markdown",
   "id": "319ae1fa-9415-4f58-a915-7d3c245ec20a",
   "metadata": {},
   "source": [
    "#### 2.4.1 Select 2-3 variables you think are relevant to identify the cluster of the customer. For example, CustGender, Number of transactions, etc."
   ]
  },
  {
   "cell_type": "code",
   "execution_count": 112,
   "id": "a5e25c9d-8f62-480c-a6fe-c33e1a15eb9f",
   "metadata": {},
   "outputs": [
    {
     "data": {
      "text/html": [
       "<div>\n",
       "<style scoped>\n",
       "    .dataframe tbody tr th:only-of-type {\n",
       "        vertical-align: middle;\n",
       "    }\n",
       "\n",
       "    .dataframe tbody tr th {\n",
       "        vertical-align: top;\n",
       "    }\n",
       "\n",
       "    .dataframe thead th {\n",
       "        text-align: right;\n",
       "    }\n",
       "</style>\n",
       "<table border=\"1\" class=\"dataframe\">\n",
       "  <thead>\n",
       "    <tr style=\"text-align: right;\">\n",
       "      <th></th>\n",
       "      <th>Average_balance</th>\n",
       "      <th>Average_of_transactions</th>\n",
       "      <th>Utilisation</th>\n",
       "      <th>Cluster</th>\n",
       "    </tr>\n",
       "  </thead>\n",
       "  <tbody>\n",
       "    <tr>\n",
       "      <th>0</th>\n",
       "      <td>76340.63</td>\n",
       "      <td>2553.0</td>\n",
       "      <td>73787.63</td>\n",
       "      <td>2</td>\n",
       "    </tr>\n",
       "    <tr>\n",
       "      <th>1</th>\n",
       "      <td>24204.49</td>\n",
       "      <td>1499.0</td>\n",
       "      <td>22705.49</td>\n",
       "      <td>1</td>\n",
       "    </tr>\n",
       "    <tr>\n",
       "      <th>2</th>\n",
       "      <td>100112.95</td>\n",
       "      <td>727.5</td>\n",
       "      <td>99385.45</td>\n",
       "      <td>2</td>\n",
       "    </tr>\n",
       "    <tr>\n",
       "      <th>3</th>\n",
       "      <td>496.18</td>\n",
       "      <td>30.0</td>\n",
       "      <td>466.18</td>\n",
       "      <td>1</td>\n",
       "    </tr>\n",
       "    <tr>\n",
       "      <th>4</th>\n",
       "      <td>87058.65</td>\n",
       "      <td>5000.0</td>\n",
       "      <td>82058.65</td>\n",
       "      <td>1</td>\n",
       "    </tr>\n",
       "  </tbody>\n",
       "</table>\n",
       "</div>"
      ],
      "text/plain": [
       "   Average_balance  Average_of_transactions  Utilisation  Cluster\n",
       "0         76340.63                   2553.0     73787.63        2\n",
       "1         24204.49                   1499.0     22705.49        1\n",
       "2        100112.95                    727.5     99385.45        2\n",
       "3           496.18                     30.0       466.18        1\n",
       "4         87058.65                   5000.0     82058.65        1"
      ]
     },
     "execution_count": 112,
     "metadata": {},
     "output_type": "execute_result"
    }
   ],
   "source": [
    "#Select variables we think are important to identify a cluster\n",
    "data1 = pd.DataFrame(data, columns=['Average_balance', 'Average_of_transactions', 'Utilisation', 'Cluster'])\n",
    "data1.head()"
   ]
  },
  {
   "cell_type": "markdown",
   "id": "57a07540-1375-4541-837e-92bacf7cba68",
   "metadata": {},
   "source": [
    "#### 2.4.2 Most of your selected variables will be numerical (continuous or discrete), then categorise them into four categories."
   ]
  },
  {
   "cell_type": "code",
   "execution_count": 113,
   "id": "1259f451-7945-4019-b651-cd307ac1b43b",
   "metadata": {},
   "outputs": [],
   "source": [
    "#Add a column with the respective category for each numerical variable \n",
    "data1['Categories_balance'] = pd.qcut(data1['Average_balance'], [0,0.25,0.5,0.75,1], labels=False) +1\n",
    "data1['Categories_transactions'] = pd.qcut(data1['Average_of_transactions'], [0,0.25,0.5,0.75,1], labels=False) +1\n",
    "data1['Categories_utilisation'] = pd.qcut(data1['Utilisation'], [0,0.25,0.5,0.75,1], labels=False) +1"
   ]
  },
  {
   "cell_type": "code",
   "execution_count": 114,
   "id": "efa11133-1ce6-44ae-b718-90eb0dc7f985",
   "metadata": {},
   "outputs": [
    {
     "data": {
      "text/plain": [
       "0    4\n",
       "1    3\n",
       "2    4\n",
       "3    1\n",
       "4    4\n",
       "Name: Categories_balance, dtype: int64"
      ]
     },
     "execution_count": 114,
     "metadata": {},
     "output_type": "execute_result"
    }
   ],
   "source": [
    "data1['Categories_balance'].head()"
   ]
  },
  {
   "cell_type": "code",
   "execution_count": 115,
   "id": "57e15197-695a-4d42-902f-33605810e633",
   "metadata": {},
   "outputs": [
    {
     "data": {
      "text/plain": [
       "0    4\n",
       "1    4\n",
       "2    3\n",
       "3    1\n",
       "4    4\n",
       "Name: Categories_transactions, dtype: int64"
      ]
     },
     "execution_count": 115,
     "metadata": {},
     "output_type": "execute_result"
    }
   ],
   "source": [
    "data1['Categories_transactions'].head()"
   ]
  },
  {
   "cell_type": "code",
   "execution_count": 116,
   "id": "39a8adeb-dfad-45fa-98c0-6da8e15c4fa2",
   "metadata": {},
   "outputs": [
    {
     "data": {
      "text/plain": [
       "0    4\n",
       "1    3\n",
       "2    4\n",
       "3    1\n",
       "4    4\n",
       "Name: Categories_utilisation, dtype: int64"
      ]
     },
     "execution_count": 116,
     "metadata": {},
     "output_type": "execute_result"
    }
   ],
   "source": [
    "data1['Categories_utilisation'].head()"
   ]
  },
  {
   "cell_type": "code",
   "execution_count": 117,
   "id": "386fe94e-1f5b-46b8-9d2c-3a6fff029773",
   "metadata": {},
   "outputs": [
    {
     "data": {
      "text/html": [
       "<div>\n",
       "<style scoped>\n",
       "    .dataframe tbody tr th:only-of-type {\n",
       "        vertical-align: middle;\n",
       "    }\n",
       "\n",
       "    .dataframe tbody tr th {\n",
       "        vertical-align: top;\n",
       "    }\n",
       "\n",
       "    .dataframe thead th {\n",
       "        text-align: right;\n",
       "    }\n",
       "</style>\n",
       "<table border=\"1\" class=\"dataframe\">\n",
       "  <thead>\n",
       "    <tr style=\"text-align: right;\">\n",
       "      <th></th>\n",
       "      <th>Average_balance</th>\n",
       "      <th>Average_of_transactions</th>\n",
       "      <th>Utilisation</th>\n",
       "      <th>Cluster</th>\n",
       "      <th>Categories_balance</th>\n",
       "      <th>Categories_transactions</th>\n",
       "      <th>Categories_utilisation</th>\n",
       "    </tr>\n",
       "  </thead>\n",
       "  <tbody>\n",
       "    <tr>\n",
       "      <th>0</th>\n",
       "      <td>76340.63</td>\n",
       "      <td>2553.0</td>\n",
       "      <td>73787.63</td>\n",
       "      <td>2</td>\n",
       "      <td>4</td>\n",
       "      <td>4</td>\n",
       "      <td>4</td>\n",
       "    </tr>\n",
       "    <tr>\n",
       "      <th>1</th>\n",
       "      <td>24204.49</td>\n",
       "      <td>1499.0</td>\n",
       "      <td>22705.49</td>\n",
       "      <td>1</td>\n",
       "      <td>3</td>\n",
       "      <td>4</td>\n",
       "      <td>3</td>\n",
       "    </tr>\n",
       "    <tr>\n",
       "      <th>2</th>\n",
       "      <td>100112.95</td>\n",
       "      <td>727.5</td>\n",
       "      <td>99385.45</td>\n",
       "      <td>2</td>\n",
       "      <td>4</td>\n",
       "      <td>3</td>\n",
       "      <td>4</td>\n",
       "    </tr>\n",
       "    <tr>\n",
       "      <th>3</th>\n",
       "      <td>496.18</td>\n",
       "      <td>30.0</td>\n",
       "      <td>466.18</td>\n",
       "      <td>1</td>\n",
       "      <td>1</td>\n",
       "      <td>1</td>\n",
       "      <td>1</td>\n",
       "    </tr>\n",
       "    <tr>\n",
       "      <th>4</th>\n",
       "      <td>87058.65</td>\n",
       "      <td>5000.0</td>\n",
       "      <td>82058.65</td>\n",
       "      <td>1</td>\n",
       "      <td>4</td>\n",
       "      <td>4</td>\n",
       "      <td>4</td>\n",
       "    </tr>\n",
       "  </tbody>\n",
       "</table>\n",
       "</div>"
      ],
      "text/plain": [
       "   Average_balance  Average_of_transactions  Utilisation  Cluster  \\\n",
       "0         76340.63                   2553.0     73787.63        2   \n",
       "1         24204.49                   1499.0     22705.49        1   \n",
       "2        100112.95                    727.5     99385.45        2   \n",
       "3           496.18                     30.0       466.18        1   \n",
       "4         87058.65                   5000.0     82058.65        1   \n",
       "\n",
       "   Categories_balance  Categories_transactions  Categories_utilisation  \n",
       "0                   4                        4                       4  \n",
       "1                   3                        4                       3  \n",
       "2                   4                        3                       4  \n",
       "3                   1                        1                       1  \n",
       "4                   4                        4                       4  "
      ]
     },
     "execution_count": 117,
     "metadata": {},
     "output_type": "execute_result"
    }
   ],
   "source": [
    "data1.head()"
   ]
  },
  {
   "cell_type": "markdown",
   "id": "b6b7d6bf-831c-443d-a9de-e25d300f26e2",
   "metadata": {},
   "source": [
    "#### 2.4.3 With the selected variables, perform pivot tables. On the horizontal axis, you will have the clusters, and on the vertical axis, you will have the categories of each variable. Notice that you have to do one pivot table per variable."
   ]
  },
  {
   "cell_type": "code",
   "execution_count": 118,
   "id": "e64c33cd-c67b-4c58-8963-530f2efe3885",
   "metadata": {},
   "outputs": [
    {
     "data": {
      "text/html": [
       "<div>\n",
       "<style scoped>\n",
       "    .dataframe tbody tr th:only-of-type {\n",
       "        vertical-align: middle;\n",
       "    }\n",
       "\n",
       "    .dataframe tbody tr th {\n",
       "        vertical-align: top;\n",
       "    }\n",
       "\n",
       "    .dataframe thead th {\n",
       "        text-align: right;\n",
       "    }\n",
       "</style>\n",
       "<table border=\"1\" class=\"dataframe\">\n",
       "  <thead>\n",
       "    <tr style=\"text-align: right;\">\n",
       "      <th>Categories_balance</th>\n",
       "      <th>1</th>\n",
       "      <th>2</th>\n",
       "      <th>3</th>\n",
       "      <th>4</th>\n",
       "    </tr>\n",
       "    <tr>\n",
       "      <th>Cluster</th>\n",
       "      <th></th>\n",
       "      <th></th>\n",
       "      <th></th>\n",
       "      <th></th>\n",
       "    </tr>\n",
       "  </thead>\n",
       "  <tbody>\n",
       "    <tr>\n",
       "      <th>1</th>\n",
       "      <td>194782</td>\n",
       "      <td>176917</td>\n",
       "      <td>169680</td>\n",
       "      <td>170070</td>\n",
       "    </tr>\n",
       "    <tr>\n",
       "      <th>2</th>\n",
       "      <td>15000</td>\n",
       "      <td>32843</td>\n",
       "      <td>40091</td>\n",
       "      <td>39698</td>\n",
       "    </tr>\n",
       "  </tbody>\n",
       "</table>\n",
       "</div>"
      ],
      "text/plain": [
       "Categories_balance       1       2       3       4\n",
       "Cluster                                           \n",
       "1                   194782  176917  169680  170070\n",
       "2                    15000   32843   40091   39698"
      ]
     },
     "execution_count": 118,
     "metadata": {},
     "output_type": "execute_result"
    }
   ],
   "source": [
    "#Pivot table for Average balance divided into 4 categories based on quantiles \n",
    "data1.pivot_table('Average_balance', ['Cluster'], ['Categories_balance'], aggfunc={'Categories_balance':'count'})"
   ]
  },
  {
   "cell_type": "code",
   "execution_count": 119,
   "id": "8f9073d8-d204-4346-bcdd-6af7266ffb48",
   "metadata": {},
   "outputs": [
    {
     "data": {
      "text/html": [
       "<div>\n",
       "<style scoped>\n",
       "    .dataframe tbody tr th:only-of-type {\n",
       "        vertical-align: middle;\n",
       "    }\n",
       "\n",
       "    .dataframe tbody tr th {\n",
       "        vertical-align: top;\n",
       "    }\n",
       "\n",
       "    .dataframe thead th {\n",
       "        text-align: right;\n",
       "    }\n",
       "</style>\n",
       "<table border=\"1\" class=\"dataframe\">\n",
       "  <thead>\n",
       "    <tr style=\"text-align: right;\">\n",
       "      <th>Categories_transactions</th>\n",
       "      <th>1</th>\n",
       "      <th>2</th>\n",
       "      <th>3</th>\n",
       "      <th>4</th>\n",
       "    </tr>\n",
       "    <tr>\n",
       "      <th>Cluster</th>\n",
       "      <th></th>\n",
       "      <th></th>\n",
       "      <th></th>\n",
       "      <th></th>\n",
       "    </tr>\n",
       "  </thead>\n",
       "  <tbody>\n",
       "    <tr>\n",
       "      <th>1</th>\n",
       "      <td>194472</td>\n",
       "      <td>175206</td>\n",
       "      <td>168813</td>\n",
       "      <td>172958</td>\n",
       "    </tr>\n",
       "    <tr>\n",
       "      <th>2</th>\n",
       "      <td>16919</td>\n",
       "      <td>33392</td>\n",
       "      <td>40509</td>\n",
       "      <td>36812</td>\n",
       "    </tr>\n",
       "  </tbody>\n",
       "</table>\n",
       "</div>"
      ],
      "text/plain": [
       "Categories_transactions       1       2       3       4\n",
       "Cluster                                                \n",
       "1                        194472  175206  168813  172958\n",
       "2                         16919   33392   40509   36812"
      ]
     },
     "execution_count": 119,
     "metadata": {},
     "output_type": "execute_result"
    }
   ],
   "source": [
    "#Pivot table for Average of transactions divided into 4 categories based on quantiles \n",
    "data1.pivot_table('Average_of_transactions', ['Cluster'], ['Categories_transactions'],aggfunc={'Categories_transactions':'count'})"
   ]
  },
  {
   "cell_type": "code",
   "execution_count": 120,
   "id": "132390c2-b7f4-4561-9244-c25ff9e69078",
   "metadata": {},
   "outputs": [
    {
     "data": {
      "text/html": [
       "<div>\n",
       "<style scoped>\n",
       "    .dataframe tbody tr th:only-of-type {\n",
       "        vertical-align: middle;\n",
       "    }\n",
       "\n",
       "    .dataframe tbody tr th {\n",
       "        vertical-align: top;\n",
       "    }\n",
       "\n",
       "    .dataframe thead th {\n",
       "        text-align: right;\n",
       "    }\n",
       "</style>\n",
       "<table border=\"1\" class=\"dataframe\">\n",
       "  <thead>\n",
       "    <tr style=\"text-align: right;\">\n",
       "      <th>Categories_utilisation</th>\n",
       "      <th>1</th>\n",
       "      <th>2</th>\n",
       "      <th>3</th>\n",
       "      <th>4</th>\n",
       "    </tr>\n",
       "    <tr>\n",
       "      <th>Cluster</th>\n",
       "      <th></th>\n",
       "      <th></th>\n",
       "      <th></th>\n",
       "      <th></th>\n",
       "    </tr>\n",
       "  </thead>\n",
       "  <tbody>\n",
       "    <tr>\n",
       "      <th>1</th>\n",
       "      <td>194362</td>\n",
       "      <td>177131</td>\n",
       "      <td>169898</td>\n",
       "      <td>170058</td>\n",
       "    </tr>\n",
       "    <tr>\n",
       "      <th>2</th>\n",
       "      <td>15409</td>\n",
       "      <td>32643</td>\n",
       "      <td>39868</td>\n",
       "      <td>39712</td>\n",
       "    </tr>\n",
       "  </tbody>\n",
       "</table>\n",
       "</div>"
      ],
      "text/plain": [
       "Categories_utilisation       1       2       3       4\n",
       "Cluster                                               \n",
       "1                       194362  177131  169898  170058\n",
       "2                        15409   32643   39868   39712"
      ]
     },
     "execution_count": 120,
     "metadata": {},
     "output_type": "execute_result"
    }
   ],
   "source": [
    "#Pivot table for Utilisation divided into 4 categories based on quantiles \n",
    "data1.pivot_table('Utilisation', ['Cluster'], ['Categories_utilisation'], aggfunc={'Categories_utilisation':'count'})"
   ]
  },
  {
   "cell_type": "markdown",
   "id": "fc7da143-2852-40c7-bb9d-3e6a9ebd61f8",
   "metadata": {},
   "source": [
    "#### 2.4.4 Calculate the percentage by column for each pivot table. The sum of each row (cluster) must be 100."
   ]
  },
  {
   "cell_type": "code",
   "execution_count": 121,
   "id": "0bc23944-85cf-496d-8956-67133b11e0d6",
   "metadata": {},
   "outputs": [
    {
     "data": {
      "text/html": [
       "<div>\n",
       "<style scoped>\n",
       "    .dataframe tbody tr th:only-of-type {\n",
       "        vertical-align: middle;\n",
       "    }\n",
       "\n",
       "    .dataframe tbody tr th {\n",
       "        vertical-align: top;\n",
       "    }\n",
       "\n",
       "    .dataframe thead th {\n",
       "        text-align: right;\n",
       "    }\n",
       "</style>\n",
       "<table border=\"1\" class=\"dataframe\">\n",
       "  <thead>\n",
       "    <tr style=\"text-align: right;\">\n",
       "      <th>Categories_balance</th>\n",
       "      <th>1</th>\n",
       "      <th>2</th>\n",
       "      <th>3</th>\n",
       "      <th>4</th>\n",
       "    </tr>\n",
       "    <tr>\n",
       "      <th>Cluster</th>\n",
       "      <th></th>\n",
       "      <th></th>\n",
       "      <th></th>\n",
       "      <th></th>\n",
       "    </tr>\n",
       "  </thead>\n",
       "  <tbody>\n",
       "    <tr>\n",
       "      <th>1</th>\n",
       "      <td>152.242422</td>\n",
       "      <td>138.279064</td>\n",
       "      <td>132.622595</td>\n",
       "      <td>132.927420</td>\n",
       "    </tr>\n",
       "    <tr>\n",
       "      <th>2</th>\n",
       "      <td>2.109292</td>\n",
       "      <td>4.618366</td>\n",
       "      <td>5.637576</td>\n",
       "      <td>5.582312</td>\n",
       "    </tr>\n",
       "  </tbody>\n",
       "</table>\n",
       "</div>"
      ],
      "text/plain": [
       "Categories_balance           1           2           3           4\n",
       "Cluster                                                           \n",
       "1                   152.242422  138.279064  132.622595  132.927420\n",
       "2                     2.109292    4.618366    5.637576    5.582312"
      ]
     },
     "execution_count": 121,
     "metadata": {},
     "output_type": "execute_result"
    }
   ],
   "source": [
    "#Pivot table for Average balance divided into 4 categories based on quantiles (values are in percentage format)\n",
    "table = data1.pivot_table('Average_balance', ['Cluster'], ['Categories_balance'], aggfunc={'Categories_balance':'count'})\n",
    "table[0:1] = (table[0:1]/127942)*100\n",
    "table[1:2] = (table[1:2]/711139)*100\n",
    "table"
   ]
  },
  {
   "cell_type": "code",
   "execution_count": 122,
   "id": "7a0f045c-0f6c-423b-bd22-fa2e2e7df851",
   "metadata": {},
   "outputs": [
    {
     "data": {
      "text/html": [
       "<div>\n",
       "<style scoped>\n",
       "    .dataframe tbody tr th:only-of-type {\n",
       "        vertical-align: middle;\n",
       "    }\n",
       "\n",
       "    .dataframe tbody tr th {\n",
       "        vertical-align: top;\n",
       "    }\n",
       "\n",
       "    .dataframe thead th {\n",
       "        text-align: right;\n",
       "    }\n",
       "</style>\n",
       "<table border=\"1\" class=\"dataframe\">\n",
       "  <thead>\n",
       "    <tr style=\"text-align: right;\">\n",
       "      <th>Categories_transactions</th>\n",
       "      <th>1</th>\n",
       "      <th>2</th>\n",
       "      <th>3</th>\n",
       "      <th>4</th>\n",
       "    </tr>\n",
       "    <tr>\n",
       "      <th>Cluster</th>\n",
       "      <th></th>\n",
       "      <th></th>\n",
       "      <th></th>\n",
       "      <th></th>\n",
       "    </tr>\n",
       "  </thead>\n",
       "  <tbody>\n",
       "    <tr>\n",
       "      <th>1</th>\n",
       "      <td>152.000125</td>\n",
       "      <td>136.941739</td>\n",
       "      <td>131.944944</td>\n",
       "      <td>135.184693</td>\n",
       "    </tr>\n",
       "    <tr>\n",
       "      <th>2</th>\n",
       "      <td>2.379141</td>\n",
       "      <td>4.695566</td>\n",
       "      <td>5.696355</td>\n",
       "      <td>5.176484</td>\n",
       "    </tr>\n",
       "  </tbody>\n",
       "</table>\n",
       "</div>"
      ],
      "text/plain": [
       "Categories_transactions           1           2           3           4\n",
       "Cluster                                                                \n",
       "1                        152.000125  136.941739  131.944944  135.184693\n",
       "2                          2.379141    4.695566    5.696355    5.176484"
      ]
     },
     "execution_count": 122,
     "metadata": {},
     "output_type": "execute_result"
    }
   ],
   "source": [
    "#Pivot table for Average of transactions divided into 4 categories based on quantiles (values are in percentage format)\n",
    "table = data1.pivot_table('Average_of_transactions', ['Cluster'], ['Categories_transactions'], aggfunc={'Categories_transactions':'count'})\n",
    "table[0:1] = (table[0:1]/127942)*100\n",
    "table[1:2] = (table[1:2]/711139)*100\n",
    "table"
   ]
  },
  {
   "cell_type": "markdown",
   "id": "af4b8e20-d898-4499-b57b-29ab5a65ebff",
   "metadata": {},
   "source": [
    "#### 2.4.5 Interpret the results for each pivot table."
   ]
  },
  {
   "cell_type": "markdown",
   "id": "f5fc6ec1-6cd8-43b8-87bc-b9fd95b8161f",
   "metadata": {},
   "source": [
    "Each value in the pivot table represents the percentage of each category of a variable in the cluster of the corresponding row. For example, in the last pivot table, 31.39% is the percentage of values of the variable 'Utilisation' which are in the third category (in our case between the second and third quartile beacuse we splitted the column values based on the quartiles) and in the first cluster. As we can easily calculate the sum of each row is 100 which means that every element of each cluster belongs to a category."
   ]
  },
  {
   "cell_type": "markdown",
   "id": "15ddc672-6b63-4527-9c57-13a69f11201d",
   "metadata": {},
   "source": [
    "#### 2.4.6 Use any known metrics to estimate clustering algorithm performance (how good are the clusters you found?)."
   ]
  },
  {
   "cell_type": "markdown",
   "id": "d7531820-7335-47e9-ab13-deac788b28a8",
   "metadata": {},
   "source": [
    "The silhouette Coefficient is the most popular evaluation metrics for clustering algorithms. The formula is the following one: $$s = \\frac{b-a}{max(b-a)}$$ <br> where **a** is the mean distance between a sample and all other points in the same cluster while **b** is the mean distance between a sample and all other points in the next nearest cluster. <br> The score is bounded between $[-1, 1]$ where -1 means incorrect clustering and 1 means highly dense and wellseparated clusters. 0 means overlapping clusters. "
   ]
  },
  {
   "cell_type": "code",
   "execution_count": 123,
   "id": "69f3b7e1-3bdb-4c61-800c-123263a6915e",
   "metadata": {},
   "outputs": [],
   "source": [
    "from sklearn.metrics import silhouette_score"
   ]
  },
  {
   "cell_type": "code",
   "execution_count": 124,
   "id": "427629e3-4985-46ff-8a82-925e4649ebc6",
   "metadata": {},
   "outputs": [
    {
     "data": {
      "text/plain": [
       "0.156338155533594"
      ]
     },
     "execution_count": 124,
     "metadata": {},
     "output_type": "execute_result"
    }
   ],
   "source": [
    "silhouette_score(data, kmeans.labels_, metric='euclidean',sample_size=100000)"
   ]
  },
  {
   "cell_type": "markdown",
   "id": "1a21a39a-aa08-4beb-8b50-1da98da4eb2c",
   "metadata": {},
   "source": [
    "# Theorical Question"
   ]
  },
  {
   "cell_type": "markdown",
   "id": "a54e8bf1-8525-4909-b3d7-9e039fea881e",
   "metadata": {},
   "source": [
    "N = number of entrances \n",
    "\n",
    "M = number of students\n",
    "\n",
    "G = number of guards "
   ]
  },
  {
   "cell_type": "code",
   "execution_count": 220,
   "id": "fd0ddf58-e011-4a12-a90a-9c6248c6069a",
   "metadata": {},
   "outputs": [
    {
     "name": "stdin",
     "output_type": "stream",
     "text": [
      " 2 5 1\n"
     ]
    }
   ],
   "source": [
    "N, M, G = map(int, input().split())"
   ]
  },
  {
   "cell_type": "markdown",
   "id": "c4daad37-d53f-425c-b2e0-521304a8c4a2",
   "metadata": {},
   "source": [
    "Ordered list containing, for each student, the number of the door through which he enters"
   ]
  },
  {
   "cell_type": "code",
   "execution_count": 221,
   "id": "bd35aead-e202-4002-a91b-c82b3256e009",
   "metadata": {},
   "outputs": [
    {
     "name": "stdin",
     "output_type": "stream",
     "text": [
      " 1 2 1 2 2\n"
     ]
    }
   ],
   "source": [
    "lst = list(map(int, input().split()))"
   ]
  },
  {
   "cell_type": "markdown",
   "id": "f73ca361-3b67-4c70-976f-221299ce50f4",
   "metadata": {},
   "source": [
    "If the number of guards is greater or equal than the number of entrances then the output is 'YES'. There are enough guards to control all entrances.\n",
    "\n",
    "Else I count how many students enter from each entrance and I save them in a dictionary 'd'. For each element i in the list, I count how many students enter from the entrances whose number appears between element 0 and element i (included) of the list. If for no entrance this number coincides with the one calculated previously (the values of the dictionary 'd'), it means that at least one student from all the entries considered have yet to enter. Whenever I have a new entrance on the list and students who have to enter from each of the previous entrances are not finished I assign a new guard. When the number of guards I should assign exceeds the number of guards I have available the output is 'NO'. If control remains equal to 1 it means that I have enough guards to let all the students in and so the output is 'YES'."
   ]
  },
  {
   "cell_type": "code",
   "execution_count": 222,
   "id": "33f3e03d-13f2-4d50-acc1-410c916b5059",
   "metadata": {},
   "outputs": [
    {
     "name": "stdout",
     "output_type": "stream",
     "text": [
      "NO\n"
     ]
    }
   ],
   "source": [
    "if (G>=N):\n",
    "    print('YES')\n",
    "else:\n",
    "    d = Counter(lst)\n",
    "    control=1\n",
    "    for i in range(len(lst)):\n",
    "        g=0\n",
    "        c=Counter(lst[:i+1])\n",
    "        for k in c.keys():\n",
    "            if (d[k]!=c[k]):\n",
    "                g+=1\n",
    "        if (g>G):\n",
    "            print('NO')\n",
    "            control=0\n",
    "            break\n",
    "    if control:\n",
    "        print('YES')\n",
    "        "
   ]
  }
 ],
 "metadata": {
  "kernelspec": {
   "display_name": "conda_python3",
   "language": "python",
   "name": "conda_python3"
  },
  "language_info": {
   "codemirror_mode": {
    "name": "ipython",
    "version": 3
   },
   "file_extension": ".py",
   "mimetype": "text/x-python",
   "name": "python",
   "nbconvert_exporter": "python",
   "pygments_lexer": "ipython3",
   "version": "3.8.12"
  }
 },
 "nbformat": 4,
 "nbformat_minor": 5
}
